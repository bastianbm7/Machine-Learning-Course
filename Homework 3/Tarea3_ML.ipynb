{
 "cells": [
  {
   "cell_type": "markdown",
   "id": "8b07832b-20fc-41b0-a856-61466758b5e7",
   "metadata": {},
   "source": [
    "#### Tarea 3: Machine Learning\n",
    "### Universidad de Valparaíso\n",
    "## Alumno: Bastián Barraza\n",
    "## Profesor: Alejandro Pereira"
   ]
  },
  {
   "cell_type": "code",
   "execution_count": 1,
   "id": "69654b69-da35-4c7c-8a52-e5a65a35d5d9",
   "metadata": {},
   "outputs": [],
   "source": [
    "import pandas as pd\n",
    "import numpy as np\n",
    "import matplotlib.pyplot as plt\n",
    "\n",
    "from sklearn.linear_model import LogisticRegression\n",
    "from sklearn.model_selection import train_test_split\n",
    "from sklearn.metrics import mean_squared_error, r2_score\n",
    "from sklearn.svm import SVR\n",
    "import sklearn.metrics as sk_metrics\n",
    "from sklearn.metrics import accuracy_score\n",
    "from sklearn.metrics import confusion_matrix, classification_report\n",
    "from sklearn.model_selection import cross_val_score\n",
    "from scipy.special import expit\n",
    "from sklearn.naive_bayes import GaussianNB\n",
    "from sklearn.metrics import roc_curve, auc\n",
    "from sklearn.metrics import precision_score, recall_score, f1_score\n",
    "from sklearn.discriminant_analysis import LinearDiscriminantAnalysis\n",
    "from sklearn.discriminant_analysis import QuadraticDiscriminantAnalysis\n",
    "from sklearn.preprocessing import RobustScaler\n",
    "\n",
    "from sklearn.preprocessing import StandardScaler"
   ]
  },
  {
   "cell_type": "code",
   "execution_count": 2,
   "id": "4fb67f3c-baba-4f13-82ba-1ea9f9de401b",
   "metadata": {},
   "outputs": [],
   "source": [
    "df = pd.read_csv(\"https://raw.githubusercontent.com/bastianbm7/Machine-Learning-Course/main/Data/data.csv\")"
   ]
  },
  {
   "cell_type": "markdown",
   "id": "44c402a6-9e5c-405e-8bec-9ecf776a59ed",
   "metadata": {},
   "source": [
    "### Comparar regression logística, SVM, Naïve Bayes, LDA y QDA usando las métricas de desmpeño correspondientes. Hacer un código con comentarios y analysis."
   ]
  },
  {
   "cell_type": "markdown",
   "id": "f721ba89-3604-47e5-94cc-dc955aa3aec9",
   "metadata": {},
   "source": [
    "#### Limpieza de datos:"
   ]
  },
  {
   "cell_type": "markdown",
   "id": "068293b2-1c3e-4ddf-80c9-13f683924a36",
   "metadata": {},
   "source": [
    "Primero se realiza la limpieza de datos. Para garantizar la limpieza se abordarán los siguientes puntos:"
   ]
  },
  {
   "cell_type": "markdown",
   "id": "a3a51c44-a1a2-4868-ab99-54277d223119",
   "metadata": {},
   "source": [
    "1) Renombrar columnas.\n",
    "2) Reemplazar valores mal ingresados.\n",
    "3) Eliminar columnas que no se utilizarán.\n",
    "4) Eliminar valores perdidos."
   ]
  },
  {
   "cell_type": "code",
   "execution_count": 3,
   "id": "54d0723e-8f90-446f-91b4-93143c4e6748",
   "metadata": {},
   "outputs": [
    {
     "data": {
      "text/plain": [
       "(261, 11)"
      ]
     },
     "execution_count": 3,
     "metadata": {},
     "output_type": "execute_result"
    }
   ],
   "source": [
    "df.rename(columns = {'num       ': 'attack'}, inplace = True) \n",
    "df.replace(\"?\", np.nan, inplace = True)\n",
    "df.drop(columns = ['slope', 'ca', 'thal'], inplace = True)\n",
    "df.dropna(inplace= True)\n",
    "df.shape"
   ]
  },
  {
   "cell_type": "code",
   "execution_count": 4,
   "id": "e3687912-56a1-48ea-87c5-0794e3c89731",
   "metadata": {},
   "outputs": [
    {
     "data": {
      "text/plain": [
       "age         0\n",
       "sex         0\n",
       "cp          0\n",
       "trestbps    0\n",
       "chol        0\n",
       "fbs         0\n",
       "restecg     0\n",
       "thalach     0\n",
       "exang       0\n",
       "oldpeak     0\n",
       "attack      0\n",
       "dtype: int64"
      ]
     },
     "execution_count": 4,
     "metadata": {},
     "output_type": "execute_result"
    }
   ],
   "source": [
    "# Valores perdidos:\n",
    "df.isnull().sum()"
   ]
  },
  {
   "cell_type": "code",
   "execution_count": 5,
   "id": "5625c75f-f04f-4d8a-8de8-6bd2bf4b233b",
   "metadata": {},
   "outputs": [
    {
     "data": {
      "text/plain": [
       "array(['0', '1'], dtype=object)"
      ]
     },
     "execution_count": 5,
     "metadata": {},
     "output_type": "execute_result"
    }
   ],
   "source": [
    "df['exang'].unique()"
   ]
  },
  {
   "cell_type": "markdown",
   "id": "58e74a98-d98d-46d0-b3cb-8394bd7e9ac2",
   "metadata": {},
   "source": [
    "Notamos que no existen luego de realizar la limpieza, no existen datos perdidos y todos los datos tienen una estructura consistente. "
   ]
  },
  {
   "cell_type": "markdown",
   "id": "820b4c4a-0098-4713-bda5-a4d8c017ecec",
   "metadata": {},
   "source": [
    "#### Definir variables"
   ]
  },
  {
   "cell_type": "markdown",
   "id": "31fb3ff6-dd66-4f34-96d0-27964317f37a",
   "metadata": {},
   "source": [
    "Ahora, se busca separar nuestro variable de respuesta de las demás covariables. En este caso, la variable de respuesta es la presencia de angina luego de realizar ejercisio físico (denotada como exang en el conjunto de datos)."
   ]
  },
  {
   "cell_type": "code",
   "execution_count": 6,
   "id": "73f34f80-1c76-4b57-907f-bb3277076384",
   "metadata": {},
   "outputs": [],
   "source": [
    "y = df['exang']\n",
    "x = df.drop(['exang'], axis=1)\n"
   ]
  },
  {
   "cell_type": "markdown",
   "id": "36893dde-9c51-4853-97d2-e43a6fa2c2e7",
   "metadata": {},
   "source": [
    "#### Separar variables de prueba y entrenamiento:"
   ]
  },
  {
   "cell_type": "markdown",
   "id": "90c23977-2fd8-499e-98e9-0c48225682bb",
   "metadata": {},
   "source": [
    "Luego, serparamos el conjunto de datos en 70% entrenamiento y 30% prueba."
   ]
  },
  {
   "cell_type": "code",
   "execution_count": 7,
   "id": "6bc738cb-e3b4-4153-a987-eef78c3f5be6",
   "metadata": {},
   "outputs": [],
   "source": [
    "random_seed = 1\n",
    "x_train, x_test, y_train, y_test = train_test_split(x, y, test_size=0.3, random_state=0)"
   ]
  },
  {
   "cell_type": "markdown",
   "id": "d8e487db-b66c-401e-9a40-b0d839f6e031",
   "metadata": {},
   "source": [
    "#### Estandarizar datos"
   ]
  },
  {
   "cell_type": "markdown",
   "id": "0054c314-75e5-4528-ab73-1a1297d7c415",
   "metadata": {},
   "source": [
    "Luego, se busca estandarizar los datos. Este paso puede mejorar la interpretación de los datos y hacer que las comparaciones sean más significativas.\n",
    "\n",
    "Además, la estandarización de los datos de muestra es útil porque puede ayudar a reducir la influencia de valores atípicos en los datos y mejorar la comparabilidad entre diferentes variables. \n",
    "\n",
    "En este caso, se utiliza la función fit_transform() para ajustar un objeto RobustScaler a los datos de entrenamiento y, a continuación, aplicar la transformación a los datos de entrenamiento para obtener un conjunto de datos escalados."
   ]
  },
  {
   "cell_type": "code",
   "execution_count": 8,
   "id": "d40b5123-e2c8-4236-a514-1527823e04e6",
   "metadata": {},
   "outputs": [],
   "source": [
    "scaler = RobustScaler()\n",
    "x_train = scaler.fit_transform(x_train)\n",
    "x_test = scaler.transform(x_test)"
   ]
  },
  {
   "cell_type": "markdown",
   "id": "46a1dc48-e753-4c00-a079-ca56a45c6981",
   "metadata": {},
   "source": [
    "#### 1.- Regresion Logística:"
   ]
  },
  {
   "cell_type": "code",
   "execution_count": 9,
   "id": "8eb9d593-b739-4fb4-9eb8-ebc701a380bb",
   "metadata": {},
   "outputs": [
    {
     "data": {
      "text/plain": [
       "LogisticRegression()"
      ]
     },
     "execution_count": 9,
     "metadata": {},
     "output_type": "execute_result"
    }
   ],
   "source": [
    "model = LogisticRegression()\n",
    "model.fit(x_train, y_train)"
   ]
  },
  {
   "cell_type": "markdown",
   "id": "c22564b7-6b9c-47dc-abce-281dd60e9a5e",
   "metadata": {},
   "source": [
    "#### Métricas de desempeño:"
   ]
  },
  {
   "cell_type": "code",
   "execution_count": 10,
   "id": "ae3ef0cd-25e2-4410-82a7-4dd4b843da30",
   "metadata": {},
   "outputs": [
    {
     "name": "stdout",
     "output_type": "stream",
     "text": [
      "MSE: 0.16455696202531644\n",
      "R²: 0.23925925925925906\n"
     ]
    }
   ],
   "source": [
    "y_pred = model.predict(x_test)\n",
    "\n",
    "mse = mean_squared_error(y_test, y_pred)\n",
    "r2 = r2_score(y_test, y_pred)\n",
    "\n",
    "print(\"MSE:\", mse)\n",
    "print(\"R²:\", r2)"
   ]
  },
  {
   "cell_type": "markdown",
   "id": "b643a603-ca55-4aed-88cc-f18ab7354973",
   "metadata": {},
   "source": [
    "#### Cross-Validation:"
   ]
  },
  {
   "cell_type": "code",
   "execution_count": 11,
   "id": "5d5ca552-b621-49fc-b9d8-664b406b8474",
   "metadata": {},
   "outputs": [],
   "source": [
    "scores = cross_val_score(model, x_train, y_train, cv=5)"
   ]
  },
  {
   "cell_type": "code",
   "execution_count": 12,
   "id": "52ebe2e3-b87d-4852-be28-f73d120600fc",
   "metadata": {},
   "outputs": [
    {
     "data": {
      "text/plain": [
       "array([0.97297297, 0.89189189, 0.88888889, 0.83333333, 0.80555556])"
      ]
     },
     "execution_count": 12,
     "metadata": {},
     "output_type": "execute_result"
    }
   ],
   "source": [
    "scores"
   ]
  },
  {
   "cell_type": "code",
   "execution_count": 13,
   "id": "60289897-319c-46dd-b0a6-d012e24ed609",
   "metadata": {},
   "outputs": [
    {
     "data": {
      "text/plain": [
       "0.8785285285285285"
      ]
     },
     "execution_count": 13,
     "metadata": {},
     "output_type": "execute_result"
    }
   ],
   "source": [
    "scores.mean()"
   ]
  },
  {
   "cell_type": "code",
   "execution_count": 14,
   "id": "caa0c26b-cdb4-4d8f-9bca-970cbf78db73",
   "metadata": {},
   "outputs": [
    {
     "data": {
      "text/plain": [
       "0.057573136247461104"
      ]
     },
     "execution_count": 14,
     "metadata": {},
     "output_type": "execute_result"
    }
   ],
   "source": [
    "scores.std()"
   ]
  },
  {
   "cell_type": "markdown",
   "id": "052a9090-44c4-4ae4-b1c3-131a3749370e",
   "metadata": {},
   "source": [
    "#### 2.- SVM: "
   ]
  },
  {
   "cell_type": "code",
   "execution_count": 15,
   "id": "ed421818-d34d-4eb3-8fd3-9937d3ab4d93",
   "metadata": {},
   "outputs": [
    {
     "data": {
      "text/plain": [
       "SVR(kernel='linear')"
      ]
     },
     "execution_count": 15,
     "metadata": {},
     "output_type": "execute_result"
    }
   ],
   "source": [
    "model = SVR(kernel='linear')\n",
    "model.fit(x_train, y_train)"
   ]
  },
  {
   "cell_type": "markdown",
   "id": "4b35d9d7-d0d1-42da-bac5-5efee53a12cb",
   "metadata": {
    "tags": []
   },
   "source": [
    "#### Métricas de desempeño"
   ]
  },
  {
   "cell_type": "code",
   "execution_count": 16,
   "id": "6275ed26-1144-40f7-874e-7b0b04585119",
   "metadata": {},
   "outputs": [
    {
     "name": "stdout",
     "output_type": "stream",
     "text": [
      "MSE: 0.1582552901749002\n",
      "R²: 0.2683916548284797\n"
     ]
    }
   ],
   "source": [
    "y_pred = model.predict(x_test)\n",
    "\n",
    "mse = mean_squared_error(y_test, y_pred)\n",
    "r2 = r2_score(y_test, y_pred)\n",
    "\n",
    "print(\"MSE:\", mse)\n",
    "print(\"R²:\", r2)"
   ]
  },
  {
   "cell_type": "markdown",
   "id": "5085d9af-236d-4f23-a9e7-6de96f0e4ff2",
   "metadata": {},
   "source": [
    "#### Cross-Validation:"
   ]
  },
  {
   "cell_type": "code",
   "execution_count": 17,
   "id": "7146550f-19a3-4ca6-be35-5c53d51a54dd",
   "metadata": {},
   "outputs": [],
   "source": [
    "scores = cross_val_score(model, x_train, y_train, cv=5)"
   ]
  },
  {
   "cell_type": "code",
   "execution_count": 18,
   "id": "4157f46e-3b74-4be1-b4a0-e926071a617d",
   "metadata": {},
   "outputs": [
    {
     "data": {
      "text/plain": [
       "array([0.69089107, 0.58405009, 0.47991052, 0.38444358, 0.46557812])"
      ]
     },
     "execution_count": 18,
     "metadata": {},
     "output_type": "execute_result"
    }
   ],
   "source": [
    "scores"
   ]
  },
  {
   "cell_type": "code",
   "execution_count": 19,
   "id": "7c32a5da-6f5c-480a-b302-01d0364e3285",
   "metadata": {},
   "outputs": [
    {
     "data": {
      "text/plain": [
       "0.5209746758340791"
      ]
     },
     "execution_count": 19,
     "metadata": {},
     "output_type": "execute_result"
    }
   ],
   "source": [
    "scores.mean()"
   ]
  },
  {
   "cell_type": "code",
   "execution_count": 20,
   "id": "f46c76f1-8bef-4d0b-ad31-1b7ff6c02af4",
   "metadata": {},
   "outputs": [
    {
     "data": {
      "text/plain": [
       "0.10606212718256793"
      ]
     },
     "execution_count": 20,
     "metadata": {},
     "output_type": "execute_result"
    }
   ],
   "source": [
    "scores.std()"
   ]
  },
  {
   "cell_type": "markdown",
   "id": "30b58810-ee0b-4c01-9c73-be91948f5fb1",
   "metadata": {},
   "source": [
    "#### 3.- Naive Bayes:"
   ]
  },
  {
   "cell_type": "code",
   "execution_count": 21,
   "id": "e036271a-a905-400f-892a-403de461c815",
   "metadata": {},
   "outputs": [
    {
     "data": {
      "text/plain": [
       "GaussianNB()"
      ]
     },
     "execution_count": 21,
     "metadata": {},
     "output_type": "execute_result"
    }
   ],
   "source": [
    "model = GaussianNB()\n",
    "model.fit(x_train, y_train)"
   ]
  },
  {
   "cell_type": "markdown",
   "id": "2ee19bcf-33ef-4d5f-bcdf-956d9be54a35",
   "metadata": {
    "tags": []
   },
   "source": [
    "#### Matríz de confusión"
   ]
  },
  {
   "cell_type": "markdown",
   "id": "ae27cbc9-674a-4ba1-bc2e-23c8a2063d90",
   "metadata": {
    "tags": []
   },
   "source": [
    "#### Métricas de desempeño"
   ]
  },
  {
   "cell_type": "code",
   "execution_count": 29,
   "id": "d0a61089-74ef-4fdc-9150-b803213fa397",
   "metadata": {},
   "outputs": [
    {
     "name": "stdout",
     "output_type": "stream",
     "text": [
      "Informe de clasificación:\n",
      "              precision    recall  f1-score   support\n",
      "\n",
      "           0       0.88      0.85      0.87        54\n",
      "           1       0.70      0.76      0.73        25\n",
      "\n",
      "    accuracy                           0.82        79\n",
      "   macro avg       0.79      0.81      0.80        79\n",
      "weighted avg       0.83      0.82      0.82        79\n",
      "\n"
     ]
    }
   ],
   "source": [
    "class_report = classification_report(y_test, y_pred)\n",
    "\n",
    "print('Informe de clasificación:')\n",
    "print(class_report)"
   ]
  },
  {
   "cell_type": "markdown",
   "id": "dd8479a3-e766-480b-b6b9-8a6ac3b077dd",
   "metadata": {
    "tags": []
   },
   "source": [
    "#### Cross-Validation:"
   ]
  },
  {
   "cell_type": "code",
   "execution_count": 23,
   "id": "81e5eaf7-c024-4a0f-9393-df8f43460e1c",
   "metadata": {},
   "outputs": [],
   "source": [
    "scores = cross_val_score(model, x_train, y_train, cv=5)"
   ]
  },
  {
   "cell_type": "code",
   "execution_count": null,
   "id": "f7d647db-9407-41a7-bb40-bb9fce885b60",
   "metadata": {},
   "outputs": [],
   "source": [
    "scores"
   ]
  },
  {
   "cell_type": "code",
   "execution_count": null,
   "id": "8a2eaaf8-6174-4c3f-8978-ec7a0a165e1d",
   "metadata": {},
   "outputs": [],
   "source": [
    "scores.mean()"
   ]
  },
  {
   "cell_type": "code",
   "execution_count": null,
   "id": "50cdd2cf-d415-4a97-a958-704a9823f63e",
   "metadata": {},
   "outputs": [],
   "source": [
    "scores.std()"
   ]
  },
  {
   "cell_type": "markdown",
   "id": "789115ab-97cc-4cd5-8562-941a55708b39",
   "metadata": {},
   "source": [
    "#### 4.- LDA"
   ]
  },
  {
   "cell_type": "code",
   "execution_count": 24,
   "id": "fae4fe8c-7736-4c5b-ad4a-d644a72edbf4",
   "metadata": {},
   "outputs": [
    {
     "data": {
      "text/plain": [
       "LinearDiscriminantAnalysis()"
      ]
     },
     "execution_count": 24,
     "metadata": {},
     "output_type": "execute_result"
    }
   ],
   "source": [
    "lda = LinearDiscriminantAnalysis()\n",
    "lda.fit(x_train, y_train)\n"
   ]
  },
  {
   "cell_type": "markdown",
   "id": "0feef017-a331-491f-b179-6e0e384b1f4d",
   "metadata": {},
   "source": [
    "#### Matríz de confusión"
   ]
  },
  {
   "cell_type": "code",
   "execution_count": 25,
   "id": "83abe418-969a-49d6-9f0e-c2ac1c0c57cb",
   "metadata": {},
   "outputs": [
    {
     "name": "stdout",
     "output_type": "stream",
     "text": [
      "Accuracy: 0.8227848101265823\n",
      "Confusion matrix:\n",
      " [[46  8]\n",
      " [ 6 19]]\n"
     ]
    }
   ],
   "source": [
    "y_pred = lda.predict(x_test)\n",
    "\n",
    "print('Accuracy:', accuracy_score(y_test, y_pred))\n",
    "print('Confusion matrix:\\n', confusion_matrix(y_test, y_pred))"
   ]
  },
  {
   "cell_type": "markdown",
   "id": "e75267ba-f8d7-43ed-b15f-e22976f512ce",
   "metadata": {},
   "source": [
    "#### Métricas de desempeño"
   ]
  },
  {
   "cell_type": "code",
   "execution_count": 28,
   "id": "e3dd483a-0c49-4c48-bcc7-0e092e11bf3c",
   "metadata": {},
   "outputs": [
    {
     "name": "stdout",
     "output_type": "stream",
     "text": [
      "Informe de clasificación:\n",
      "              precision    recall  f1-score   support\n",
      "\n",
      "           0       0.88      0.85      0.87        54\n",
      "           1       0.70      0.76      0.73        25\n",
      "\n",
      "    accuracy                           0.82        79\n",
      "   macro avg       0.79      0.81      0.80        79\n",
      "weighted avg       0.83      0.82      0.82        79\n",
      "\n"
     ]
    }
   ],
   "source": [
    "class_report = classification_report(y_test, y_pred)\n",
    "\n",
    "print('Informe de clasificación:')\n",
    "print(class_report)"
   ]
  },
  {
   "cell_type": "markdown",
   "id": "2fb04d41-d90f-4e1b-8c2f-5315abdf8f3c",
   "metadata": {},
   "source": [
    "#### Cross-Validation:"
   ]
  },
  {
   "cell_type": "code",
   "execution_count": 27,
   "id": "f727f5b1-5011-4064-816c-07e6b84b5034",
   "metadata": {},
   "outputs": [],
   "source": [
    "scores = cross_val_score(lda, x_train, y_train, cv=5)"
   ]
  },
  {
   "cell_type": "code",
   "execution_count": null,
   "id": "6ca58d65-396f-4f5c-b165-d23f5e7c4b93",
   "metadata": {},
   "outputs": [],
   "source": [
    "scores"
   ]
  },
  {
   "cell_type": "code",
   "execution_count": null,
   "id": "a096f6ad-835e-4dec-9595-63c79d73c957",
   "metadata": {},
   "outputs": [],
   "source": [
    "scores.mean()"
   ]
  },
  {
   "cell_type": "code",
   "execution_count": null,
   "id": "d0ec4b53-44dc-477e-a14e-c8db898da7e7",
   "metadata": {},
   "outputs": [],
   "source": [
    "scores.std()"
   ]
  },
  {
   "cell_type": "markdown",
   "id": "ea95c6e0-72ec-4b2d-950b-984737edbc9a",
   "metadata": {
    "tags": []
   },
   "source": [
    "#### 5.- QDA"
   ]
  },
  {
   "cell_type": "code",
   "execution_count": 33,
   "id": "a9345ef2-7478-456b-b81c-63a06fd79283",
   "metadata": {},
   "outputs": [
    {
     "data": {
      "text/plain": [
       "QuadraticDiscriminantAnalysis()"
      ]
     },
     "execution_count": 33,
     "metadata": {},
     "output_type": "execute_result"
    }
   ],
   "source": [
    "qda = QuadraticDiscriminantAnalysis()\n",
    "qda.fit(x_train, y_train)"
   ]
  },
  {
   "cell_type": "markdown",
   "id": "ee5bec12-89ca-451d-9998-c91b4beb7bb5",
   "metadata": {
    "tags": []
   },
   "source": [
    "#### Matríz de confusión"
   ]
  },
  {
   "cell_type": "code",
   "execution_count": 34,
   "id": "0f4eed97-87d3-4594-b274-70d4a1bd8027",
   "metadata": {},
   "outputs": [
    {
     "name": "stdout",
     "output_type": "stream",
     "text": [
      "Accuracy: 0.7848101265822784\n",
      "Confusion matrix:\n",
      " [[43 11]\n",
      " [ 6 19]]\n"
     ]
    }
   ],
   "source": [
    "y_pred = qda.predict(x_test)\n",
    "\n",
    "print('Accuracy:', accuracy_score(y_test, y_pred))\n",
    "print('Confusion matrix:\\n', confusion_matrix(y_test, y_pred))"
   ]
  },
  {
   "cell_type": "markdown",
   "id": "4e5f889d-2836-485f-a6ba-3b3d007ac044",
   "metadata": {},
   "source": [
    "#### Métricas de desempeño"
   ]
  },
  {
   "cell_type": "code",
   "execution_count": 35,
   "id": "4592002a-1602-4397-94cd-dd10d3e5e0d1",
   "metadata": {},
   "outputs": [
    {
     "name": "stdout",
     "output_type": "stream",
     "text": [
      "Informe de clasificación:\n",
      "              precision    recall  f1-score   support\n",
      "\n",
      "           0       0.88      0.80      0.83        54\n",
      "           1       0.63      0.76      0.69        25\n",
      "\n",
      "    accuracy                           0.78        79\n",
      "   macro avg       0.76      0.78      0.76        79\n",
      "weighted avg       0.80      0.78      0.79        79\n",
      "\n"
     ]
    }
   ],
   "source": [
    "class_report = classification_report(y_test, y_pred)\n",
    "\n",
    "print('Informe de clasificación:')\n",
    "print(class_report)"
   ]
  },
  {
   "cell_type": "markdown",
   "id": "8b5aad3c-a2b5-4fcf-aa4d-25576601a921",
   "metadata": {},
   "source": [
    "#### Cross-Validation:"
   ]
  },
  {
   "cell_type": "code",
   "execution_count": 36,
   "id": "6521bf00-7891-447f-a0aa-6bd1c2d19bac",
   "metadata": {},
   "outputs": [],
   "source": [
    "scores = cross_val_score(model, x_train, y_train, cv=5)"
   ]
  },
  {
   "cell_type": "code",
   "execution_count": 37,
   "id": "3f8b3264-52e3-4090-a50e-45cb55a7061e",
   "metadata": {},
   "outputs": [
    {
     "data": {
      "text/plain": [
       "array([0.89189189, 0.83783784, 0.80555556, 0.83333333, 0.83333333])"
      ]
     },
     "execution_count": 37,
     "metadata": {},
     "output_type": "execute_result"
    }
   ],
   "source": [
    "scores"
   ]
  },
  {
   "cell_type": "code",
   "execution_count": 38,
   "id": "19705a35-73e3-4b72-9ff0-3bc29831e9bb",
   "metadata": {},
   "outputs": [
    {
     "data": {
      "text/plain": [
       "0.8403903903903904"
      ]
     },
     "execution_count": 38,
     "metadata": {},
     "output_type": "execute_result"
    }
   ],
   "source": [
    "scores.mean()"
   ]
  },
  {
   "cell_type": "code",
   "execution_count": 39,
   "id": "50363143-38d2-4bd7-b5ed-81de73ca2cae",
   "metadata": {},
   "outputs": [
    {
     "data": {
      "text/plain": [
       "0.028185066996642184"
      ]
     },
     "execution_count": 39,
     "metadata": {},
     "output_type": "execute_result"
    }
   ],
   "source": [
    "scores.std()"
   ]
  }
 ],
 "metadata": {
  "kernelspec": {
   "display_name": "Python 3 (ipykernel)",
   "language": "python",
   "name": "python3"
  },
  "language_info": {
   "codemirror_mode": {
    "name": "ipython",
    "version": 3
   },
   "file_extension": ".py",
   "mimetype": "text/x-python",
   "name": "python",
   "nbconvert_exporter": "python",
   "pygments_lexer": "ipython3",
   "version": "3.9.12"
  }
 },
 "nbformat": 4,
 "nbformat_minor": 5
}
