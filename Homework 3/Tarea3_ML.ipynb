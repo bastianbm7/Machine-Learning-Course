{
 "cells": [
  {
   "cell_type": "markdown",
   "id": "8b07832b-20fc-41b0-a856-61466758b5e7",
   "metadata": {},
   "source": [
    "#### Tarea 3: Machine Learning\n",
    "### Universidad de Valparaíso\n",
    "## Alumno: Bastián Barraza\n",
    "## Profesor: Alejandro Pereira"
   ]
  },
  {
   "cell_type": "code",
   "execution_count": 57,
   "id": "69654b69-da35-4c7c-8a52-e5a65a35d5d9",
   "metadata": {},
   "outputs": [],
   "source": [
    "import pandas as pd\n",
    "import numpy as np\n",
    "import matplotlib.pyplot as plt\n",
    "\n",
    "from sklearn.linear_model import LogisticRegression\n",
    "from sklearn.model_selection import train_test_split\n",
    "from sklearn.metrics import mean_squared_error, r2_score\n",
    "from sklearn.svm import SVR\n",
    "import sklearn.metrics as sk_metrics\n",
    "from sklearn.metrics import accuracy_score\n",
    "from sklearn.metrics import confusion_matrix, classification_report\n",
    "from sklearn.model_selection import cross_val_score\n",
    "from scipy.special import expit\n",
    "from sklearn.naive_bayes import GaussianNB\n",
    "from sklearn.metrics import roc_curve, auc\n",
    "from sklearn.metrics import precision_score, recall_score, f1_score\n",
    "from sklearn.discriminant_analysis import LinearDiscriminantAnalysis\n",
    "from sklearn.discriminant_analysis import QuadraticDiscriminantAnalysis\n",
    "\n",
    "from sklearn.preprocessing import StandardScaler"
   ]
  },
  {
   "cell_type": "code",
   "execution_count": 2,
   "id": "4fb67f3c-baba-4f13-82ba-1ea9f9de401b",
   "metadata": {},
   "outputs": [],
   "source": [
    "df = pd.read_csv(\"https://raw.githubusercontent.com/bastianbm7/Machine-Learning-Course/main/Data/data.csv\")"
   ]
  },
  {
   "cell_type": "markdown",
   "id": "44c402a6-9e5c-405e-8bec-9ecf776a59ed",
   "metadata": {},
   "source": [
    "### Comparar regression logística, SVM, Naïve Bayes, LDA y QDA usando las métricas de desmpeño correspondientes. Hacer un código con comentarios y analysis."
   ]
  },
  {
   "cell_type": "markdown",
   "id": "f721ba89-3604-47e5-94cc-dc955aa3aec9",
   "metadata": {},
   "source": [
    "#### Limpieza de datos:"
   ]
  },
  {
   "cell_type": "markdown",
   "id": "068293b2-1c3e-4ddf-80c9-13f683924a36",
   "metadata": {},
   "source": [
    "Primero se realiza la limpieza de datos. Para garantizar la limpieza se abordarán los siguientes puntos:"
   ]
  },
  {
   "cell_type": "markdown",
   "id": "a3a51c44-a1a2-4868-ab99-54277d223119",
   "metadata": {},
   "source": [
    "1) Renombrar columnas.\n",
    "2) Reemplazar valores mal ingresados.\n",
    "3) Eliminar columnas que no se utilizarán.\n",
    "4) Eliminar valores perdidos."
   ]
  },
  {
   "cell_type": "code",
   "execution_count": 3,
   "id": "54d0723e-8f90-446f-91b4-93143c4e6748",
   "metadata": {},
   "outputs": [
    {
     "data": {
      "text/plain": [
       "(261, 11)"
      ]
     },
     "execution_count": 3,
     "metadata": {},
     "output_type": "execute_result"
    }
   ],
   "source": [
    "df.rename(columns = {'num       ': 'attack'}, inplace = True) \n",
    "df.replace(\"?\", np.nan, inplace = True)\n",
    "df.drop(columns = ['slope', 'ca', 'thal'], inplace = True)\n",
    "df.dropna(inplace= True)\n",
    "df.shape"
   ]
  },
  {
   "cell_type": "code",
   "execution_count": 4,
   "id": "e3687912-56a1-48ea-87c5-0794e3c89731",
   "metadata": {},
   "outputs": [
    {
     "data": {
      "text/plain": [
       "age         0\n",
       "sex         0\n",
       "cp          0\n",
       "trestbps    0\n",
       "chol        0\n",
       "fbs         0\n",
       "restecg     0\n",
       "thalach     0\n",
       "exang       0\n",
       "oldpeak     0\n",
       "attack      0\n",
       "dtype: int64"
      ]
     },
     "execution_count": 4,
     "metadata": {},
     "output_type": "execute_result"
    }
   ],
   "source": [
    "# Valores perdidos:\n",
    "df.isnull().sum()"
   ]
  },
  {
   "cell_type": "code",
   "execution_count": 5,
   "id": "5625c75f-f04f-4d8a-8de8-6bd2bf4b233b",
   "metadata": {},
   "outputs": [
    {
     "data": {
      "text/plain": [
       "array(['0', '1'], dtype=object)"
      ]
     },
     "execution_count": 5,
     "metadata": {},
     "output_type": "execute_result"
    }
   ],
   "source": [
    "df['exang'].unique()"
   ]
  },
  {
   "cell_type": "markdown",
   "id": "58e74a98-d98d-46d0-b3cb-8394bd7e9ac2",
   "metadata": {},
   "source": [
    "Notamos que no existen luego de realizar la limpieza, no existen datos perdidos y todos los datos tienen una estructura consistente. "
   ]
  },
  {
   "cell_type": "markdown",
   "id": "820b4c4a-0098-4713-bda5-a4d8c017ecec",
   "metadata": {},
   "source": [
    "#### Definir variables"
   ]
  },
  {
   "cell_type": "markdown",
   "id": "31fb3ff6-dd66-4f34-96d0-27964317f37a",
   "metadata": {},
   "source": [
    "Ahora, se busca separar nuestro variable de respuesta de las demás covariables. En este caso, la variable de respuesta es la presencia de angina luego de realizar ejercisio físico (denotada como exang en el conjunto de datos)."
   ]
  },
  {
   "cell_type": "code",
   "execution_count": 6,
   "id": "73f34f80-1c76-4b57-907f-bb3277076384",
   "metadata": {},
   "outputs": [],
   "source": [
    "y = df['exang']\n",
    "x = df.drop(['exang'], axis=1)"
   ]
  },
  {
   "cell_type": "markdown",
   "id": "36893dde-9c51-4853-97d2-e43a6fa2c2e7",
   "metadata": {},
   "source": [
    "#### Separar variables de prueba y entrenamiento:"
   ]
  },
  {
   "cell_type": "markdown",
   "id": "90c23977-2fd8-499e-98e9-0c48225682bb",
   "metadata": {},
   "source": [
    "Luego, serparamos el conjunto de datos en 80% entrenamiento y 20% prueba."
   ]
  },
  {
   "cell_type": "code",
   "execution_count": 7,
   "id": "6bc738cb-e3b4-4153-a987-eef78c3f5be6",
   "metadata": {},
   "outputs": [],
   "source": [
    "random_seed = 1\n",
    "x_train, x_test, y_train, y_test = train_test_split(x, y, test_size=0.2, random_state=0)"
   ]
  },
  {
   "cell_type": "markdown",
   "id": "46a1dc48-e753-4c00-a079-ca56a45c6981",
   "metadata": {},
   "source": [
    "#### 1.- Regresion Logística:"
   ]
  },
  {
   "cell_type": "code",
   "execution_count": 8,
   "id": "8eb9d593-b739-4fb4-9eb8-ebc701a380bb",
   "metadata": {},
   "outputs": [
    {
     "name": "stderr",
     "output_type": "stream",
     "text": [
      "C:\\Users\\Bastian Barraza M\\anaconda3\\lib\\site-packages\\sklearn\\linear_model\\_logistic.py:814: ConvergenceWarning: lbfgs failed to converge (status=1):\n",
      "STOP: TOTAL NO. of ITERATIONS REACHED LIMIT.\n",
      "\n",
      "Increase the number of iterations (max_iter) or scale the data as shown in:\n",
      "    https://scikit-learn.org/stable/modules/preprocessing.html\n",
      "Please also refer to the documentation for alternative solver options:\n",
      "    https://scikit-learn.org/stable/modules/linear_model.html#logistic-regression\n",
      "  n_iter_i = _check_optimize_result(\n"
     ]
    },
    {
     "data": {
      "text/plain": [
       "LogisticRegression()"
      ]
     },
     "execution_count": 8,
     "metadata": {},
     "output_type": "execute_result"
    }
   ],
   "source": [
    "model = LogisticRegression()\n",
    "model.fit(x_train, y_train)"
   ]
  },
  {
   "cell_type": "code",
   "execution_count": 11,
   "id": "ccf829c7-0472-4e16-80b9-481ce8e748be",
   "metadata": {},
   "outputs": [
    {
     "name": "stdout",
     "output_type": "stream",
     "text": [
      "Precisión del modelo: 0.8113207547169812\n"
     ]
    }
   ],
   "source": [
    "y_pred = model.predict(x_test)\n",
    "accuracy = accuracy_score(y_test, y_pred)\n",
    "print(\"Precisión del modelo:\", accuracy)"
   ]
  },
  {
   "cell_type": "code",
   "execution_count": 12,
   "id": "9bddbd4e-d5af-4a48-a8a8-0849b45ad65c",
   "metadata": {},
   "outputs": [
    {
     "data": {
      "text/plain": [
       "array([[32,  5],\n",
       "       [ 5, 11]], dtype=int64)"
      ]
     },
     "execution_count": 12,
     "metadata": {},
     "output_type": "execute_result"
    }
   ],
   "source": [
    "confusion_matrix(y_test, y_pred)"
   ]
  },
  {
   "cell_type": "markdown",
   "id": "052a9090-44c4-4ae4-b1c3-131a3749370e",
   "metadata": {},
   "source": [
    "#### 2.- SVM: "
   ]
  },
  {
   "cell_type": "code",
   "execution_count": 37,
   "id": "ed421818-d34d-4eb3-8fd3-9937d3ab4d93",
   "metadata": {},
   "outputs": [
    {
     "data": {
      "text/plain": [
       "SVR(kernel='linear')"
      ]
     },
     "execution_count": 37,
     "metadata": {},
     "output_type": "execute_result"
    }
   ],
   "source": [
    "model = SVR(kernel='linear')\n",
    "model.fit(x_train, y_train)"
   ]
  },
  {
   "cell_type": "code",
   "execution_count": 38,
   "id": "ae3ef0cd-25e2-4410-82a7-4dd4b843da30",
   "metadata": {},
   "outputs": [
    {
     "name": "stdout",
     "output_type": "stream",
     "text": [
      "MSE: 0.1463920195807335\n",
      "R²: 0.305379758442094\n"
     ]
    }
   ],
   "source": [
    "y_pred = model.predict(x_test)\n",
    "\n",
    "mse = mean_squared_error(y_test, y_pred)\n",
    "r2 = r2_score(y_test, y_pred)\n",
    "\n",
    "print(\"MSE:\", mse)\n",
    "print(\"R²:\", r2)"
   ]
  },
  {
   "cell_type": "markdown",
   "id": "5085d9af-236d-4f23-a9e7-6de96f0e4ff2",
   "metadata": {},
   "source": [
    "#### Medir el rendimiento con Cross-validation"
   ]
  },
  {
   "cell_type": "code",
   "execution_count": 15,
   "id": "7146550f-19a3-4ca6-be35-5c53d51a54dd",
   "metadata": {},
   "outputs": [],
   "source": [
    "#scores = cross_val_score(model, x_train, y_train, cv=5)"
   ]
  },
  {
   "cell_type": "code",
   "execution_count": 39,
   "id": "4157f46e-3b74-4be1-b4a0-e926071a617d",
   "metadata": {},
   "outputs": [
    {
     "data": {
      "text/plain": [
       "array([0.35375425, 0.75884766, 0.37339859, 0.42852992, 0.41139044])"
      ]
     },
     "execution_count": 39,
     "metadata": {},
     "output_type": "execute_result"
    }
   ],
   "source": [
    "scores"
   ]
  },
  {
   "cell_type": "code",
   "execution_count": 40,
   "id": "7c32a5da-6f5c-480a-b302-01d0364e3285",
   "metadata": {},
   "outputs": [
    {
     "data": {
      "text/plain": [
       "0.46518417226372427"
      ]
     },
     "execution_count": 40,
     "metadata": {},
     "output_type": "execute_result"
    }
   ],
   "source": [
    "scores.mean()"
   ]
  },
  {
   "cell_type": "code",
   "execution_count": 41,
   "id": "f46c76f1-8bef-4d0b-ad31-1b7ff6c02af4",
   "metadata": {},
   "outputs": [
    {
     "data": {
      "text/plain": [
       "0.14920909251234324"
      ]
     },
     "execution_count": 41,
     "metadata": {},
     "output_type": "execute_result"
    }
   ],
   "source": [
    "scores.std()"
   ]
  },
  {
   "cell_type": "markdown",
   "id": "30b58810-ee0b-4c01-9c73-be91948f5fb1",
   "metadata": {},
   "source": [
    "#### 3.- Naive Bayes:"
   ]
  },
  {
   "cell_type": "code",
   "execution_count": 21,
   "id": "e036271a-a905-400f-892a-403de461c815",
   "metadata": {},
   "outputs": [
    {
     "data": {
      "text/plain": [
       "GaussianNB()"
      ]
     },
     "execution_count": 21,
     "metadata": {},
     "output_type": "execute_result"
    }
   ],
   "source": [
    "model = GaussianNB()\n",
    "model.fit(x_train, y_train)"
   ]
  },
  {
   "cell_type": "code",
   "execution_count": 23,
   "id": "048e9c11-f2dc-4acb-877f-1bf97fba7d38",
   "metadata": {},
   "outputs": [
    {
     "name": "stdout",
     "output_type": "stream",
     "text": [
      "Accuracy score:  0.8490566037735849\n"
     ]
    }
   ],
   "source": [
    "# Predecir la variable respuesta (y) con los datos de prueba\n",
    "y_pred = model.predict(x_test)\n",
    "\n",
    "# Evaluar el modelo usando accuracy score\n",
    "accuracy = accuracy_score(y_test, y_pred)\n",
    "print(\"Accuracy score: \", accuracy)"
   ]
  },
  {
   "cell_type": "markdown",
   "id": "789115ab-97cc-4cd5-8562-941a55708b39",
   "metadata": {},
   "source": [
    "#### 4.- LDA"
   ]
  },
  {
   "cell_type": "code",
   "execution_count": 47,
   "id": "fae4fe8c-7736-4c5b-ad4a-d644a72edbf4",
   "metadata": {},
   "outputs": [],
   "source": [
    "lda = LinearDiscriminantAnalysis()\n",
    "lda.fit(x_train, y_train)\n"
   ]
  },
  {
   "cell_type": "code",
   "execution_count": 48,
   "id": "83abe418-969a-49d6-9f0e-c2ac1c0c57cb",
   "metadata": {},
   "outputs": [
    {
     "name": "stdout",
     "output_type": "stream",
     "text": [
      "Accuracy: 0.8301886792452831\n",
      "Confusion matrix:\n",
      " [[32  5]\n",
      " [ 4 12]]\n"
     ]
    }
   ],
   "source": [
    "y_pred = lda.predict(x_test)\n",
    "\n",
    "print('Accuracy:', accuracy_score(y_test, y_pred))\n",
    "print('Confusion matrix:\\n', confusion_matrix(y_test, y_pred))"
   ]
  },
  {
   "cell_type": "markdown",
   "id": "ea95c6e0-72ec-4b2d-950b-984737edbc9a",
   "metadata": {
    "tags": []
   },
   "source": [
    "#### 5.- QDA"
   ]
  },
  {
   "cell_type": "code",
   "execution_count": 51,
   "id": "a9345ef2-7478-456b-b81c-63a06fd79283",
   "metadata": {},
   "outputs": [
    {
     "data": {
      "text/plain": [
       "QuadraticDiscriminantAnalysis()"
      ]
     },
     "execution_count": 51,
     "metadata": {},
     "output_type": "execute_result"
    }
   ],
   "source": [
    "qda = QuadraticDiscriminantAnalysis()\n",
    "qda.fit(x_train, y_train)"
   ]
  },
  {
   "cell_type": "code",
   "execution_count": 58,
   "id": "1f26bebb-3e7f-417c-9ff6-3e7d859529aa",
   "metadata": {},
   "outputs": [
    {
     "name": "stdout",
     "output_type": "stream",
     "text": [
      "Matriz de confusión:\n",
      "[[32  5]\n",
      " [ 4 12]]\n",
      "Informe de clasificación:\n",
      "              precision    recall  f1-score   support\n",
      "\n",
      "           0       0.89      0.86      0.88        37\n",
      "           1       0.71      0.75      0.73        16\n",
      "\n",
      "    accuracy                           0.83        53\n",
      "   macro avg       0.80      0.81      0.80        53\n",
      "weighted avg       0.83      0.83      0.83        53\n",
      "\n"
     ]
    }
   ],
   "source": [
    "Y_pred = qda.predict(x_test)\n",
    "\n",
    "conf_matrix = confusion_matrix(y_test, y_pred)\n",
    "class_report = classification_report(y_test, y_pred)\n",
    "\n",
    "print('Matriz de confusión:')\n",
    "print(conf_matrix)\n",
    "\n",
    "print('Informe de clasificación:')\n",
    "print(class_report)"
   ]
  }
 ],
 "metadata": {
  "kernelspec": {
   "display_name": "Python 3 (ipykernel)",
   "language": "python",
   "name": "python3"
  },
  "language_info": {
   "codemirror_mode": {
    "name": "ipython",
    "version": 3
   },
   "file_extension": ".py",
   "mimetype": "text/x-python",
   "name": "python",
   "nbconvert_exporter": "python",
   "pygments_lexer": "ipython3",
   "version": "3.9.12"
  }
 },
 "nbformat": 4,
 "nbformat_minor": 5
}
