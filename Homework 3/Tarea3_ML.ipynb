{
 "cells": [
  {
   "cell_type": "markdown",
   "id": "8b07832b-20fc-41b0-a856-61466758b5e7",
   "metadata": {},
   "source": [
    "#### Tarea 3: Machine Learning\n",
    "### Universidad de Valparaíso\n",
    "## Alumno: Bastián Barraza\n",
    "## Profesor: Alejandro Pereira"
   ]
  },
  {
   "cell_type": "code",
   "execution_count": 1,
   "id": "69654b69-da35-4c7c-8a52-e5a65a35d5d9",
   "metadata": {},
   "outputs": [],
   "source": [
    "import pandas as pd\n",
    "import numpy as np\n",
    "import matplotlib.pyplot as plt\n",
    "\n",
    "from sklearn.linear_model import LogisticRegression\n",
    "from sklearn.model_selection import train_test_split\n",
    "from sklearn.metrics import mean_squared_error, r2_score\n",
    "from sklearn.svm import SVR\n",
    "import sklearn.metrics as sk_metrics\n",
    "from sklearn.metrics import accuracy_score\n",
    "from sklearn.metrics import confusion_matrix, classification_report\n",
    "from sklearn.model_selection import cross_val_score\n",
    "from scipy.special import expit\n",
    "from sklearn.naive_bayes import GaussianNB\n",
    "from sklearn.metrics import roc_curve, auc\n",
    "from sklearn.metrics import precision_score, recall_score, f1_score\n",
    "from sklearn.discriminant_analysis import LinearDiscriminantAnalysis\n",
    "from sklearn.discriminant_analysis import QuadraticDiscriminantAnalysis\n",
    "from sklearn.preprocessing import RobustScaler\n",
    "from sklearn.naive_bayes import BernoulliNB\n",
    "\n",
    "\n",
    "from sklearn.preprocessing import StandardScaler"
   ]
  },
  {
   "cell_type": "code",
   "execution_count": 2,
   "id": "4fb67f3c-baba-4f13-82ba-1ea9f9de401b",
   "metadata": {},
   "outputs": [],
   "source": [
    "df = pd.read_csv(\"https://raw.githubusercontent.com/bastianbm7/Machine-Learning-Course/main/Data/data.csv\")"
   ]
  },
  {
   "cell_type": "markdown",
   "id": "44c402a6-9e5c-405e-8bec-9ecf776a59ed",
   "metadata": {},
   "source": [
    "### Comparar regression logística, SVM, Naïve Bayes, LDA y QDA usando las métricas de desmpeño correspondientes. Hacer un código con comentarios y analysis."
   ]
  },
  {
   "cell_type": "markdown",
   "id": "f721ba89-3604-47e5-94cc-dc955aa3aec9",
   "metadata": {},
   "source": [
    "#### Limpieza Y preprocesamiento de datos:"
   ]
  },
  {
   "cell_type": "markdown",
   "id": "068293b2-1c3e-4ddf-80c9-13f683924a36",
   "metadata": {},
   "source": [
    "Para asegurar la calidad y la precision de los modelos, primero se limpian y se procesan los datos. Para garantizar la limpieza se abordarán los siguientes puntos:"
   ]
  },
  {
   "cell_type": "markdown",
   "id": "a3a51c44-a1a2-4868-ab99-54277d223119",
   "metadata": {},
   "source": [
    "1) Renombrar columnas.\n",
    "2) Reemplazar valores mal ingresados.\n",
    "3) Eliminar columnas que no se utilizarán.\n",
    "4) Eliminar valores perdidos."
   ]
  },
  {
   "cell_type": "code",
   "execution_count": 3,
   "id": "54d0723e-8f90-446f-91b4-93143c4e6748",
   "metadata": {},
   "outputs": [
    {
     "data": {
      "text/plain": [
       "(261, 11)"
      ]
     },
     "execution_count": 3,
     "metadata": {},
     "output_type": "execute_result"
    }
   ],
   "source": [
    "df.rename(columns = {'num       ': 'attack'}, inplace = True) \n",
    "df.replace(\"?\", np.nan, inplace = True)\n",
    "df.drop(columns = ['slope', 'ca', 'thal'], inplace = True)\n",
    "df.dropna(inplace= True)\n",
    "df.shape"
   ]
  },
  {
   "cell_type": "code",
   "execution_count": 4,
   "id": "e3687912-56a1-48ea-87c5-0794e3c89731",
   "metadata": {},
   "outputs": [
    {
     "data": {
      "text/plain": [
       "age         0\n",
       "sex         0\n",
       "cp          0\n",
       "trestbps    0\n",
       "chol        0\n",
       "fbs         0\n",
       "restecg     0\n",
       "thalach     0\n",
       "exang       0\n",
       "oldpeak     0\n",
       "attack      0\n",
       "dtype: int64"
      ]
     },
     "execution_count": 4,
     "metadata": {},
     "output_type": "execute_result"
    }
   ],
   "source": [
    "# Valores perdidos:\n",
    "df.isnull().sum()"
   ]
  },
  {
   "cell_type": "code",
   "execution_count": 5,
   "id": "5625c75f-f04f-4d8a-8de8-6bd2bf4b233b",
   "metadata": {},
   "outputs": [
    {
     "data": {
      "text/plain": [
       "array(['0', '1'], dtype=object)"
      ]
     },
     "execution_count": 5,
     "metadata": {},
     "output_type": "execute_result"
    }
   ],
   "source": [
    "df['exang'].unique()"
   ]
  },
  {
   "cell_type": "markdown",
   "id": "58e74a98-d98d-46d0-b3cb-8394bd7e9ac2",
   "metadata": {},
   "source": [
    "Notamos que no existen luego de realizar la limpieza, no existen datos perdidos y todos los datos tienen una estructura consistente. "
   ]
  },
  {
   "cell_type": "markdown",
   "id": "820b4c4a-0098-4713-bda5-a4d8c017ecec",
   "metadata": {},
   "source": [
    "#### Definir variables"
   ]
  },
  {
   "cell_type": "markdown",
   "id": "31fb3ff6-dd66-4f34-96d0-27964317f37a",
   "metadata": {},
   "source": [
    "Ahora, se busca separar nuestro variable de respuesta de las demás covariables. En este caso, la variable de respuesta es la presencia de angina luego de realizar ejercisio físico (denotada como exang en el conjunto de datos)."
   ]
  },
  {
   "cell_type": "code",
   "execution_count": 6,
   "id": "73f34f80-1c76-4b57-907f-bb3277076384",
   "metadata": {},
   "outputs": [],
   "source": [
    "y = df['exang']\n",
    "x = df.drop(['exang'], axis=1)"
   ]
  },
  {
   "cell_type": "markdown",
   "id": "36893dde-9c51-4853-97d2-e43a6fa2c2e7",
   "metadata": {},
   "source": [
    "#### Separar variables de prueba y entrenamiento:"
   ]
  },
  {
   "cell_type": "markdown",
   "id": "90c23977-2fd8-499e-98e9-0c48225682bb",
   "metadata": {},
   "source": [
    "Luego, serparamos el conjunto de datos en 70% entrenamiento y 30% prueba."
   ]
  },
  {
   "cell_type": "code",
   "execution_count": 7,
   "id": "6bc738cb-e3b4-4153-a987-eef78c3f5be6",
   "metadata": {},
   "outputs": [],
   "source": [
    "random_seed = 1\n",
    "x_train, x_test, y_train, y_test = train_test_split(x, y, test_size=0.3, random_state=0)\n"
   ]
  },
  {
   "cell_type": "markdown",
   "id": "d8e487db-b66c-401e-9a40-b0d839f6e031",
   "metadata": {},
   "source": [
    "#### Estandarizar datos"
   ]
  },
  {
   "cell_type": "markdown",
   "id": "0054c314-75e5-4528-ab73-1a1297d7c415",
   "metadata": {},
   "source": [
    "Luego, se busca estandarizar los datos. Este paso puede mejorar la interpretación de los datos y hacer que las comparaciones sean más significativas.\n",
    "\n",
    "Además, la estandarización de los datos de muestra es útil porque puede ayudar a reducir la influencia de valores atípicos en los datos y mejorar la comparabilidad entre diferentes variables. \n",
    "\n",
    "En este caso, se utiliza la función fit_transform() para ajustar un objeto RobustScaler a los datos de entrenamiento y, a continuación, aplicar la transformación a los datos de entrenamiento para obtener un conjunto de datos escalados."
   ]
  },
  {
   "cell_type": "code",
   "execution_count": 8,
   "id": "d40b5123-e2c8-4236-a514-1527823e04e6",
   "metadata": {},
   "outputs": [],
   "source": [
    "scaler = RobustScaler()\n",
    "x_train = scaler.fit_transform(x_train)\n",
    "x_test = scaler.transform(x_test)"
   ]
  },
  {
   "cell_type": "markdown",
   "id": "46a1dc48-e753-4c00-a079-ca56a45c6981",
   "metadata": {},
   "source": [
    "#### 1.- Regresion Logística:"
   ]
  },
  {
   "cell_type": "markdown",
   "id": "6b29eb9e-7965-404c-b99e-1a9902c37941",
   "metadata": {},
   "source": [
    "Luego, se aplica el modelo de regresión logística con la librería sckit-learn. En nuestro caso, la variable respuesta es de tipo binaria, dado que solo existe la posibilidad de que el usuario (a) presente angina o no. Con el modelo de regresión se busca predecir la probabilidad de que se observe angina en los usuarios luego de realizar ejercisio físico, a partir de un conjunto de variables explicativas o características.\n"
   ]
  },
  {
   "cell_type": "code",
   "execution_count": 9,
   "id": "8eb9d593-b739-4fb4-9eb8-ebc701a380bb",
   "metadata": {},
   "outputs": [
    {
     "data": {
      "text/plain": [
       "LogisticRegression()"
      ]
     },
     "execution_count": 9,
     "metadata": {},
     "output_type": "execute_result"
    }
   ],
   "source": [
    "model = LogisticRegression()\n",
    "model.fit(x_train, y_train)\n"
   ]
  },
  {
   "cell_type": "markdown",
   "id": "74e8e549-76d9-41ea-ba79-020185e3c2b9",
   "metadata": {},
   "source": [
    "#### Matríz de confusión"
   ]
  },
  {
   "cell_type": "code",
   "execution_count": 10,
   "id": "ae3ef0cd-25e2-4410-82a7-4dd4b843da30",
   "metadata": {},
   "outputs": [
    {
     "name": "stdout",
     "output_type": "stream",
     "text": [
      "Confusion matrix:\n",
      " [[47  7]\n",
      " [ 6 19]]\n"
     ]
    }
   ],
   "source": [
    "y_pred = model.predict(x_test)\n",
    "print('Confusion matrix:\\n', confusion_matrix(y_test, y_pred))"
   ]
  },
  {
   "cell_type": "markdown",
   "id": "d8b7f832-4668-4c50-bc8c-6a0d2d258241",
   "metadata": {},
   "source": [
    "VN = 47\n",
    "\n",
    "FP = 7\n",
    "\n",
    "FN = 6\n",
    "\n",
    "VP = 19"
   ]
  },
  {
   "cell_type": "markdown",
   "id": "c22564b7-6b9c-47dc-abce-281dd60e9a5e",
   "metadata": {},
   "source": [
    "#### Métricas de desempeño:"
   ]
  },
  {
   "cell_type": "code",
   "execution_count": 11,
   "id": "9040971b-f305-4cd0-ae53-eaa1ff73f051",
   "metadata": {},
   "outputs": [
    {
     "name": "stdout",
     "output_type": "stream",
     "text": [
      "Exactitud (accuracy): 0.8354430379746836\n",
      "Informe de clasificación:\n",
      "              precision    recall  f1-score   support\n",
      "\n",
      "           0       0.89      0.87      0.88        54\n",
      "           1       0.73      0.76      0.75        25\n",
      "\n",
      "    accuracy                           0.84        79\n",
      "   macro avg       0.81      0.82      0.81        79\n",
      "weighted avg       0.84      0.84      0.84        79\n",
      "\n"
     ]
    }
   ],
   "source": [
    "# Calcula la tasa de exactitud (accuracy)\n",
    "acc = accuracy_score(y_test, y_pred)\n",
    "print(\"Exactitud (accuracy):\", acc)\n",
    "\n",
    "class_report = classification_report(y_test, y_pred)\n",
    "\n",
    "print('Informe de clasificación:')\n",
    "print(class_report)"
   ]
  },
  {
   "cell_type": "code",
   "execution_count": 12,
   "id": "21cab3a9-4483-41b7-a16a-fa144acc6e91",
   "metadata": {},
   "outputs": [
    {
     "data": {
      "text/plain": [
       "0.2692307692307692"
      ]
     },
     "execution_count": 12,
     "metadata": {},
     "output_type": "execute_result"
    }
   ],
   "source": [
    "# false positive rate\n",
    "conf_matrix = confusion_matrix(y_test, y_pred)\n",
    "conf_matrix[0, 1] / (conf_matrix[0, 1] + conf_matrix[1, 1])"
   ]
  },
  {
   "cell_type": "markdown",
   "id": "79e747a5-870c-4438-bd9f-19c4da8b0f69",
   "metadata": {},
   "source": [
    "La precisión del modelo indica que el 73% de las predicciones son correctas, mientras que el recall indica que el 76% de los verdaderos positivos han sido correctamente identificados. El puntaje F1 combinado indica que el modelo tiene un rendimiento razonablemente bueno. Sin embargo, la tasa de falsos positivos del 26.9% sugiere que existe una alta cantidad de falsos positivos, lo cual se puede mejorar. La rendimiento general del modelo es del 83.4%, lo que sugiere que el modelo puede ser útil para predecir la variable respuesta binaria"
   ]
  },
  {
   "cell_type": "markdown",
   "id": "815aa979-9597-482e-8629-dbd67fceb52a",
   "metadata": {},
   "source": [
    "#### Curvas ROC y Precisión-Recall"
   ]
  },
  {
   "cell_type": "code",
   "execution_count": 13,
   "id": "4d6130b7-4e85-4f39-ac10-2dfa63e68ff1",
   "metadata": {},
   "outputs": [
    {
     "data": {
      "text/plain": [
       "<sklearn.metrics._plot.roc_curve.RocCurveDisplay at 0x223d3ce3d90>"
      ]
     },
     "execution_count": 13,
     "metadata": {},
     "output_type": "execute_result"
    },
    {
     "data": {
      "image/png": "[encoded data removed]",
      "text/plain": [
       "<Figure size 432x288 with 1 Axes>"
      ]
     },
     "metadata": {
      "needs_background": "light"
     },
     "output_type": "display_data"
    }
   ],
   "source": [
    "y_score = model.decision_function(x_test)\n",
    "fpr, tpr, _ = sk_metrics.roc_curve(y_test, y_score, pos_label= model.classes_[1])\n",
    "roc_display = sk_metrics.RocCurveDisplay(fpr= fpr, tpr= tpr)\n",
    "roc_display.plot(name='Curva ROC')"
   ]
  },
  {
   "cell_type": "code",
   "execution_count": 14,
   "id": "52a0e991-a6f7-4c04-adfa-6dacd7498ce8",
   "metadata": {},
   "outputs": [
    {
     "data": {
      "text/plain": [
       "<sklearn.metrics._plot.precision_recall_curve.PrecisionRecallDisplay at 0x223d5de0070>"
      ]
     },
     "execution_count": 14,
     "metadata": {},
     "output_type": "execute_result"
    },
    {
     "data": {
      "image/png": "[encoded data removed]",
      "text/plain": [
       "<Figure size 432x288 with 1 Axes>"
      ]
     },
     "metadata": {
      "needs_background": "light"
     },
     "output_type": "display_data"
    }
   ],
   "source": [
    "prec, recall, _ = sk_metrics.precision_recall_curve(y_test, y_score, pos_label= model.classes_[1])\n",
    "pr_display = sk_metrics.PrecisionRecallDisplay(precision= prec, recall= recall)\n",
    "pr_display.plot(name='Curva Precisión-Recall')"
   ]
  },
  {
   "cell_type": "markdown",
   "id": "b643a603-ca55-4aed-88cc-f18ab7354973",
   "metadata": {},
   "source": [
    "#### Cross-Validation:"
   ]
  },
  {
   "cell_type": "code",
   "execution_count": 15,
   "id": "5d5ca552-b621-49fc-b9d8-664b406b8474",
   "metadata": {},
   "outputs": [],
   "source": [
    "scores = cross_val_score(model, x_train, y_train, cv=5)"
   ]
  },
  {
   "cell_type": "code",
   "execution_count": 16,
   "id": "52ebe2e3-b87d-4852-be28-f73d120600fc",
   "metadata": {},
   "outputs": [
    {
     "data": {
      "text/plain": [
       "array([0.97297297, 0.89189189, 0.88888889, 0.83333333, 0.80555556])"
      ]
     },
     "execution_count": 16,
     "metadata": {},
     "output_type": "execute_result"
    }
   ],
   "source": [
    "scores"
   ]
  },
  {
   "cell_type": "code",
   "execution_count": 17,
   "id": "60289897-319c-46dd-b0a6-d012e24ed609",
   "metadata": {},
   "outputs": [
    {
     "data": {
      "text/plain": [
       "0.8785285285285285"
      ]
     },
     "execution_count": 17,
     "metadata": {},
     "output_type": "execute_result"
    }
   ],
   "source": [
    "scores.mean()"
   ]
  },
  {
   "cell_type": "code",
   "execution_count": 18,
   "id": "caa0c26b-cdb4-4d8f-9bca-970cbf78db73",
   "metadata": {},
   "outputs": [
    {
     "data": {
      "text/plain": [
       "0.057573136247461104"
      ]
     },
     "execution_count": 18,
     "metadata": {},
     "output_type": "execute_result"
    }
   ],
   "source": [
    "scores.std()"
   ]
  },
  {
   "cell_type": "markdown",
   "id": "73b02ceb-8d1d-41d6-bc54-670c322c8500",
   "metadata": {},
   "source": [
    "Los resultados obtenidos en la validación cruzada del modelo de regresión logística indican que el modelo tiene un buen rendimiento en la tarea de clasificación, ya que su precisión promedio es cercana al 88%. Además, los valores de precisión obtenidos en cada iteración de la validación cruzada son consistentes y se mantienen por encima del 80%, lo que sugiere que el modelo tiene la capacidad de generalizar bien a nuevos conjuntos de datos. "
   ]
  },
  {
   "cell_type": "markdown",
   "id": "052a9090-44c4-4ae4-b1c3-131a3749370e",
   "metadata": {},
   "source": [
    "#### 2.- SVM: "
   ]
  },
  {
   "cell_type": "markdown",
   "id": "099e689f-7c9e-463f-b97c-e54f94df48a4",
   "metadata": {},
   "source": [
    "En este siguiente paso, se reiniciarán los datos a su estado original y se aplicará el modelo SVM (Support Vector Machine) para realizar la clasificación de las variables de interés."
   ]
  },
  {
   "cell_type": "code",
   "execution_count": 19,
   "id": "7bafb8e3-f327-4a00-ab16-f82edd78e1bc",
   "metadata": {},
   "outputs": [],
   "source": [
    "random_seed = 1\n",
    "x_train, x_test, y_train, y_test = train_test_split(x, y, test_size=0.3, random_state=0)\n",
    "scaler = RobustScaler()\n",
    "x_train = scaler.fit_transform(x_train)\n",
    "x_test = scaler.transform(x_test)"
   ]
  },
  {
   "cell_type": "code",
   "execution_count": 20,
   "id": "ed421818-d34d-4eb3-8fd3-9937d3ab4d93",
   "metadata": {},
   "outputs": [
    {
     "data": {
      "text/plain": [
       "SVR(kernel='linear')"
      ]
     },
     "execution_count": 20,
     "metadata": {},
     "output_type": "execute_result"
    }
   ],
   "source": [
    "model = SVR(kernel='linear')\n",
    "model.fit(x_train, y_train)"
   ]
  },
  {
   "cell_type": "markdown",
   "id": "4b35d9d7-d0d1-42da-bac5-5efee53a12cb",
   "metadata": {
    "tags": []
   },
   "source": [
    "#### Métricas de desempeño"
   ]
  },
  {
   "cell_type": "code",
   "execution_count": 21,
   "id": "6275ed26-1144-40f7-874e-7b0b04585119",
   "metadata": {},
   "outputs": [
    {
     "name": "stdout",
     "output_type": "stream",
     "text": [
      "MSE: 0.1582552901749002\n",
      "R²: 0.2683916548284797\n"
     ]
    }
   ],
   "source": [
    "y_pred = model.predict(x_test)\n",
    "\n",
    "mse = mean_squared_error(y_test, y_pred)\n",
    "r2 = r2_score(y_test, y_pred)\n",
    "\n",
    "print(\"MSE:\", mse)\n",
    "print(\"R²:\", r2)"
   ]
  },
  {
   "cell_type": "markdown",
   "id": "ecafe38f-be0c-4502-858a-3bc3a988bb86",
   "metadata": {},
   "source": [
    "Al calcular el MSE, uno espera que los resultados sean lo más cercano a 0 posible, para que el rendimiento del modelo sea nejor. En este caso, el MSE es de 0.15, lo que sugiere que el modelo tiene un error cuadrático medio relativamente bajo.\n",
    "\n",
    "El R², por otro lado, es una medida de qué tan bien se ajustan los datos al modelo. Un R² de 1 indica un ajuste perfecto, mientras que un R² de 0 indica que el modelo no es mejor que una línea recta horizontal. En este caso, el R² es de 0.26, lo que sugiere que el modelo no explica una gran proporción a la variable de respuesta Y.\n"
   ]
  },
  {
   "cell_type": "markdown",
   "id": "5085d9af-236d-4f23-a9e7-6de96f0e4ff2",
   "metadata": {},
   "source": [
    "#### Cross-Validation:"
   ]
  },
  {
   "cell_type": "code",
   "execution_count": 22,
   "id": "7146550f-19a3-4ca6-be35-5c53d51a54dd",
   "metadata": {},
   "outputs": [],
   "source": [
    "scores = cross_val_score(model, x_train, y_train, cv=5)"
   ]
  },
  {
   "cell_type": "code",
   "execution_count": 23,
   "id": "4157f46e-3b74-4be1-b4a0-e926071a617d",
   "metadata": {},
   "outputs": [
    {
     "data": {
      "text/plain": [
       "array([0.69089107, 0.58405009, 0.47991052, 0.38444358, 0.46557812])"
      ]
     },
     "execution_count": 23,
     "metadata": {},
     "output_type": "execute_result"
    }
   ],
   "source": [
    "scores"
   ]
  },
  {
   "cell_type": "code",
   "execution_count": 24,
   "id": "7c32a5da-6f5c-480a-b302-01d0364e3285",
   "metadata": {},
   "outputs": [
    {
     "data": {
      "text/plain": [
       "0.5209746758340791"
      ]
     },
     "execution_count": 24,
     "metadata": {},
     "output_type": "execute_result"
    }
   ],
   "source": [
    "scores.mean()"
   ]
  },
  {
   "cell_type": "code",
   "execution_count": 25,
   "id": "f46c76f1-8bef-4d0b-ad31-1b7ff6c02af4",
   "metadata": {},
   "outputs": [
    {
     "data": {
      "text/plain": [
       "0.10606212718256793"
      ]
     },
     "execution_count": 25,
     "metadata": {},
     "output_type": "execute_result"
    }
   ],
   "source": [
    "scores.std()"
   ]
  },
  {
   "cell_type": "markdown",
   "id": "d986dd14-b582-4d51-9b01-1f71b30c588f",
   "metadata": {},
   "source": [
    "En este caso, los resultados indican que el modelo de SVM tiene un rendimiento inferior en comparación con el modelo de regresión logística. La precisión promedio obtenida es del 52%, lo que indica que el modelo clasifica no clasifica óptimamente la mitad de los datos de prueba. Además, los valores de precisión obtenidos en cada iteración de la validación cruzada son bastante bajos y varían significativamente con valores desde 0.69 a 0.38, lo que sugiere que el modelo no generaliza bien a nuevos conjuntos de datos."
   ]
  },
  {
   "cell_type": "markdown",
   "id": "30b58810-ee0b-4c01-9c73-be91948f5fb1",
   "metadata": {
    "tags": []
   },
   "source": [
    "#### 3.- Naive Bayes:"
   ]
  },
  {
   "cell_type": "markdown",
   "id": "002ae8d0-1ac1-484a-995e-ed622b7217f8",
   "metadata": {},
   "source": [
    "Ahora, se procederá a reiniciar los datos a los originales y aplicar el modelo Naive Bayes para realizar la clasificación de la variables de interés."
   ]
  },
  {
   "cell_type": "code",
   "execution_count": 26,
   "id": "29c25ba1-a10b-40fc-ae2c-aa6c98047174",
   "metadata": {},
   "outputs": [],
   "source": [
    "random_seed = 1\n",
    "x_train, x_test, y_train, y_test = train_test_split(x, y, test_size=0.3, random_state=0)\n",
    "scaler = RobustScaler()\n",
    "x_train = scaler.fit_transform(x_train)\n",
    "x_test = scaler.transform(x_test)"
   ]
  },
  {
   "cell_type": "code",
   "execution_count": 27,
   "id": "e036271a-a905-400f-892a-403de461c815",
   "metadata": {},
   "outputs": [
    {
     "data": {
      "text/plain": [
       "BernoulliNB()"
      ]
     },
     "execution_count": 27,
     "metadata": {},
     "output_type": "execute_result"
    }
   ],
   "source": [
    "model = BernoulliNB()\n",
    "model.fit(x_train, y_train)"
   ]
  },
  {
   "cell_type": "markdown",
   "id": "2ee19bcf-33ef-4d5f-bcdf-956d9be54a35",
   "metadata": {
    "tags": []
   },
   "source": [
    "#### Matríz de confusión"
   ]
  },
  {
   "cell_type": "code",
   "execution_count": 28,
   "id": "24aadae3-ccb8-4114-a3c0-4e0af6927f5b",
   "metadata": {},
   "outputs": [
    {
     "name": "stdout",
     "output_type": "stream",
     "text": [
      "Accuracy: 0.810126582278481\n",
      "Confusion matrix:\n",
      " [[45  9]\n",
      " [ 6 19]]\n"
     ]
    }
   ],
   "source": [
    "y_pred = model.predict(x_test)\n",
    "\n",
    "print('Accuracy:', accuracy_score(y_test, y_pred))\n",
    "print('Confusion matrix:\\n', confusion_matrix(y_test, y_pred))"
   ]
  },
  {
   "cell_type": "markdown",
   "id": "8f330ba8-2c14-4015-a35c-466954475d1c",
   "metadata": {},
   "source": [
    "VN = 45\n",
    "\n",
    "FP = 9\n",
    "\n",
    "FN = 6\n",
    "\n",
    "VP = 19"
   ]
  },
  {
   "cell_type": "markdown",
   "id": "ae27cbc9-674a-4ba1-bc2e-23c8a2063d90",
   "metadata": {
    "tags": []
   },
   "source": [
    "#### Métricas de desempeño"
   ]
  },
  {
   "cell_type": "code",
   "execution_count": 29,
   "id": "00f7b8ff-96e1-4451-9801-64a8a80f43c9",
   "metadata": {},
   "outputs": [
    {
     "name": "stdout",
     "output_type": "stream",
     "text": [
      "Exactitud (accuracy): 0.810126582278481\n",
      "Informe de clasificación:\n",
      "              precision    recall  f1-score   support\n",
      "\n",
      "           0       0.88      0.83      0.86        54\n",
      "           1       0.68      0.76      0.72        25\n",
      "\n",
      "    accuracy                           0.81        79\n",
      "   macro avg       0.78      0.80      0.79        79\n",
      "weighted avg       0.82      0.81      0.81        79\n",
      "\n"
     ]
    }
   ],
   "source": [
    "# Calcula la tasa de exactitud (accuracy)\n",
    "acc = accuracy_score(y_test, y_pred)\n",
    "print(\"Exactitud (accuracy):\", acc)\n",
    "\n",
    "class_report = classification_report(y_test, y_pred)\n",
    "\n",
    "print('Informe de clasificación:')\n",
    "print(class_report)"
   ]
  },
  {
   "cell_type": "code",
   "execution_count": 30,
   "id": "4a9fa11e-9de9-4fcf-b3ca-811deb9ee538",
   "metadata": {},
   "outputs": [
    {
     "data": {
      "text/plain": [
       "0.32142857142857145"
      ]
     },
     "execution_count": 30,
     "metadata": {},
     "output_type": "execute_result"
    }
   ],
   "source": [
    "# false positive rate\n",
    "conf_matrix = confusion_matrix(y_test, y_pred)\n",
    "conf_matrix[0, 1] / (conf_matrix[0, 1] + conf_matrix[1, 1])"
   ]
  },
  {
   "cell_type": "markdown",
   "id": "2ca28536-3c40-440f-ae7c-d0d79a7badb8",
   "metadata": {},
   "source": [
    "Al evaluar el rendimiento del modelo de Naive Bayes en la prueba de machine learning, podemos concluir que el modelo tiene un rendimiento razonablemente bueno. La precisión del modelo indica que el 67.9% de las predicciones son correctas, mientras que el recall indica que el 76% de los verdaderos positivos han sido correctamente identificados. El puntaje F1 combinado indica que el modelo tiene un rendimiento razonablemente bueno. Sin embargo, la tasa de falsos positivos del 32.1% sugiere que hay margen de mejora. La exactitud general del modelo es del 81%, lo que sugiere que el modelo puede ser útil para predecir la variable respuesta binaria"
   ]
  },
  {
   "cell_type": "markdown",
   "id": "f7d80f2f-ab94-42be-b9f6-057f2a8b6d1d",
   "metadata": {},
   "source": [
    "#### Curva Precisión-Recall"
   ]
  },
  {
   "cell_type": "code",
   "execution_count": 31,
   "id": "b512387c-07f7-4417-99df-97bea97244f5",
   "metadata": {},
   "outputs": [
    {
     "data": {
      "text/plain": [
       "<sklearn.metrics._plot.precision_recall_curve.PrecisionRecallDisplay at 0x223d5ef3730>"
      ]
     },
     "execution_count": 31,
     "metadata": {},
     "output_type": "execute_result"
    },
    {
     "data": {
      "image/png": "[encoded data removed]",
      "text/plain": [
       "<Figure size 432x288 with 1 Axes>"
      ]
     },
     "metadata": {
      "needs_background": "light"
     },
     "output_type": "display_data"
    }
   ],
   "source": [
    "prec, recall, _ = sk_metrics.precision_recall_curve(y_test, y_score, pos_label= model.classes_[1])\n",
    "pr_display = sk_metrics.PrecisionRecallDisplay(precision= prec, recall= recall)\n",
    "pr_display.plot(name='Curva Precisión-Recall')"
   ]
  },
  {
   "cell_type": "markdown",
   "id": "dd8479a3-e766-480b-b6b9-8a6ac3b077dd",
   "metadata": {
    "tags": []
   },
   "source": [
    "#### Cross-Validation:"
   ]
  },
  {
   "cell_type": "code",
   "execution_count": 32,
   "id": "81e5eaf7-c024-4a0f-9393-df8f43460e1c",
   "metadata": {},
   "outputs": [],
   "source": [
    "scores = cross_val_score(model, x_train, y_train, cv=5)"
   ]
  },
  {
   "cell_type": "code",
   "execution_count": 33,
   "id": "f7d647db-9407-41a7-bb40-bb9fce885b60",
   "metadata": {},
   "outputs": [
    {
     "data": {
      "text/plain": [
       "array([0.94594595, 0.86486486, 0.88888889, 0.80555556, 0.88888889])"
      ]
     },
     "execution_count": 33,
     "metadata": {},
     "output_type": "execute_result"
    }
   ],
   "source": [
    "scores"
   ]
  },
  {
   "cell_type": "code",
   "execution_count": 34,
   "id": "8a2eaaf8-6174-4c3f-8978-ec7a0a165e1d",
   "metadata": {},
   "outputs": [
    {
     "data": {
      "text/plain": [
       "0.8788288288288288"
      ]
     },
     "execution_count": 34,
     "metadata": {},
     "output_type": "execute_result"
    }
   ],
   "source": [
    "scores.mean()"
   ]
  },
  {
   "cell_type": "code",
   "execution_count": 35,
   "id": "50cdd2cf-d415-4a97-a958-704a9823f63e",
   "metadata": {},
   "outputs": [
    {
     "data": {
      "text/plain": [
       "0.045323463885064"
      ]
     },
     "execution_count": 35,
     "metadata": {},
     "output_type": "execute_result"
    }
   ],
   "source": [
    "scores.std()"
   ]
  },
  {
   "cell_type": "markdown",
   "id": "b46f5cc7-1d6a-4633-856a-4e906a647c22",
   "metadata": {},
   "source": [
    "Los resultados de la validación cruzada indican que el modelo de Naive Bayes es un clasificador eficaz en este caso, ya que su precisión promedio es del 87%, lo que sugiere que puede clasificar correctamente la mayoría de los datos de prueba. Además, los valores de precisión obtenidos en cada iteración son consistentes y están por encima del 80%, lo que indica que el modelo es robusto y puede generalizar bien a conjuntos de datos nuevos y desconocidos. Por lo tanto, el modelo de Naive Bayes podría ser una buena opción para esta tarea de clasificación, especialmente considerando su simplicidad y eficiencia computacional."
   ]
  },
  {
   "cell_type": "markdown",
   "id": "789115ab-97cc-4cd5-8562-941a55708b39",
   "metadata": {},
   "source": [
    "#### 4.- LDA"
   ]
  },
  {
   "cell_type": "markdown",
   "id": "ae46301d-97ff-4e58-9782-7afcc57666d9",
   "metadata": {},
   "source": [
    "En este siguiente paso, se procederá a aplicar el modelo LDA (Linear Discriminant Analysis) para realizar la clasificación de las variables de interés, utilizando los datos originales que se han reiniciado."
   ]
  },
  {
   "cell_type": "code",
   "execution_count": 36,
   "id": "85dd282b-fe8c-492e-956e-b1a756a7cc23",
   "metadata": {},
   "outputs": [],
   "source": [
    "random_seed = 1\n",
    "x_train, x_test, y_train, y_test = train_test_split(x, y, test_size=0.3, random_state=0)\n",
    "scaler = RobustScaler()\n",
    "x_train = scaler.fit_transform(x_train)\n",
    "x_test = scaler.transform(x_test)"
   ]
  },
  {
   "cell_type": "code",
   "execution_count": 37,
   "id": "fae4fe8c-7736-4c5b-ad4a-d644a72edbf4",
   "metadata": {},
   "outputs": [
    {
     "data": {
      "text/plain": [
       "LinearDiscriminantAnalysis()"
      ]
     },
     "execution_count": 37,
     "metadata": {},
     "output_type": "execute_result"
    }
   ],
   "source": [
    "lda = LinearDiscriminantAnalysis()\n",
    "lda.fit(x_train, y_train)"
   ]
  },
  {
   "cell_type": "markdown",
   "id": "0feef017-a331-491f-b179-6e0e384b1f4d",
   "metadata": {
    "tags": []
   },
   "source": [
    "#### Matríz de confusión"
   ]
  },
  {
   "cell_type": "code",
   "execution_count": 38,
   "id": "83abe418-969a-49d6-9f0e-c2ac1c0c57cb",
   "metadata": {},
   "outputs": [
    {
     "name": "stdout",
     "output_type": "stream",
     "text": [
      "Accuracy: 0.8227848101265823\n",
      "Confusion matrix:\n",
      " [[46  8]\n",
      " [ 6 19]]\n"
     ]
    }
   ],
   "source": [
    "y_pred = lda.predict(x_test)\n",
    "\n",
    "print('Accuracy:', accuracy_score(y_test, y_pred))\n",
    "print('Confusion matrix:\\n', confusion_matrix(y_test, y_pred))"
   ]
  },
  {
   "cell_type": "markdown",
   "id": "5715096c-d205-49ca-aff2-40402b4c5bff",
   "metadata": {},
   "source": [
    "VN = 46\n",
    "\n",
    "FP = 8\n",
    "\n",
    "FN = 6\n",
    "\n",
    "VP = 19"
   ]
  },
  {
   "cell_type": "markdown",
   "id": "e75267ba-f8d7-43ed-b15f-e22976f512ce",
   "metadata": {},
   "source": [
    "#### Métricas de desempeño"
   ]
  },
  {
   "cell_type": "code",
   "execution_count": 39,
   "id": "e3dd483a-0c49-4c48-bcc7-0e092e11bf3c",
   "metadata": {},
   "outputs": [
    {
     "name": "stdout",
     "output_type": "stream",
     "text": [
      "Exactitud (accuracy): 0.8227848101265823\n",
      "Informe de clasificación:\n",
      "              precision    recall  f1-score   support\n",
      "\n",
      "           0       0.88      0.85      0.87        54\n",
      "           1       0.70      0.76      0.73        25\n",
      "\n",
      "    accuracy                           0.82        79\n",
      "   macro avg       0.79      0.81      0.80        79\n",
      "weighted avg       0.83      0.82      0.82        79\n",
      "\n"
     ]
    }
   ],
   "source": [
    "# Calcula la tasa de exactitud (accuracy)\n",
    "acc = accuracy_score(y_test, y_pred)\n",
    "print(\"Exactitud (accuracy):\", acc)\n",
    "\n",
    "class_report = classification_report(y_test, y_pred)\n",
    "\n",
    "print('Informe de clasificación:')\n",
    "print(class_report)"
   ]
  },
  {
   "cell_type": "code",
   "execution_count": 40,
   "id": "816f349e-5ee6-4db2-9976-d6bd3419adef",
   "metadata": {},
   "outputs": [
    {
     "data": {
      "text/plain": [
       "0.2962962962962963"
      ]
     },
     "execution_count": 40,
     "metadata": {},
     "output_type": "execute_result"
    }
   ],
   "source": [
    "# false positive rate\n",
    "conf_matrix = confusion_matrix(y_test, y_pred)\n",
    "conf_matrix[0, 1] / (conf_matrix[0, 1] + conf_matrix[1, 1])"
   ]
  },
  {
   "cell_type": "markdown",
   "id": "6333bff6-330e-469a-8a12-c93bfc6d786b",
   "metadata": {},
   "source": [
    "Al realizar un modelo LDA y evaluar la matriz de confusión, podemos ver que los resultados son similares a los obtenidos con el modelo de Naive Bayes anterior. La precisión del modelo LDA es del 69.7%, lo que indica que el 69.7% de las predicciones son correctas. El recall es del 76% y el puntaje F1 es de 0.722, lo que sugiere que el modelo tiene un rendimiento razonablemente bueno. La tasa de falsos positivos es del 29%, lo que es un poco mejor que el modelo de Naive Bayes anterior, sin embargo, esta métrica aumenta al comparar con la regresión logística. La exactitud general del modelo es del 82.5%, lo que indica que el modelo LDA también puede ser útil para predecir la variable respuesta binaria."
   ]
  },
  {
   "cell_type": "markdown",
   "id": "99ab1f93-f018-4c76-9090-30a3c2e47000",
   "metadata": {},
   "source": [
    "#### Curvas ROC y Precisión-Recall"
   ]
  },
  {
   "cell_type": "code",
   "execution_count": 41,
   "id": "ccf7ef94-9526-48a0-8aaa-ed220a4d43c5",
   "metadata": {},
   "outputs": [
    {
     "data": {
      "text/plain": [
       "<sklearn.metrics._plot.roc_curve.RocCurveDisplay at 0x223d5eeaa90>"
      ]
     },
     "execution_count": 41,
     "metadata": {},
     "output_type": "execute_result"
    },
    {
     "data": {
      "image/png": "[encoded data removed]",
      "text/plain": [
       "<Figure size 432x288 with 1 Axes>"
      ]
     },
     "metadata": {
      "needs_background": "light"
     },
     "output_type": "display_data"
    }
   ],
   "source": [
    "y_score = lda.decision_function(x_test)\n",
    "fpr, tpr, _ = sk_metrics.roc_curve(y_test, y_score, pos_label= model.classes_[1])\n",
    "roc_display = sk_metrics.RocCurveDisplay(fpr= fpr, tpr= tpr)\n",
    "roc_display.plot(name='Curva ROC')"
   ]
  },
  {
   "cell_type": "code",
   "execution_count": 42,
   "id": "dbb9fdc6-9b7f-4c7e-b928-cf30cee51fbd",
   "metadata": {},
   "outputs": [
    {
     "data": {
      "text/plain": [
       "<sklearn.metrics._plot.precision_recall_curve.PrecisionRecallDisplay at 0x223d6ab4340>"
      ]
     },
     "execution_count": 42,
     "metadata": {},
     "output_type": "execute_result"
    },
    {
     "data": {
      "image/png": "[encoded data removed]",
      "text/plain": [
       "<Figure size 432x288 with 1 Axes>"
      ]
     },
     "metadata": {
      "needs_background": "light"
     },
     "output_type": "display_data"
    }
   ],
   "source": [
    "prec, recall, _ = sk_metrics.precision_recall_curve(y_test, y_score, pos_label= model.classes_[1])\n",
    "pr_display = sk_metrics.PrecisionRecallDisplay(precision= prec, recall= recall)\n",
    "pr_display.plot(name='Curva Precisión-Recall')"
   ]
  },
  {
   "cell_type": "markdown",
   "id": "2fb04d41-d90f-4e1b-8c2f-5315abdf8f3c",
   "metadata": {},
   "source": [
    "#### Cross-Validation:"
   ]
  },
  {
   "cell_type": "code",
   "execution_count": 43,
   "id": "f727f5b1-5011-4064-816c-07e6b84b5034",
   "metadata": {},
   "outputs": [],
   "source": [
    "scores = cross_val_score(lda, x_train, y_train, cv=5)"
   ]
  },
  {
   "cell_type": "code",
   "execution_count": 44,
   "id": "6ca58d65-396f-4f5c-b165-d23f5e7c4b93",
   "metadata": {},
   "outputs": [
    {
     "data": {
      "text/plain": [
       "array([0.94594595, 0.86486486, 0.83333333, 0.83333333, 0.83333333])"
      ]
     },
     "execution_count": 44,
     "metadata": {},
     "output_type": "execute_result"
    }
   ],
   "source": [
    "scores"
   ]
  },
  {
   "cell_type": "code",
   "execution_count": 45,
   "id": "a096f6ad-835e-4dec-9595-63c79d73c957",
   "metadata": {},
   "outputs": [
    {
     "data": {
      "text/plain": [
       "0.8621621621621622"
      ]
     },
     "execution_count": 45,
     "metadata": {},
     "output_type": "execute_result"
    }
   ],
   "source": [
    "scores.mean()"
   ]
  },
  {
   "cell_type": "code",
   "execution_count": 46,
   "id": "d0ec4b53-44dc-477e-a14e-c8db898da7e7",
   "metadata": {},
   "outputs": [
    {
     "data": {
      "text/plain": [
       "0.04363560734526966"
      ]
     },
     "execution_count": 46,
     "metadata": {},
     "output_type": "execute_result"
    }
   ],
   "source": [
    "scores.std()"
   ]
  },
  {
   "cell_type": "markdown",
   "id": "3ec13be7-5da2-49b7-a9dd-fc4f9a065998",
   "metadata": {},
   "source": [
    "El promedio obtenida en la validación cruzada fue de 0.862, lo que indica que el modelo LDA tiene un buen rendimiento en la tarea de clasificación en tus datos. Además, los valores de precisión obtenidos en cada iteración de la validación cruzada son relativamente estables y están todos por encima del 0,8, lo que sugiere que el modelo LDA es robusto y generaliza bien a datos nuevos."
   ]
  },
  {
   "cell_type": "markdown",
   "id": "ea95c6e0-72ec-4b2d-950b-984737edbc9a",
   "metadata": {
    "tags": []
   },
   "source": [
    "#### 5.- QDA"
   ]
  },
  {
   "cell_type": "markdown",
   "id": "74d45fbc-2a5c-42d1-b673-401e3ac24384",
   "metadata": {},
   "source": [
    "Luego, se procederá a aplicar el modelo QDA (Quadratic Discriminant Analysis) para realizar la clasificación de las variables de interés, utilizando los datos originales que se han reiniciado"
   ]
  },
  {
   "cell_type": "code",
   "execution_count": 47,
   "id": "79642145-0419-40fc-9c65-1a7079459e82",
   "metadata": {},
   "outputs": [],
   "source": [
    "random_seed = 1\n",
    "x_train, x_test, y_train, y_test = train_test_split(x, y, test_size=0.3, random_state=0)\n",
    "scaler = RobustScaler()\n",
    "x_train = scaler.fit_transform(x_train)\n",
    "x_test = scaler.transform(x_test)"
   ]
  },
  {
   "cell_type": "code",
   "execution_count": 48,
   "id": "a9345ef2-7478-456b-b81c-63a06fd79283",
   "metadata": {},
   "outputs": [
    {
     "data": {
      "text/plain": [
       "QuadraticDiscriminantAnalysis()"
      ]
     },
     "execution_count": 48,
     "metadata": {},
     "output_type": "execute_result"
    }
   ],
   "source": [
    "qda = QuadraticDiscriminantAnalysis()\n",
    "qda.fit(x_train, y_train)"
   ]
  },
  {
   "cell_type": "markdown",
   "id": "ee5bec12-89ca-451d-9998-c91b4beb7bb5",
   "metadata": {
    "tags": []
   },
   "source": [
    "#### Matríz de confusión"
   ]
  },
  {
   "cell_type": "code",
   "execution_count": 49,
   "id": "0f4eed97-87d3-4594-b274-70d4a1bd8027",
   "metadata": {},
   "outputs": [
    {
     "name": "stdout",
     "output_type": "stream",
     "text": [
      "Confusion matrix:\n",
      " [[43 11]\n",
      " [ 6 19]]\n"
     ]
    }
   ],
   "source": [
    "y_pred = qda.predict(x_test)\n",
    "\n",
    "\n",
    "print('Confusion matrix:\\n', confusion_matrix(y_test, y_pred))"
   ]
  },
  {
   "cell_type": "markdown",
   "id": "006e708b-3214-4083-884b-eeaae7c23ca4",
   "metadata": {},
   "source": [
    "VN = 43\n",
    "\n",
    "FP = 11\n",
    "\n",
    "FN = 6\n",
    "\n",
    "VP = 19"
   ]
  },
  {
   "cell_type": "markdown",
   "id": "4e5f889d-2836-485f-a6ba-3b3d007ac044",
   "metadata": {},
   "source": [
    "#### Métricas de desempeño"
   ]
  },
  {
   "cell_type": "code",
   "execution_count": 50,
   "id": "4592002a-1602-4397-94cd-dd10d3e5e0d1",
   "metadata": {},
   "outputs": [
    {
     "name": "stdout",
     "output_type": "stream",
     "text": [
      "Accuracy: 0.7848101265822784\n",
      "Informe de clasificación:\n",
      "              precision    recall  f1-score   support\n",
      "\n",
      "           0       0.88      0.80      0.83        54\n",
      "           1       0.63      0.76      0.69        25\n",
      "\n",
      "    accuracy                           0.78        79\n",
      "   macro avg       0.76      0.78      0.76        79\n",
      "weighted avg       0.80      0.78      0.79        79\n",
      "\n"
     ]
    }
   ],
   "source": [
    "class_report = classification_report(y_test, y_pred)\n",
    "\n",
    "print('Accuracy:', accuracy_score(y_test, y_pred))\n",
    "print('Informe de clasificación:')\n",
    "print(class_report)"
   ]
  },
  {
   "cell_type": "code",
   "execution_count": 51,
   "id": "2f2919c2-bbe8-4f1b-beef-b0068ac8c0ea",
   "metadata": {},
   "outputs": [
    {
     "data": {
      "text/plain": [
       "0.36666666666666664"
      ]
     },
     "execution_count": 51,
     "metadata": {},
     "output_type": "execute_result"
    }
   ],
   "source": [
    "# false positive rate\n",
    "conf_matrix = confusion_matrix(y_test, y_pred)\n",
    "conf_matrix[0, 1] / (conf_matrix[0, 1] + conf_matrix[1, 1])"
   ]
  },
  {
   "cell_type": "markdown",
   "id": "8a5659af-648f-4b3d-b35d-d1b7c4aeaa2e",
   "metadata": {},
   "source": [
    "La precisión del modelo es del 63%, lo que indica que el 63% de las predicciones son correctas. El recall es del 76% y el puntaje F1 es de 0.69, lo que sugiere que el modelo tiene un rendimiento razonablemente bueno. La tasa de falsos positivos es del 36.6%, que es más alta que los modelos anteriores. La exactitud general del modelo es del 78.5%, lo que sugiere que el modelo QDA puede ser útil para predecir la variable respuesta binaria, pero no tan efectivo como los modelos anteriores.\n",
    "\n",
    "En general, estos resultados sugieren que el modelo QDA no es tan efectivo como los modelos anteriores en la predicción de la variable respuesta binaria. Es posible que el modelo QDA no esté bien ajustado a los datos o que los datos no se ajusten bien al modelo QDA. "
   ]
  },
  {
   "cell_type": "markdown",
   "id": "5383a79b-0595-4420-912a-ae9080a77bb2",
   "metadata": {},
   "source": [
    "#### Curvas ROC y Precisión-Recall"
   ]
  },
  {
   "cell_type": "code",
   "execution_count": 52,
   "id": "06203001-7d84-4187-82de-8191e70e6de5",
   "metadata": {},
   "outputs": [
    {
     "data": {
      "text/plain": [
       "<sklearn.metrics._plot.roc_curve.RocCurveDisplay at 0x223d6b23250>"
      ]
     },
     "execution_count": 52,
     "metadata": {},
     "output_type": "execute_result"
    },
    {
     "data": {
      "image/png": "[encoded data removed]",
      "text/plain": [
       "<Figure size 432x288 with 1 Axes>"
      ]
     },
     "metadata": {
      "needs_background": "light"
     },
     "output_type": "display_data"
    }
   ],
   "source": [
    "y_score = qda.decision_function(x_test)\n",
    "fpr, tpr, _ = sk_metrics.roc_curve(y_test, y_score, pos_label= model.classes_[1])\n",
    "roc_display = sk_metrics.RocCurveDisplay(fpr= fpr, tpr= tpr)\n",
    "roc_display.plot(name='Curva ROC')"
   ]
  },
  {
   "cell_type": "code",
   "execution_count": 53,
   "id": "23519727-9e78-46f4-ba15-2525b54d3fde",
   "metadata": {},
   "outputs": [
    {
     "data": {
      "text/plain": [
       "<sklearn.metrics._plot.precision_recall_curve.PrecisionRecallDisplay at 0x223d7b5bd00>"
      ]
     },
     "execution_count": 53,
     "metadata": {},
     "output_type": "execute_result"
    },
    {
     "data": {
      "image/png": "[encoded data removed]",
      "text/plain": [
       "<Figure size 432x288 with 1 Axes>"
      ]
     },
     "metadata": {
      "needs_background": "light"
     },
     "output_type": "display_data"
    }
   ],
   "source": [
    "prec, recall, _ = sk_metrics.precision_recall_curve(y_test, y_score, pos_label= model.classes_[1])\n",
    "pr_display = sk_metrics.PrecisionRecallDisplay(precision= prec, recall= recall)\n",
    "pr_display.plot(name='Curva Precisión-Recall')"
   ]
  },
  {
   "cell_type": "markdown",
   "id": "8b5aad3c-a2b5-4fcf-aa4d-25576601a921",
   "metadata": {},
   "source": [
    "#### Cross-Validation:"
   ]
  },
  {
   "cell_type": "code",
   "execution_count": 54,
   "id": "6521bf00-7891-447f-a0aa-6bd1c2d19bac",
   "metadata": {},
   "outputs": [],
   "source": [
    "scores = cross_val_score(model, x_train, y_train, cv=5)"
   ]
  },
  {
   "cell_type": "code",
   "execution_count": 55,
   "id": "3f8b3264-52e3-4090-a50e-45cb55a7061e",
   "metadata": {},
   "outputs": [
    {
     "data": {
      "text/plain": [
       "array([0.94594595, 0.86486486, 0.88888889, 0.80555556, 0.88888889])"
      ]
     },
     "execution_count": 55,
     "metadata": {},
     "output_type": "execute_result"
    }
   ],
   "source": [
    "scores"
   ]
  },
  {
   "cell_type": "code",
   "execution_count": 56,
   "id": "19705a35-73e3-4b72-9ff0-3bc29831e9bb",
   "metadata": {},
   "outputs": [
    {
     "data": {
      "text/plain": [
       "0.8788288288288288"
      ]
     },
     "execution_count": 56,
     "metadata": {},
     "output_type": "execute_result"
    }
   ],
   "source": [
    "scores.mean()"
   ]
  },
  {
   "cell_type": "code",
   "execution_count": 57,
   "id": "50363143-38d2-4bd7-b5ed-81de73ca2cae",
   "metadata": {},
   "outputs": [
    {
     "data": {
      "text/plain": [
       "0.045323463885064"
      ]
     },
     "execution_count": 57,
     "metadata": {},
     "output_type": "execute_result"
    }
   ],
   "source": [
    "scores.std()"
   ]
  },
  {
   "cell_type": "markdown",
   "id": "0381a60e-1c76-493c-b3d8-66ff601ea1b3",
   "metadata": {},
   "source": [
    "Los resultados de la validación cruzada muestran que el modelo QDA tiene un buen rendimiento, con una precisión promedio cercana al 87%. Además, los valores de precisión obtenidos en cada iteración de la validación cruzada son relativamente estables y están todos por encima del 80%, lo que sugiere que el modelo es robusto y generaliza bien a nuevos conjuntos de datos."
   ]
  }
 ],
 "metadata": {
  "kernelspec": {
   "display_name": "Python 3 (ipykernel)",
   "language": "python",
   "name": "python3"
  },
  "language_info": {
   "codemirror_mode": {
    "name": "ipython",
    "version": 3
   },
   "file_extension": ".py",
   "mimetype": "text/x-python",
   "name": "python",
   "nbconvert_exporter": "python",
   "pygments_lexer": "ipython3",
   "version": "3.9.12"
  }
 },
 "nbformat": 4,
 "nbformat_minor": 5
}
