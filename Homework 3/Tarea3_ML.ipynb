{
 "cells": [
  {
   "cell_type": "markdown",
   "id": "8b07832b-20fc-41b0-a856-61466758b5e7",
   "metadata": {},
   "source": [
    "# Tarea 3: Machine Learning\n",
    "### Universidad de Valparaíso\n",
    "### Alumno: Bastián Barraza\n",
    "### Profesor: Alejandro Pereira"
   ]
  },
  {
   "cell_type": "code",
   "execution_count": null,
   "id": "8da7db61-fd6b-4a49-a4cd-6c86f85c08ae",
   "metadata": {},
   "outputs": [],
   "source": []
  },
  {
   "cell_type": "markdown",
   "id": "796520ad-3a78-42e4-b199-860d9e8b7805",
   "metadata": {},
   "source": [
    "# Introducción"
   ]
  },
  {
   "cell_type": "markdown",
   "id": "560ac417-0bca-4d08-835b-c410fc9c92af",
   "metadata": {},
   "source": [
    "La enfermedad cardíaca es una de las principales causas de mortalidad en todo el mundo, y la identificación temprana de sus síntomas es crucial para un tratamiento efectivo. La presencia de angina inducida por ejercicio puede ser un indicador de un flujo sanguíneo insuficiente hacia el corazón debido a obstrucciones en las arterias coronarias. Por ello, la aplicación de algoritmos de clasificación para detectar la presencia de angina inducida por ejercicio permite una detección temprana de problemas cardiovasculares y puede conducir a la implementación de medidas preventivas y terapéuticas adecuadas para reducir el riesgo de eventos cardíacos graves, como infarto de miocardio o angina inestable.\n",
    "\n",
    "En este contexto, el presente trabajo se centra en la aplicación de técnicas de machine learning para construir un clasificador capaz de predecir la variable \"exang\" (angina inducida por ejercicio) en pacientes con enfermedad cardíaca. Específicamente, se aplican y analizan el rendimiento de los modelos de Regresión Logística, Naive Bayes, Support Vector Classifier (SVC), Linear Discriminant Analysis (LDA) y Quadratic Discriminant Analysis (QDA).\n",
    "\n",
    "Además, se evalúa el desempeño del clasificador utilizando métricas de evaluación, como exactitud (accuracy), precisión, recall y puntuación F1. También se comparan las curvas ROC, las curvas de precisión-recall y las tasas de aprendizaje de cada uno de los clasificadores."
   ]
  },
  {
   "cell_type": "markdown",
   "id": "aeef40a5-e7b6-4b5f-adbd-e40447534d03",
   "metadata": {
    "tags": []
   },
   "source": [
    "## Ejercicio: \n",
    "**Comparar regression logística, SVM, Naïve Bayes, LDA y QDA usando las métricas de desmpeño correspondientes. Hacer un código con comentarios y analysis.**"
   ]
  },
  {
   "cell_type": "markdown",
   "id": "e82631f6-a127-470a-9864-be4b0f9d5671",
   "metadata": {},
   "source": [
    "### Variable de respuesta:\n",
    "- exang: angina inducida por ejercicio (1 = sí; 0 = no)\n",
    "\n",
    "### Variables a explicatorias:\n",
    "- edad: edad en años\n",
    "- sexo: sexo (1 = masculino; 0 = femenino)\n",
    "- cp: tipo de dolor de pecho (1: angina típica; 2: angina atípica; 3: dolor no anginoso; 4: asintomático)\n",
    "- trestbps: presión arterial en reposo (en mm Hg al ingreso al hospital)\n",
    "- col: colesterol sérico en mg/dl\n",
    "- fbs: (azúcar en sangre en ayunas > 120 mg/dl) (1 = verdadero; 0 = falso)\n",
    "- restecg: resultados electrocardiográficos en reposo (0: normal; 1: presenta anormalidad en la onda ST-T (inversiones de onda T y/o elevación o depresión de ST > 0.05 mV); 2: muestra hipertrofia ventricular izquierda probable o definitiva según los criterios de Estes)\n",
    "\n",
    "- thalach: frecuencia cardíaca máxima alcanzada\n",
    "- oldpeak: depresión del segmento ST inducida por el ejercicio en relación al reposo\n"
   ]
  },
  {
   "cell_type": "markdown",
   "id": "f721ba89-3604-47e5-94cc-dc955aa3aec9",
   "metadata": {},
   "source": [
    "# Metodología"
   ]
  },
  {
   "cell_type": "markdown",
   "id": "d7412c5f-e114-4a8a-a6bf-509bcbd0c12e",
   "metadata": {},
   "source": [
    "Para llevar a cabo este estudio, en primer lugar se importan las librerías que se utilizarán, como pandas, matplotlib, numpy, seaborn y scikit-learn, entre otras. A continuación, se realiza la limpieza de los datos con el fin de garantizar la calidad y confiabilidad de los mismos en el análisis y construcción del clasificador. Posteriormente, se definen las variables de respuesta y explicativas, separándolas en categorías numéricas y categóricas, y aplicando el tratamiento correspondiente a cada una.\n",
    "\n",
    "Una vez definidas las variables de estudio, se crea una función para automatizar la aplicación de los clasificadores y obtener métricas para evaluar su rendimiento. En esta función, se realiza la escala de los datos utilizando un método estándar para las variables numéricas y un codificador One Hot para transformar las variables categóricas. Esto se logra mediante el uso de la función ColumnTransformer de scikit-learn. A continuación, se aplican los cinco clasificadores seleccionados y se calculan diversas métricas para medir su desempeño. Además, se obtienen los valores de la matriz de confusión, la curva ROC, la curva de precisión-recall y la tasa de aprendizaje de cada modelo.\n",
    "\n",
    "Dado que Naive Bayes estima directamente las probabilidades de pertenencia a cada clase, mientras que los demás clasificadores, como Logistic Regression, Support Vector Machines (SVM) y Linear Discriminant Analysis (LDA), utilizan enfoques diferentes, los puntajes utilizados para calcular la curva ROC y la curva Precision-Recall en Naive Bayes son distintos a los de los demás clasificadores."
   ]
  },
  {
   "cell_type": "markdown",
   "id": "72777b43-4f65-4a74-870b-73ba22120f6b",
   "metadata": {},
   "source": [
    "## Librerías a utilizar"
   ]
  },
  {
   "cell_type": "code",
   "execution_count": 1,
   "id": "3aa847df-ef63-4e99-bf0b-9273f41a870e",
   "metadata": {},
   "outputs": [
    {
     "name": "stdout",
     "output_type": "stream",
     "text": [
      "Requirement already satisfied: plotly in c:\\users\\bastian barraza m\\anaconda3\\lib\\site-packages (5.6.0)\n",
      "Requirement already satisfied: tenacity>=6.2.0 in c:\\users\\bastian barraza m\\anaconda3\\lib\\site-packages (from plotly) (8.0.1)\n",
      "Requirement already satisfied: six in c:\\users\\bastian barraza m\\anaconda3\\lib\\site-packages (from plotly) (1.16.0)\n",
      "Note: you may need to restart the kernel to use updated packages.\n"
     ]
    },
    {
     "name": "stderr",
     "output_type": "stream",
     "text": [
      "WARNING: Ignoring invalid distribution -atplotlib (c:\\users\\bastian barraza m\\anaconda3\\lib\\site-packages)\n",
      "WARNING: Ignoring invalid distribution -illow (c:\\users\\bastian barraza m\\anaconda3\\lib\\site-packages)\n",
      "WARNING: Ignoring invalid distribution -rotobuf (c:\\users\\bastian barraza m\\anaconda3\\lib\\site-packages)\n",
      "WARNING: Ignoring invalid distribution -atplotlib (c:\\users\\bastian barraza m\\anaconda3\\lib\\site-packages)\n",
      "WARNING: Ignoring invalid distribution -illow (c:\\users\\bastian barraza m\\anaconda3\\lib\\site-packages)\n",
      "WARNING: Ignoring invalid distribution -rotobuf (c:\\users\\bastian barraza m\\anaconda3\\lib\\site-packages)\n"
     ]
    }
   ],
   "source": [
    "pip install plotly"
   ]
  },
  {
   "cell_type": "code",
   "execution_count": 2,
   "id": "69654b69-da35-4c7c-8a52-e5a65a35d5d9",
   "metadata": {},
   "outputs": [],
   "source": [
    "import pandas as pd\n",
    "import matplotlib.pyplot as plt\n",
    "import seaborn as sns\n",
    "import numpy as np\n",
    "import plotly.graph_objects as go\n",
    "\n",
    "from sklearn.preprocessing import StandardScaler, OneHotEncoder\n",
    "from sklearn.compose import ColumnTransformer\n",
    "\n",
    "from sklearn import metrics as sk_metrics\n",
    "from sklearn.model_selection import learning_curve\n",
    "from sklearn.model_selection import train_test_split\n",
    "\n",
    "from sklearn.metrics import roc_curve, auc, roc_auc_score\n",
    "from sklearn.metrics import precision_score, recall_score, f1_score\n",
    "from sklearn.metrics import confusion_matrix, accuracy_score, precision_recall_curve\n",
    "\n",
    "from sklearn.linear_model import LogisticRegression\n",
    "from sklearn.svm import SVC\n",
    "from sklearn.naive_bayes import GaussianNB\n",
    "from sklearn.discriminant_analysis import LinearDiscriminantAnalysis\n",
    "from sklearn.discriminant_analysis import QuadraticDiscriminantAnalysis\n",
    "\n",
    "from scipy.special import expit"
   ]
  },
  {
   "cell_type": "code",
   "execution_count": 3,
   "id": "4fb67f3c-baba-4f13-82ba-1ea9f9de401b",
   "metadata": {},
   "outputs": [],
   "source": [
    "df = pd.read_csv(\"https://raw.githubusercontent.com/bastianbm7/Machine-Learning-Course/main/Data/data.csv\")"
   ]
  },
  {
   "cell_type": "markdown",
   "id": "52fbb0b2-0c64-4c3a-97e0-d993a85cda51",
   "metadata": {},
   "source": [
    "## Limpieza de datos:"
   ]
  },
  {
   "cell_type": "markdown",
   "id": "068293b2-1c3e-4ddf-80c9-13f683924a36",
   "metadata": {},
   "source": [
    "En esta sección, se realiza la etapa de limpieza de datos con el objetivo de asegurar la calidad y confiabilidad de los datos utilizados en el análisis y construcción del clasificador. Para lograrlo, se llevan a cabo las siguientes tareas:\n",
    "\n",
    "1) **Renombrar columnas:** Se asignan nombres descriptivos a las columnas para facilitar su interpretación y comprensión.\n",
    "\n",
    "2) **Reemplazar valores mal ingresados:** Se identifican y corrigen los valores que han sido ingresados incorrectamente, asegurando la coherencia y consistencia de los datos.\n",
    "\n",
    "3) **Eliminar columnas no utilizadas:** Se eliminan aquellas columnas que no aportan información relevante para el análisis y construcción del clasificador, reduciendo la dimensionalidad del conjunto de datos.\n",
    "\n",
    "4) **Eliminar valores perdidos:** Se identifican y eliminan los registros que contienen valores faltantes o perdidos, evitando posibles sesgos o distorsiones en el análisis.\n",
    "\n",
    "5) **Chequeo de tipos de datos:** Se verifica que los tipos de datos de las variables sean correctos y coherentes con su naturaleza, realizando conversiones si es necesario."
   ]
  },
  {
   "cell_type": "code",
   "execution_count": 4,
   "id": "54d0723e-8f90-446f-91b4-93143c4e6748",
   "metadata": {},
   "outputs": [],
   "source": [
    "# Renombrar la columna 'num       ' a 'attack'\n",
    "df.rename(columns={'num       ': 'attack'}, inplace=True)\n",
    "\n",
    "# Reemplazar los valores '?' por NaN en todo el DataFrame\n",
    "df.replace(\"?\", np.nan, inplace=True)\n",
    "\n",
    "# Eliminar las columnas 'slope', 'ca' y 'thal' del DataFrame\n",
    "df.drop(columns=['slope', 'ca', 'thal'], inplace=True)\n",
    "\n",
    "# Eliminar las filas que contienen valores NaN en el DataFrame\n",
    "df.dropna(inplace=True)"
   ]
  },
  {
   "cell_type": "code",
   "execution_count": 5,
   "id": "bd171948-44b8-4273-8bb2-d10cd7bfed92",
   "metadata": {},
   "outputs": [],
   "source": [
    "# conversión de varias columnas específicas del df al tipo de dato float\n",
    "df['trestbps'] = df['trestbps'].astype(float)\n",
    "df['chol'] = df['chol'].astype(float)\n",
    "df['fbs'] = df['fbs'].astype(float)\n",
    "df['restecg'] = df['restecg'].astype(float)\n",
    "df['thalach'] = df['thalach'].astype(float)\n",
    "df['exang'] = df['exang'].astype(float)"
   ]
  },
  {
   "cell_type": "code",
   "execution_count": 6,
   "id": "e3687912-56a1-48ea-87c5-0794e3c89731",
   "metadata": {},
   "outputs": [
    {
     "data": {
      "text/plain": [
       "age         0\n",
       "sex         0\n",
       "cp          0\n",
       "trestbps    0\n",
       "chol        0\n",
       "fbs         0\n",
       "restecg     0\n",
       "thalach     0\n",
       "exang       0\n",
       "oldpeak     0\n",
       "attack      0\n",
       "dtype: int64"
      ]
     },
     "execution_count": 6,
     "metadata": {},
     "output_type": "execute_result"
    }
   ],
   "source": [
    "# Valores perdidos:\n",
    "df.isnull().sum()"
   ]
  },
  {
   "cell_type": "code",
   "execution_count": 7,
   "id": "5f432aae-e7e4-425d-a91c-0bea020efc4a",
   "metadata": {},
   "outputs": [
    {
     "data": {
      "text/plain": [
       "(261, 11)"
      ]
     },
     "execution_count": 7,
     "metadata": {},
     "output_type": "execute_result"
    }
   ],
   "source": [
    "# Obtener las dimensiones del DataFrame después de realizar las operaciones anteriores\n",
    "df.shape"
   ]
  },
  {
   "cell_type": "code",
   "execution_count": 8,
   "id": "9df6fe9b-d85d-424b-98c8-ad8bb051b41b",
   "metadata": {},
   "outputs": [
    {
     "name": "stdout",
     "output_type": "stream",
     "text": [
      "<class 'pandas.core.frame.DataFrame'>\n",
      "Int64Index: 261 entries, 0 to 293\n",
      "Data columns (total 11 columns):\n",
      " #   Column    Non-Null Count  Dtype  \n",
      "---  ------    --------------  -----  \n",
      " 0   age       261 non-null    int64  \n",
      " 1   sex       261 non-null    int64  \n",
      " 2   cp        261 non-null    int64  \n",
      " 3   trestbps  261 non-null    float64\n",
      " 4   chol      261 non-null    float64\n",
      " 5   fbs       261 non-null    float64\n",
      " 6   restecg   261 non-null    float64\n",
      " 7   thalach   261 non-null    float64\n",
      " 8   exang     261 non-null    float64\n",
      " 9   oldpeak   261 non-null    float64\n",
      " 10  attack    261 non-null    int64  \n",
      "dtypes: float64(7), int64(4)\n",
      "memory usage: 24.5 KB\n"
     ]
    }
   ],
   "source": [
    "# Información de los tipos de datos del DataFrame\n",
    "df.info()"
   ]
  },
  {
   "cell_type": "markdown",
   "id": "58e74a98-d98d-46d0-b3cb-8394bd7e9ac2",
   "metadata": {},
   "source": [
    "Notamos que no existen luego de realizar la limpieza, no existen datos perdidos y todos los datos tienen una estructura consistente. "
   ]
  },
  {
   "cell_type": "markdown",
   "id": "820b4c4a-0098-4713-bda5-a4d8c017ecec",
   "metadata": {},
   "source": [
    "## Definir variables"
   ]
  },
  {
   "cell_type": "markdown",
   "id": "31fb3ff6-dd66-4f34-96d0-27964317f37a",
   "metadata": {},
   "source": [
    "Ahora, se busca separar el conjunto de datos en una variable de respuesta y variables explicativas. La variable de respuesta que se analiza es la presencia de angina después de realizar ejercicio físico, denominada 'exang' en el conjunto de datos. \n",
    "\n",
    "Luego, se identifican las variables numéricas y categóricas que se utilizarán en el estudio. Las variables numéricas, como edad, presión arterial en reposo, colesterol, frecuencia cardíaca máxima alcanzada y depresión del segmento ST inducida por el ejercicio, proporcionan medidas cuantitativas relacionadas con la condición cardíaca de los pacientes. Por otro lado, se consideran las variables categóricas, como género, tipo de dolor en el pecho, nivel de azúcar en la sangre en ayunas, resultado del electrocardiograma en reposo y presencia de enfermedad cardíaca. "
   ]
  },
  {
   "cell_type": "code",
   "execution_count": 9,
   "id": "73f34f80-1c76-4b57-907f-bb3277076384",
   "metadata": {},
   "outputs": [],
   "source": [
    "y = df['exang']\n",
    "X = df.drop(['exang'], axis=1)\n",
    "numericCols = ['age', 'trestbps', 'chol', 'thalach', 'oldpeak']\n",
    "categoricalCols = ['sex', 'cp', 'fbs', 'restecg', 'attack']"
   ]
  },
  {
   "cell_type": "markdown",
   "id": "226bd5c6-f31f-4780-b468-ab932990935d",
   "metadata": {},
   "source": [
    "## Escalar datos"
   ]
  },
  {
   "cell_type": "markdown",
   "id": "ffbb8eb9-bd01-49f2-8ff5-a5db4fc22087",
   "metadata": {},
   "source": [
    "Luego, se busca estandarizar los datos. Este paso puede mejorar la interpretación de los datos y resulta útil para reducir la influencia de valores atípicos, así como para mejorar la comparabilidad entre diferentes variables en el conjunto de datos.\n",
    "\n",
    "En este caso, se utiliza la función ColumnTransformer para aplicar un escalado estándar a las variables numéricas y un codificador One Hot para las variables categóricas. El escalado estándar permite que las variables numéricas tengan una distribución con media cero y desviación estándar uno, lo cual ayuda a que los modelos de aprendizaje automático trabajen de manera más efectiva. Por otro lado, el codificador One Hot convierte las variables categóricas en múltiples variables binarias, lo que permite que los algoritmos interpreten y utilicen adecuadamente estas variables en el análisis."
   ]
  },
  {
   "cell_type": "markdown",
   "id": "141da46b-1523-440e-9a70-eb4a3339ae77",
   "metadata": {},
   "source": [
    "## Aplicación de los clasificadores"
   ]
  },
  {
   "cell_type": "markdown",
   "id": "14fc856b-428f-4a42-b4c8-99099ca5bb99",
   "metadata": {},
   "source": [
    "En la siguiente función, se realiza un proceso completo que involucra el escalamiento de los datos, la aplicación de diferentes clasificadores y la obtención de métricas para evaluar su desempeño. Una vez que se ha aplicado la función a cada clasificador, se genera la matriz de confusión correspondiente. "
   ]
  },
  {
   "cell_type": "code",
   "execution_count": 10,
   "id": "8ede7f37-a4bb-4348-a5ea-f755441b9f90",
   "metadata": {},
   "outputs": [],
   "source": [
    "def applyClassificator(X, y, numerical_columns, caterogical_columns, classifier_name):\n",
    "    \"\"\"\n",
    "    Esta función sirve para automatizar el escalado de los datos,\n",
    "    aplicar un clasificador y devolver las métricas de evaluación.\n",
    "\n",
    "    Parámetros de entrada:\n",
    "    - X: matriz de características (features) de entrada.\n",
    "    - y: vector de etiquetas de clase correspondientes a las muestras de X.\n",
    "    - numerical_columns: lista de nombres de variables numéricas de X\n",
    "    - caterogical_columns: lista de nombres de variables categóricas de X\n",
    "    - classifier_name: nombre del clasificador a utilizar.\n",
    "\n",
    "    Salida:\n",
    "    - df_metrics: dataframe con las métricas de evaluación del clasificador.\n",
    "    - cm_df: dataframe con la matriz de confusión.\n",
    "    - df_learning_curve: dataframe con la curva de aprendizaje del clasificador.\n",
    "    - df_roc: dataframe con la curva ROC.\n",
    "    - df_prc: dataframe con la curva de precision-recall.\n",
    "    \"\"\"\n",
    "    \n",
    "    # Definir las transformaciones para cada tipo de columna\n",
    "    transformations = [\n",
    "        ('onehot', OneHotEncoder(), caterogical_columns),  # Aplicar one-hot encoding a la columna 'Columna2'\n",
    "        ('scaler', StandardScaler(), numerical_columns)  # Aplicar escalado a las columnas 'Columna1' y 'Columna3'\n",
    "    ]\n",
    "    \n",
    "    # Crear el ColumnTransformer\n",
    "    ct = ColumnTransformer(transformations)\n",
    "    \n",
    "    X_scaled = ct.fit_transform(X)\n",
    "    \n",
    "    ####################################################################\n",
    "    \n",
    "    # División de los datos en conjuntos de entrenamiento y prueba\n",
    "    X_train, X_test, y_train, y_test = train_test_split(X_scaled, y, test_size=0.2, random_state=42)\n",
    "    \n",
    "    ####################################################################\n",
    "    \n",
    "    # Selección del clasificador según el nombre proporcionado\n",
    "    if classifier_name == \"LogisticRegression\":\n",
    "        classifier = LogisticRegression()\n",
    "    elif classifier_name == \"GaussianNB\":\n",
    "        classifier = GaussianNB()\n",
    "    elif classifier_name == \"SVC\":\n",
    "        classifier = SVC()\n",
    "    elif classifier_name == \"LinearDiscriminantAnalysis\":\n",
    "        classifier = LinearDiscriminantAnalysis()\n",
    "    elif classifier_name == \"QuadraticDiscriminantAnalysis\":\n",
    "        classifier = QuadraticDiscriminantAnalysis()\n",
    "    else:\n",
    "        print(\"Clasificador no soportado.\")\n",
    "        return\n",
    "\n",
    "    # Entrenamiento del clasificador\n",
    "    classifier.fit(X_train, y_train)\n",
    "\n",
    "    # Predicción de las etiquetas de clase para el conjunto de prueba\n",
    "    y_pred = classifier.predict(X_test)\n",
    "    \n",
    "    ####################################################################\n",
    "    \n",
    "    # Cálculo de la matriz de confusión\n",
    "    cm = confusion_matrix(y_test, y_pred)\n",
    "    cm_df = pd.DataFrame(cm, index=['Negativo Real', 'Positivo Real'],\n",
    "                         columns=['Negativo Predicción', 'Positivo Predicción'])\n",
    "    \n",
    "    ####################################################################\n",
    "    \n",
    "    # Cálculo de las métricas de evaluación\n",
    "    accuracy = accuracy_score(y_test, y_pred)\n",
    "    precision = precision_score(y_test, y_pred)\n",
    "    recall = recall_score(y_test, y_pred)\n",
    "    f1 = f1_score(y_test, y_pred)\n",
    "\n",
    "    df_metrics = {\n",
    "        'Accuracy': accuracy,\n",
    "        'Precision': precision,\n",
    "        'Recall': recall,\n",
    "        'F1-Score': f1,\n",
    "        'ROC-Area': roc_auc_score(y_test, y_pred)\n",
    "    }\n",
    "    df_metrics = pd.DataFrame(df_metrics, index=[f'{classifier.__class__.__name__}'])\n",
    "    \n",
    "    ####################################################################\n",
    "    \n",
    "    # Cálculo de la curva de aprendizaje\n",
    "    train_sizes, train_scores, test_scores = learning_curve(classifier, X_train, y_train, scoring='accuracy')\n",
    "    \n",
    "    # Cálculo de la media de los puntajes de entrenamiento en cada tamaño de muestra\n",
    "    test_scores_mean = np.mean(test_scores, axis=1)\n",
    "    train_scores_mean = np.mean(train_scores, axis=1)\n",
    "    \n",
    "    # Creación del dataframe de la curva de aprendizaje\n",
    "    df_learning_curve = {\n",
    "        'Classifier': [classifier.__class__.__name__] * len(train_sizes),\n",
    "        'train_sizes': train_sizes,\n",
    "        'train_scores': train_scores_mean,\n",
    "        'test_scores': test_scores_mean\n",
    "    }\n",
    "    df_learning_curve = pd.DataFrame(df_learning_curve)\n",
    "    \n",
    "    ####################################################################\n",
    "    \n",
    "    # Cálculo de la curva ROC y la curva precision-recall en el clasificador Naive Bayes\n",
    "    if classifier_name == \"GaussianNB\":\n",
    "        # Cálculo del área bajo la curva ROC\n",
    "        roc_auc = roc_auc_score(y_test, y_pred)\n",
    "    \n",
    "        # Predicción de probabilidades para el conjunto de prueba\n",
    "        y_prob = classifier.predict_proba(X_test)\n",
    "        y_score = y_prob[:, 1]\n",
    "    \n",
    "        # Cálculo de la precisión y el recall en diferentes umbrales de probabilidad\n",
    "        precision, recall, _ = sk_metrics.precision_recall_curve(y_test, y_score, pos_label=classifier.classes_[1])\n",
    "    \n",
    "        # Cálculo de la tasa de falsos positivos y la tasa de verdaderos positivos\n",
    "        fpr, tpr, _ = sk_metrics.roc_curve(y_test, y_score, pos_label=classifier.classes_[1])\n",
    "    \n",
    "        # Creación del dataframe de la curva precision-recall\n",
    "        df_prc = pd.DataFrame({'Classifier': [classifier.__class__.__name__] * len(precision),\n",
    "                               'Precision': precision,\n",
    "                               'Recall': recall})\n",
    "    \n",
    "        # Creación del dataframe de la curva ROC\n",
    "        df_roc = pd.DataFrame({'Classifier': [classifier.__class__.__name__] * len(fpr),\n",
    "                               'FPR': fpr,\n",
    "                               'TPR': tpr,\n",
    "                               'roc-auc': roc_auc})\n",
    "    \n",
    "    ####################################################################\n",
    "    \n",
    "    # Cálculo de la curva ROC y la curva precision-recall en los \n",
    "    # clasificadores distintos a Naive Bayes\n",
    "    else:\n",
    "        # Cálculo del área bajo la curva ROC\n",
    "        roc_auc = roc_auc_score(y_test, y_pred)\n",
    "    \n",
    "        # Cálculo de la puntuación de decisión para el conjunto de prueba\n",
    "        y_score = classifier.decision_function(X_test)\n",
    "    \n",
    "        # Cálculo de la precisión y el recall en diferentes umbrales de puntuación de decisión\n",
    "        precision, recall, _ = sk_metrics.precision_recall_curve(y_test, y_score, pos_label=classifier.classes_[1])\n",
    "    \n",
    "        # Cálculo de la tasa de falsos positivos y la tasa de verdaderos positivos\n",
    "        fpr, tpr, _ = sk_metrics.roc_curve(y_test, y_score, pos_label=classifier.classes_[1])\n",
    "    \n",
    "        # Creación del dataframe de la curva precision-recall\n",
    "        df_prc = pd.DataFrame({'Classifier': [classifier.__class__.__name__] * len(precision),\n",
    "                               'Precision': precision,\n",
    "                               'Recall': recall})\n",
    "    \n",
    "        # Creación del dataframe de la curva ROC\n",
    "        df_roc = pd.DataFrame({'Classifier': [classifier.__class__.__name__] * len(fpr),\n",
    "                               'FPR': fpr,\n",
    "                               'TPR': tpr,\n",
    "                               'roc-auc': roc_auc})\n",
    "        \n",
    "    return df_metrics, cm_df, df_learning_curve, df_roc, df_prc"
   ]
  },
  {
   "cell_type": "markdown",
   "id": "5fac0209-dacc-48ea-8b46-8c8b28155c3c",
   "metadata": {},
   "source": [
    "### Regresión logística"
   ]
  },
  {
   "cell_type": "markdown",
   "id": "44086ea2-8ba0-4400-aa5e-260d6267ff6d",
   "metadata": {},
   "source": [
    "La regresión logística es un algoritmo de aprendizaje supervisado utilizado para problemas de clasificación binaria. Su objetivo es encontrar una relación entre un conjunto de variables predictoras y la probabilidad de pertenencia a una de las dos clases. A diferencia de la regresión lineal, la regresión logística utiliza una función logística para estimar las probabilidades de pertenencia a cada clase. Estas probabilidades se interpretan como la confianza de que una observación pertenezca a una clase en particular. \n",
    "\n",
    "El modelo de regresión logística se ajusta mediante la maximización de la verosimilitud, encontrando los coeficientes óptimos que mejor se ajusten a los datos observados. Una vez ajustado el modelo, se puede utilizar para hacer predicciones sobre nuevas observaciones, clasificándolas en una de las dos clases según la probabilidad estimada."
   ]
  },
  {
   "cell_type": "code",
   "execution_count": 11,
   "id": "1ee6213f-9ad1-49e4-9006-c0350195200b",
   "metadata": {},
   "outputs": [
    {
     "data": {
      "text/html": [
       "<div>\n",
       "<style scoped>\n",
       "    .dataframe tbody tr th:only-of-type {\n",
       "        vertical-align: middle;\n",
       "    }\n",
       "\n",
       "    .dataframe tbody tr th {\n",
       "        vertical-align: top;\n",
       "    }\n",
       "\n",
       "    .dataframe thead th {\n",
       "        text-align: right;\n",
       "    }\n",
       "</style>\n",
       "<table border=\"1\" class=\"dataframe\">\n",
       "  <thead>\n",
       "    <tr style=\"text-align: right;\">\n",
       "      <th></th>\n",
       "      <th>Negativo Predicción</th>\n",
       "      <th>Positivo Predicción</th>\n",
       "    </tr>\n",
       "  </thead>\n",
       "  <tbody>\n",
       "    <tr>\n",
       "      <th>Negativo Real</th>\n",
       "      <td>28</td>\n",
       "      <td>8</td>\n",
       "    </tr>\n",
       "    <tr>\n",
       "      <th>Positivo Real</th>\n",
       "      <td>3</td>\n",
       "      <td>14</td>\n",
       "    </tr>\n",
       "  </tbody>\n",
       "</table>\n",
       "</div>"
      ],
      "text/plain": [
       "               Negativo Predicción  Positivo Predicción\n",
       "Negativo Real                   28                    8\n",
       "Positivo Real                    3                   14"
      ]
     },
     "execution_count": 11,
     "metadata": {},
     "output_type": "execute_result"
    }
   ],
   "source": [
    "classifier_name = 'LogisticRegression'\n",
    "dfMetrics_log, dfCM_log, dfLearningCurve_log, dfRoc_log, dfPRC_log = applyClassificator(X, y, numericCols, categoricalCols, classifier_name)\n",
    "dfCM_log"
   ]
  },
  {
   "cell_type": "markdown",
   "id": "a292eb34-ff4d-4816-9379-b61a52051eb1",
   "metadata": {},
   "source": [
    "### Naive Bayes"
   ]
  },
  {
   "cell_type": "markdown",
   "id": "2c6469a7-b202-43ee-a417-7f17f503b244",
   "metadata": {},
   "source": [
    "Naive Bayes es otro algoritmo de clasificación utilizado en problemas de aprendizaje supervisado. Se basa en el teorema de Bayes y asume una independencia condicional entre las variables predictoras. El algoritmo calcula la probabilidad de pertenencia a cada clase utilizando el teorema de Bayes y selecciona la clase con la probabilidad más alta como la predicción final.\n",
    "\n",
    "Para utilizar Naive Bayes, se estima la probabilidad de cada clase y las probabilidades condicionales de las variables predictoras dado cada clase en el conjunto de entrenamiento. Estas estimaciones se utilizan para calcular la probabilidad de pertenencia a cada clase para nuevas observaciones. Finalmente, se selecciona la clase con la probabilidad más alta como la predicción del modelo."
   ]
  },
  {
   "cell_type": "code",
   "execution_count": 12,
   "id": "35ab5d2b-b51b-4317-af4d-7e9fdee14753",
   "metadata": {},
   "outputs": [
    {
     "data": {
      "text/html": [
       "<div>\n",
       "<style scoped>\n",
       "    .dataframe tbody tr th:only-of-type {\n",
       "        vertical-align: middle;\n",
       "    }\n",
       "\n",
       "    .dataframe tbody tr th {\n",
       "        vertical-align: top;\n",
       "    }\n",
       "\n",
       "    .dataframe thead th {\n",
       "        text-align: right;\n",
       "    }\n",
       "</style>\n",
       "<table border=\"1\" class=\"dataframe\">\n",
       "  <thead>\n",
       "    <tr style=\"text-align: right;\">\n",
       "      <th></th>\n",
       "      <th>Negativo Predicción</th>\n",
       "      <th>Positivo Predicción</th>\n",
       "    </tr>\n",
       "  </thead>\n",
       "  <tbody>\n",
       "    <tr>\n",
       "      <th>Negativo Real</th>\n",
       "      <td>21</td>\n",
       "      <td>15</td>\n",
       "    </tr>\n",
       "    <tr>\n",
       "      <th>Positivo Real</th>\n",
       "      <td>0</td>\n",
       "      <td>17</td>\n",
       "    </tr>\n",
       "  </tbody>\n",
       "</table>\n",
       "</div>"
      ],
      "text/plain": [
       "               Negativo Predicción  Positivo Predicción\n",
       "Negativo Real                   21                   15\n",
       "Positivo Real                    0                   17"
      ]
     },
     "execution_count": 12,
     "metadata": {},
     "output_type": "execute_result"
    }
   ],
   "source": [
    "classifier_name = 'GaussianNB'\n",
    "dfMetrics_nb, dfCM_nb, dfLearningCurve_nb, dfRoc_nb, dfPRC_nb = applyClassificator(X, y, numericCols, categoricalCols, classifier_name)\n",
    "dfCM_nb"
   ]
  },
  {
   "cell_type": "markdown",
   "id": "062595cb-44b5-437b-a287-b5e4e0328978",
   "metadata": {},
   "source": [
    "### Support Vector Classification (SVC)"
   ]
  },
  {
   "cell_type": "markdown",
   "id": "14e1c178-ac15-4027-9745-9dbc0513ec75",
   "metadata": {},
   "source": [
    "Luego, el clasificador SVC, se basa en el concepto de vectores de soporte, que son puntos de datos que se encuentran más cerca de la frontera de decisión que separa las clases. El objetivo del SVC es encontrar el hiperplano que mejor separa las clases, maximizando la distancia entre los vectores de soporte y el hiperplano.\n",
    "\n",
    "SVC utiliza una función de kernel para mapear los datos a un espacio de mayor dimensionalidad, lo que puede ayudar a encontrar una separación lineal o no lineal óptima entre las clases."
   ]
  },
  {
   "cell_type": "code",
   "execution_count": 13,
   "id": "81821139-49e1-4964-a379-f7d2b1edfaed",
   "metadata": {},
   "outputs": [
    {
     "data": {
      "text/html": [
       "<div>\n",
       "<style scoped>\n",
       "    .dataframe tbody tr th:only-of-type {\n",
       "        vertical-align: middle;\n",
       "    }\n",
       "\n",
       "    .dataframe tbody tr th {\n",
       "        vertical-align: top;\n",
       "    }\n",
       "\n",
       "    .dataframe thead th {\n",
       "        text-align: right;\n",
       "    }\n",
       "</style>\n",
       "<table border=\"1\" class=\"dataframe\">\n",
       "  <thead>\n",
       "    <tr style=\"text-align: right;\">\n",
       "      <th></th>\n",
       "      <th>Negativo Predicción</th>\n",
       "      <th>Positivo Predicción</th>\n",
       "    </tr>\n",
       "  </thead>\n",
       "  <tbody>\n",
       "    <tr>\n",
       "      <th>Negativo Real</th>\n",
       "      <td>28</td>\n",
       "      <td>8</td>\n",
       "    </tr>\n",
       "    <tr>\n",
       "      <th>Positivo Real</th>\n",
       "      <td>5</td>\n",
       "      <td>12</td>\n",
       "    </tr>\n",
       "  </tbody>\n",
       "</table>\n",
       "</div>"
      ],
      "text/plain": [
       "               Negativo Predicción  Positivo Predicción\n",
       "Negativo Real                   28                    8\n",
       "Positivo Real                    5                   12"
      ]
     },
     "execution_count": 13,
     "metadata": {},
     "output_type": "execute_result"
    }
   ],
   "source": [
    "classifier_name = 'SVC'\n",
    "dfMetrics_svc, dfCM_svc, dfLearningCurve_svc, dfRoc_svc, dfPRC_svc = applyClassificator(X, y, numericCols, categoricalCols, classifier_name)\n",
    "dfCM_svc"
   ]
  },
  {
   "cell_type": "markdown",
   "id": "34826db0-565c-4137-be48-869d4dbf44b6",
   "metadata": {},
   "source": [
    "### Linear Discriminant Analysis (LDA)"
   ]
  },
  {
   "cell_type": "markdown",
   "id": "e7230afc-8ec3-4133-9395-709aa377e70f",
   "metadata": {},
   "source": [
    "El clasificador LDA tiene como objetivo encontrar una combinación lineal de variables predictoras que maximice la separación entre las clases mientras minimiza la variabilidad dentro de cada clase. LDA asume que los datos se distribuyen de manera gaussiana y que las matrices de covarianza son iguales para todas las clases.\n",
    "\n",
    "LDA busca proyectar los datos en un espacio de menor dimensión mientras maximiza la separabilidad entre las clases. Esta proyección se realiza mediante el cálculo de vectores propios y valores propios de la matriz de dispersión entre clases y la matriz de dispersión dentro de clases."
   ]
  },
  {
   "cell_type": "code",
   "execution_count": 14,
   "id": "8fd54e11-8606-4316-ba33-91140741867f",
   "metadata": {},
   "outputs": [
    {
     "data": {
      "text/html": [
       "<div>\n",
       "<style scoped>\n",
       "    .dataframe tbody tr th:only-of-type {\n",
       "        vertical-align: middle;\n",
       "    }\n",
       "\n",
       "    .dataframe tbody tr th {\n",
       "        vertical-align: top;\n",
       "    }\n",
       "\n",
       "    .dataframe thead th {\n",
       "        text-align: right;\n",
       "    }\n",
       "</style>\n",
       "<table border=\"1\" class=\"dataframe\">\n",
       "  <thead>\n",
       "    <tr style=\"text-align: right;\">\n",
       "      <th></th>\n",
       "      <th>Negativo Predicción</th>\n",
       "      <th>Positivo Predicción</th>\n",
       "    </tr>\n",
       "  </thead>\n",
       "  <tbody>\n",
       "    <tr>\n",
       "      <th>Negativo Real</th>\n",
       "      <td>29</td>\n",
       "      <td>7</td>\n",
       "    </tr>\n",
       "    <tr>\n",
       "      <th>Positivo Real</th>\n",
       "      <td>4</td>\n",
       "      <td>13</td>\n",
       "    </tr>\n",
       "  </tbody>\n",
       "</table>\n",
       "</div>"
      ],
      "text/plain": [
       "               Negativo Predicción  Positivo Predicción\n",
       "Negativo Real                   29                    7\n",
       "Positivo Real                    4                   13"
      ]
     },
     "execution_count": 14,
     "metadata": {},
     "output_type": "execute_result"
    }
   ],
   "source": [
    "classifier_name = 'LinearDiscriminantAnalysis'\n",
    "dfMetrics_lda, dfCM_lda, dfLearningCurve_lda, dfRoc_lda, dfPRC_lda = applyClassificator(X, y, numericCols, categoricalCols, classifier_name)\n",
    "dfCM_lda"
   ]
  },
  {
   "cell_type": "markdown",
   "id": "21cb7e46-2eff-4668-8e04-1f6d2fecca97",
   "metadata": {},
   "source": [
    "### Quadratic Disciminant Analysis (QDA)"
   ]
  },
  {
   "cell_type": "markdown",
   "id": "771a62dd-4985-496e-811a-96e1badd19ca",
   "metadata": {},
   "source": [
    "El clasificador QDA es una extensión del algoritmo LDA y se basa en supuestos similares. Sin embargo, a diferencia de LDA, QDA permite que las matrices de covarianza sean diferentes para cada clase.\n",
    "\n",
    "QDA busca encontrar una combinación cuadrática de variables predictoras que maximice la separación entre las clases. Al permitir matrices de covarianza distintas, QDA puede capturar relaciones más complejas entre las variables y proporcionar una mayor flexibilidad en la modelización de los datos."
   ]
  },
  {
   "cell_type": "code",
   "execution_count": 15,
   "id": "df8acd4d-a56e-4c84-8636-064a5fa9d2be",
   "metadata": {},
   "outputs": [
    {
     "name": "stderr",
     "output_type": "stream",
     "text": [
      "C:\\Users\\Bastian Barraza M\\anaconda3\\lib\\site-packages\\sklearn\\discriminant_analysis.py:878: UserWarning: Variables are collinear\n",
      "  warnings.warn(\"Variables are collinear\")\n",
      "C:\\Users\\Bastian Barraza M\\anaconda3\\lib\\site-packages\\sklearn\\discriminant_analysis.py:878: UserWarning: Variables are collinear\n",
      "  warnings.warn(\"Variables are collinear\")\n",
      "C:\\Users\\Bastian Barraza M\\anaconda3\\lib\\site-packages\\sklearn\\discriminant_analysis.py:878: UserWarning: Variables are collinear\n",
      "  warnings.warn(\"Variables are collinear\")\n",
      "C:\\Users\\Bastian Barraza M\\anaconda3\\lib\\site-packages\\sklearn\\discriminant_analysis.py:878: UserWarning: Variables are collinear\n",
      "  warnings.warn(\"Variables are collinear\")\n",
      "C:\\Users\\Bastian Barraza M\\anaconda3\\lib\\site-packages\\sklearn\\discriminant_analysis.py:878: UserWarning: Variables are collinear\n",
      "  warnings.warn(\"Variables are collinear\")\n",
      "C:\\Users\\Bastian Barraza M\\anaconda3\\lib\\site-packages\\sklearn\\discriminant_analysis.py:878: UserWarning: Variables are collinear\n",
      "  warnings.warn(\"Variables are collinear\")\n",
      "C:\\Users\\Bastian Barraza M\\anaconda3\\lib\\site-packages\\sklearn\\discriminant_analysis.py:878: UserWarning: Variables are collinear\n",
      "  warnings.warn(\"Variables are collinear\")\n",
      "C:\\Users\\Bastian Barraza M\\anaconda3\\lib\\site-packages\\sklearn\\discriminant_analysis.py:878: UserWarning: Variables are collinear\n",
      "  warnings.warn(\"Variables are collinear\")\n",
      "C:\\Users\\Bastian Barraza M\\anaconda3\\lib\\site-packages\\sklearn\\discriminant_analysis.py:878: UserWarning: Variables are collinear\n",
      "  warnings.warn(\"Variables are collinear\")\n",
      "C:\\Users\\Bastian Barraza M\\anaconda3\\lib\\site-packages\\sklearn\\discriminant_analysis.py:878: UserWarning: Variables are collinear\n",
      "  warnings.warn(\"Variables are collinear\")\n",
      "C:\\Users\\Bastian Barraza M\\anaconda3\\lib\\site-packages\\sklearn\\discriminant_analysis.py:878: UserWarning: Variables are collinear\n",
      "  warnings.warn(\"Variables are collinear\")\n",
      "C:\\Users\\Bastian Barraza M\\anaconda3\\lib\\site-packages\\sklearn\\discriminant_analysis.py:878: UserWarning: Variables are collinear\n",
      "  warnings.warn(\"Variables are collinear\")\n",
      "C:\\Users\\Bastian Barraza M\\anaconda3\\lib\\site-packages\\sklearn\\discriminant_analysis.py:878: UserWarning: Variables are collinear\n",
      "  warnings.warn(\"Variables are collinear\")\n",
      "C:\\Users\\Bastian Barraza M\\anaconda3\\lib\\site-packages\\sklearn\\discriminant_analysis.py:878: UserWarning: Variables are collinear\n",
      "  warnings.warn(\"Variables are collinear\")\n",
      "C:\\Users\\Bastian Barraza M\\anaconda3\\lib\\site-packages\\sklearn\\discriminant_analysis.py:878: UserWarning: Variables are collinear\n",
      "  warnings.warn(\"Variables are collinear\")\n",
      "C:\\Users\\Bastian Barraza M\\anaconda3\\lib\\site-packages\\sklearn\\discriminant_analysis.py:878: UserWarning: Variables are collinear\n",
      "  warnings.warn(\"Variables are collinear\")\n",
      "C:\\Users\\Bastian Barraza M\\anaconda3\\lib\\site-packages\\sklearn\\discriminant_analysis.py:878: UserWarning: Variables are collinear\n",
      "  warnings.warn(\"Variables are collinear\")\n",
      "C:\\Users\\Bastian Barraza M\\anaconda3\\lib\\site-packages\\sklearn\\discriminant_analysis.py:878: UserWarning: Variables are collinear\n",
      "  warnings.warn(\"Variables are collinear\")\n",
      "C:\\Users\\Bastian Barraza M\\anaconda3\\lib\\site-packages\\sklearn\\discriminant_analysis.py:878: UserWarning: Variables are collinear\n",
      "  warnings.warn(\"Variables are collinear\")\n",
      "C:\\Users\\Bastian Barraza M\\anaconda3\\lib\\site-packages\\sklearn\\discriminant_analysis.py:878: UserWarning: Variables are collinear\n",
      "  warnings.warn(\"Variables are collinear\")\n",
      "C:\\Users\\Bastian Barraza M\\anaconda3\\lib\\site-packages\\sklearn\\discriminant_analysis.py:878: UserWarning: Variables are collinear\n",
      "  warnings.warn(\"Variables are collinear\")\n",
      "C:\\Users\\Bastian Barraza M\\anaconda3\\lib\\site-packages\\sklearn\\discriminant_analysis.py:878: UserWarning: Variables are collinear\n",
      "  warnings.warn(\"Variables are collinear\")\n",
      "C:\\Users\\Bastian Barraza M\\anaconda3\\lib\\site-packages\\sklearn\\discriminant_analysis.py:878: UserWarning: Variables are collinear\n",
      "  warnings.warn(\"Variables are collinear\")\n",
      "C:\\Users\\Bastian Barraza M\\anaconda3\\lib\\site-packages\\sklearn\\discriminant_analysis.py:878: UserWarning: Variables are collinear\n",
      "  warnings.warn(\"Variables are collinear\")\n",
      "C:\\Users\\Bastian Barraza M\\anaconda3\\lib\\site-packages\\sklearn\\discriminant_analysis.py:878: UserWarning: Variables are collinear\n",
      "  warnings.warn(\"Variables are collinear\")\n",
      "C:\\Users\\Bastian Barraza M\\anaconda3\\lib\\site-packages\\sklearn\\discriminant_analysis.py:878: UserWarning: Variables are collinear\n",
      "  warnings.warn(\"Variables are collinear\")\n"
     ]
    },
    {
     "data": {
      "text/html": [
       "<div>\n",
       "<style scoped>\n",
       "    .dataframe tbody tr th:only-of-type {\n",
       "        vertical-align: middle;\n",
       "    }\n",
       "\n",
       "    .dataframe tbody tr th {\n",
       "        vertical-align: top;\n",
       "    }\n",
       "\n",
       "    .dataframe thead th {\n",
       "        text-align: right;\n",
       "    }\n",
       "</style>\n",
       "<table border=\"1\" class=\"dataframe\">\n",
       "  <thead>\n",
       "    <tr style=\"text-align: right;\">\n",
       "      <th></th>\n",
       "      <th>Negativo Predicción</th>\n",
       "      <th>Positivo Predicción</th>\n",
       "    </tr>\n",
       "  </thead>\n",
       "  <tbody>\n",
       "    <tr>\n",
       "      <th>Negativo Real</th>\n",
       "      <td>9</td>\n",
       "      <td>27</td>\n",
       "    </tr>\n",
       "    <tr>\n",
       "      <th>Positivo Real</th>\n",
       "      <td>0</td>\n",
       "      <td>17</td>\n",
       "    </tr>\n",
       "  </tbody>\n",
       "</table>\n",
       "</div>"
      ],
      "text/plain": [
       "               Negativo Predicción  Positivo Predicción\n",
       "Negativo Real                    9                   27\n",
       "Positivo Real                    0                   17"
      ]
     },
     "execution_count": 15,
     "metadata": {},
     "output_type": "execute_result"
    }
   ],
   "source": [
    "classifier_name = 'QuadraticDiscriminantAnalysis'\n",
    "dfMetrics_qda, dfCM_qda, dfLearningCurve_qda, dfRoc_qda, dfPRC_qda = applyClassificator(X, y, numericCols, categoricalCols, classifier_name)\n",
    "dfCM_qda"
   ]
  },
  {
   "cell_type": "markdown",
   "id": "b9b3f986-d104-422d-aa2a-307d86cd6faa",
   "metadata": {},
   "source": [
    "## Resultados"
   ]
  },
  {
   "cell_type": "code",
   "execution_count": 16,
   "id": "4b4633c5-1ccc-469a-8136-ca32d9fc9319",
   "metadata": {},
   "outputs": [
    {
     "data": {
      "text/html": [
       "<div>\n",
       "<style scoped>\n",
       "    .dataframe tbody tr th:only-of-type {\n",
       "        vertical-align: middle;\n",
       "    }\n",
       "\n",
       "    .dataframe tbody tr th {\n",
       "        vertical-align: top;\n",
       "    }\n",
       "\n",
       "    .dataframe thead th {\n",
       "        text-align: right;\n",
       "    }\n",
       "</style>\n",
       "<table border=\"1\" class=\"dataframe\">\n",
       "  <thead>\n",
       "    <tr style=\"text-align: right;\">\n",
       "      <th></th>\n",
       "      <th>Accuracy</th>\n",
       "      <th>Precision</th>\n",
       "      <th>Recall</th>\n",
       "      <th>F1-Score</th>\n",
       "      <th>ROC-Area</th>\n",
       "    </tr>\n",
       "  </thead>\n",
       "  <tbody>\n",
       "    <tr>\n",
       "      <th>LogisticRegression</th>\n",
       "      <td>0.792453</td>\n",
       "      <td>0.636364</td>\n",
       "      <td>0.823529</td>\n",
       "      <td>0.717949</td>\n",
       "      <td>0.800654</td>\n",
       "    </tr>\n",
       "    <tr>\n",
       "      <th>GaussianNB</th>\n",
       "      <td>0.716981</td>\n",
       "      <td>0.531250</td>\n",
       "      <td>1.000000</td>\n",
       "      <td>0.693878</td>\n",
       "      <td>0.791667</td>\n",
       "    </tr>\n",
       "    <tr>\n",
       "      <th>SVC</th>\n",
       "      <td>0.754717</td>\n",
       "      <td>0.600000</td>\n",
       "      <td>0.705882</td>\n",
       "      <td>0.648649</td>\n",
       "      <td>0.741830</td>\n",
       "    </tr>\n",
       "    <tr>\n",
       "      <th>LinearDiscriminantAnalysis</th>\n",
       "      <td>0.792453</td>\n",
       "      <td>0.650000</td>\n",
       "      <td>0.764706</td>\n",
       "      <td>0.702703</td>\n",
       "      <td>0.785131</td>\n",
       "    </tr>\n",
       "    <tr>\n",
       "      <th>QuadraticDiscriminantAnalysis</th>\n",
       "      <td>0.490566</td>\n",
       "      <td>0.386364</td>\n",
       "      <td>1.000000</td>\n",
       "      <td>0.557377</td>\n",
       "      <td>0.625000</td>\n",
       "    </tr>\n",
       "  </tbody>\n",
       "</table>\n",
       "</div>"
      ],
      "text/plain": [
       "                               Accuracy  Precision    Recall  F1-Score  \\\n",
       "LogisticRegression             0.792453   0.636364  0.823529  0.717949   \n",
       "GaussianNB                     0.716981   0.531250  1.000000  0.693878   \n",
       "SVC                            0.754717   0.600000  0.705882  0.648649   \n",
       "LinearDiscriminantAnalysis     0.792453   0.650000  0.764706  0.702703   \n",
       "QuadraticDiscriminantAnalysis  0.490566   0.386364  1.000000  0.557377   \n",
       "\n",
       "                               ROC-Area  \n",
       "LogisticRegression             0.800654  \n",
       "GaussianNB                     0.791667  \n",
       "SVC                            0.741830  \n",
       "LinearDiscriminantAnalysis     0.785131  \n",
       "QuadraticDiscriminantAnalysis  0.625000  "
      ]
     },
     "execution_count": 16,
     "metadata": {},
     "output_type": "execute_result"
    }
   ],
   "source": [
    "metrics = [dfMetrics_log, dfMetrics_nb, \n",
    "           dfMetrics_svc, dfMetrics_lda, \n",
    "           dfMetrics_qda]\n",
    "\n",
    "# Concatenate the dataframes vertically\n",
    "metrics_df = pd.concat(metrics, axis=0)\n",
    "metrics_df"
   ]
  },
  {
   "cell_type": "markdown",
   "id": "8eb31b8d-f6df-4c22-937f-fcb3c0b9adcd",
   "metadata": {},
   "source": [
    "Se observa que los clasificadores con mayor precisión son la regresión logística y el Análisis Discriminante Lineal (LDA), con valores de 0.79 en ambos casos. Esto indica que tienen un rendimiento generalmente bueno en términos de predicciones correctas.\n",
    "\n",
    "Del mismo modo, el clasificador LDA y la regresión logística obtuvieron los valores más altos en términos de precisión, con valores de 0.65 y 0.63 respectivamente. Esto indica que estos clasificadores tienen una baja tasa de falsos positivos.\n",
    "\n",
    "Por otro lado, al observar la métrica de Recall, se puede notar que los clasificadores de Naive Bayes y QDA presentan valores perfectos (1.0), lo que indica que clasificaron todas las instancias positivas correctamente. Les siguen los clasificadores de regresión logística y LDA, con valores de Recall de 0.82 y 0.76 respectivamente.\n",
    "\n",
    "Ahora bien, el modelo de regresión logística y LDA son los clasificadores con mayor puntuación F1, con valores de 0.71 y 0.70 respectivamente, lo cual indica un equilibrio en términos de precisión y recall (tasa de falsos positivos y falsos negativos). Sin embargo, es importante notar que el clasificador Naive Bayes y SVC presentan valores cercanos, con 0.69 y 0.64 respectivamente.\n",
    "\n",
    "Al observar el área bajo la curva ROC, que mide la capacidad del modelo para distinguir entre las clases positiva y negativa, se puede observar que la regresión logística, Naive Bayes y LDA poseen los mayores valores, con 0.80, 0.79 y 0.78 respectivamente."
   ]
  },
  {
   "cell_type": "code",
   "execution_count": 20,
   "id": "cbc544c5-8156-44d2-81ff-0d783ca7ef0b",
   "metadata": {},
   "outputs": [
    {
     "data": {
      "application/vnd.plotly.v1+json": {
       "config": {
        "plotlyServerURL": "https://plot.ly"
       },
       "data": [
        {
         "line": {
          "color": "blue",
          "dash": "dash"
         },
         "mode": "lines",
         "name": "Test LogisticRegression",
         "type": "scatter",
         "x": [
          16,
          53,
          91,
          128,
          166
         ],
         "y": [
          0.8509872241579559,
          0.8753774680603948,
          0.8753774680603948,
          0.8656213704994192,
          0.8751451800232288
         ]
        },
        {
         "line": {
          "color": "blue"
         },
         "mode": "lines",
         "name": "Train LogisticRegression",
         "type": "scatter",
         "x": [
          16,
          53,
          91,
          128,
          166
         ],
         "y": [
          0.95,
          0.9358490566037737,
          0.9186813186813187,
          0.921875,
          0.9168674698795181
         ]
        },
        {
         "line": {
          "color": "red",
          "dash": "dash"
         },
         "mode": "lines",
         "name": "Test GaussianNB",
         "type": "scatter",
         "x": [
          16,
          53,
          91,
          128,
          166
         ],
         "y": [
          0.7175377468060394,
          0.3795586527293845,
          0.38443670150987225,
          0.5749128919860627,
          0.6527293844367016
         ]
        },
        {
         "line": {
          "color": "red"
         },
         "mode": "lines",
         "name": "Train GaussianNB",
         "type": "scatter",
         "x": [
          16,
          53,
          91,
          128,
          166
         ],
         "y": [
          0.7625,
          0.3962264150943396,
          0.3846153846153846,
          0.5953125,
          0.6759036144578312
         ]
        },
        {
         "line": {
          "color": "green",
          "dash": "dash"
         },
         "mode": "lines",
         "name": "Test SVC",
         "type": "scatter",
         "x": [
          16,
          53,
          91,
          128,
          166
         ],
         "y": [
          0.6875725900116144,
          0.8753774680603948,
          0.8656213704994192,
          0.8559814169570267,
          0.8559814169570267
         ]
        },
        {
         "line": {
          "color": "green"
         },
         "mode": "lines",
         "name": "Train SVC",
         "type": "scatter",
         "x": [
          16,
          53,
          91,
          128,
          166
         ],
         "y": [
          0.9125,
          0.9320754716981133,
          0.9296703296703297,
          0.9390625,
          0.9397590361445782
         ]
        },
        {
         "line": {
          "color": "orange",
          "dash": "dash"
         },
         "mode": "lines",
         "name": "Test LinearDiscriminantAnalysis",
         "type": "scatter",
         "x": [
          16,
          53,
          91,
          128,
          166
         ],
         "y": [
          0.624274099883856,
          0.8658536585365854,
          0.8707317073170732,
          0.8657375145180023,
          0.870499419279907
         ]
        },
        {
         "line": {
          "color": "orange"
         },
         "mode": "lines",
         "name": "Train LinearDiscriminantAnalysis",
         "type": "scatter",
         "x": [
          16,
          53,
          91,
          128,
          166
         ],
         "y": [
          1,
          0.9320754716981133,
          0.9054945054945055,
          0.9,
          0.9072289156626507
         ]
        },
        {
         "line": {
          "color": "purple",
          "dash": "dash"
         },
         "mode": "lines",
         "name": "Test QuadraticDiscriminantAnalysis",
         "type": "scatter",
         "x": [
          16,
          53,
          91,
          128,
          166
         ],
         "y": [
          0.6632984901277584,
          0.4652729384436701,
          0.61602787456446,
          0.5768873403019745,
          0.5678281068524972
         ]
        },
        {
         "line": {
          "color": "purple"
         },
         "mode": "lines",
         "name": "Train QuadraticDiscriminantAnalysis",
         "type": "scatter",
         "x": [
          16,
          53,
          91,
          128,
          166
         ],
         "y": [
          1,
          0.5132075471698113,
          0.6351648351648352,
          0.5953125,
          0.6265060240963856
         ]
        }
       ],
       "layout": {
        "height": 600,
        "legend": {
         "font": {
          "size": 8
         },
         "x": 1,
         "y": 0.5
        },
        "showlegend": true,
        "template": {
         "data": {
          "bar": [
           {
            "error_x": {
             "color": "#2a3f5f"
            },
            "error_y": {
             "color": "#2a3f5f"
            },
            "marker": {
             "line": {
              "color": "#E5ECF6",
              "width": 0.5
             },
             "pattern": {
              "fillmode": "overlay",
              "size": 10,
              "solidity": 0.2
             }
            },
            "type": "bar"
           }
          ],
          "barpolar": [
           {
            "marker": {
             "line": {
              "color": "#E5ECF6",
              "width": 0.5
             },
             "pattern": {
              "fillmode": "overlay",
              "size": 10,
              "solidity": 0.2
             }
            },
            "type": "barpolar"
           }
          ],
          "carpet": [
           {
            "aaxis": {
             "endlinecolor": "#2a3f5f",
             "gridcolor": "white",
             "linecolor": "white",
             "minorgridcolor": "white",
             "startlinecolor": "#2a3f5f"
            },
            "baxis": {
             "endlinecolor": "#2a3f5f",
             "gridcolor": "white",
             "linecolor": "white",
             "minorgridcolor": "white",
             "startlinecolor": "#2a3f5f"
            },
            "type": "carpet"
           }
          ],
          "choropleth": [
           {
            "colorbar": {
             "outlinewidth": 0,
             "ticks": ""
            },
            "type": "choropleth"
           }
          ],
          "contour": [
           {
            "colorbar": {
             "outlinewidth": 0,
             "ticks": ""
            },
            "colorscale": [
             [
              0,
              "#0d0887"
             ],
             [
              0.1111111111111111,
              "#46039f"
             ],
             [
              0.2222222222222222,
              "#7201a8"
             ],
             [
              0.3333333333333333,
              "#9c179e"
             ],
             [
              0.4444444444444444,
              "#bd3786"
             ],
             [
              0.5555555555555556,
              "#d8576b"
             ],
             [
              0.6666666666666666,
              "#ed7953"
             ],
             [
              0.7777777777777778,
              "#fb9f3a"
             ],
             [
              0.8888888888888888,
              "#fdca26"
             ],
             [
              1,
              "#f0f921"
             ]
            ],
            "type": "contour"
           }
          ],
          "contourcarpet": [
           {
            "colorbar": {
             "outlinewidth": 0,
             "ticks": ""
            },
            "type": "contourcarpet"
           }
          ],
          "heatmap": [
           {
            "colorbar": {
             "outlinewidth": 0,
             "ticks": ""
            },
            "colorscale": [
             [
              0,
              "#0d0887"
             ],
             [
              0.1111111111111111,
              "#46039f"
             ],
             [
              0.2222222222222222,
              "#7201a8"
             ],
             [
              0.3333333333333333,
              "#9c179e"
             ],
             [
              0.4444444444444444,
              "#bd3786"
             ],
             [
              0.5555555555555556,
              "#d8576b"
             ],
             [
              0.6666666666666666,
              "#ed7953"
             ],
             [
              0.7777777777777778,
              "#fb9f3a"
             ],
             [
              0.8888888888888888,
              "#fdca26"
             ],
             [
              1,
              "#f0f921"
             ]
            ],
            "type": "heatmap"
           }
          ],
          "heatmapgl": [
           {
            "colorbar": {
             "outlinewidth": 0,
             "ticks": ""
            },
            "colorscale": [
             [
              0,
              "#0d0887"
             ],
             [
              0.1111111111111111,
              "#46039f"
             ],
             [
              0.2222222222222222,
              "#7201a8"
             ],
             [
              0.3333333333333333,
              "#9c179e"
             ],
             [
              0.4444444444444444,
              "#bd3786"
             ],
             [
              0.5555555555555556,
              "#d8576b"
             ],
             [
              0.6666666666666666,
              "#ed7953"
             ],
             [
              0.7777777777777778,
              "#fb9f3a"
             ],
             [
              0.8888888888888888,
              "#fdca26"
             ],
             [
              1,
              "#f0f921"
             ]
            ],
            "type": "heatmapgl"
           }
          ],
          "histogram": [
           {
            "marker": {
             "pattern": {
              "fillmode": "overlay",
              "size": 10,
              "solidity": 0.2
             }
            },
            "type": "histogram"
           }
          ],
          "histogram2d": [
           {
            "colorbar": {
             "outlinewidth": 0,
             "ticks": ""
            },
            "colorscale": [
             [
              0,
              "#0d0887"
             ],
             [
              0.1111111111111111,
              "#46039f"
             ],
             [
              0.2222222222222222,
              "#7201a8"
             ],
             [
              0.3333333333333333,
              "#9c179e"
             ],
             [
              0.4444444444444444,
              "#bd3786"
             ],
             [
              0.5555555555555556,
              "#d8576b"
             ],
             [
              0.6666666666666666,
              "#ed7953"
             ],
             [
              0.7777777777777778,
              "#fb9f3a"
             ],
             [
              0.8888888888888888,
              "#fdca26"
             ],
             [
              1,
              "#f0f921"
             ]
            ],
            "type": "histogram2d"
           }
          ],
          "histogram2dcontour": [
           {
            "colorbar": {
             "outlinewidth": 0,
             "ticks": ""
            },
            "colorscale": [
             [
              0,
              "#0d0887"
             ],
             [
              0.1111111111111111,
              "#46039f"
             ],
             [
              0.2222222222222222,
              "#7201a8"
             ],
             [
              0.3333333333333333,
              "#9c179e"
             ],
             [
              0.4444444444444444,
              "#bd3786"
             ],
             [
              0.5555555555555556,
              "#d8576b"
             ],
             [
              0.6666666666666666,
              "#ed7953"
             ],
             [
              0.7777777777777778,
              "#fb9f3a"
             ],
             [
              0.8888888888888888,
              "#fdca26"
             ],
             [
              1,
              "#f0f921"
             ]
            ],
            "type": "histogram2dcontour"
           }
          ],
          "mesh3d": [
           {
            "colorbar": {
             "outlinewidth": 0,
             "ticks": ""
            },
            "type": "mesh3d"
           }
          ],
          "parcoords": [
           {
            "line": {
             "colorbar": {
              "outlinewidth": 0,
              "ticks": ""
             }
            },
            "type": "parcoords"
           }
          ],
          "pie": [
           {
            "automargin": true,
            "type": "pie"
           }
          ],
          "scatter": [
           {
            "marker": {
             "colorbar": {
              "outlinewidth": 0,
              "ticks": ""
             }
            },
            "type": "scatter"
           }
          ],
          "scatter3d": [
           {
            "line": {
             "colorbar": {
              "outlinewidth": 0,
              "ticks": ""
             }
            },
            "marker": {
             "colorbar": {
              "outlinewidth": 0,
              "ticks": ""
             }
            },
            "type": "scatter3d"
           }
          ],
          "scattercarpet": [
           {
            "marker": {
             "colorbar": {
              "outlinewidth": 0,
              "ticks": ""
             }
            },
            "type": "scattercarpet"
           }
          ],
          "scattergeo": [
           {
            "marker": {
             "colorbar": {
              "outlinewidth": 0,
              "ticks": ""
             }
            },
            "type": "scattergeo"
           }
          ],
          "scattergl": [
           {
            "marker": {
             "colorbar": {
              "outlinewidth": 0,
              "ticks": ""
             }
            },
            "type": "scattergl"
           }
          ],
          "scattermapbox": [
           {
            "marker": {
             "colorbar": {
              "outlinewidth": 0,
              "ticks": ""
             }
            },
            "type": "scattermapbox"
           }
          ],
          "scatterpolar": [
           {
            "marker": {
             "colorbar": {
              "outlinewidth": 0,
              "ticks": ""
             }
            },
            "type": "scatterpolar"
           }
          ],
          "scatterpolargl": [
           {
            "marker": {
             "colorbar": {
              "outlinewidth": 0,
              "ticks": ""
             }
            },
            "type": "scatterpolargl"
           }
          ],
          "scatterternary": [
           {
            "marker": {
             "colorbar": {
              "outlinewidth": 0,
              "ticks": ""
             }
            },
            "type": "scatterternary"
           }
          ],
          "surface": [
           {
            "colorbar": {
             "outlinewidth": 0,
             "ticks": ""
            },
            "colorscale": [
             [
              0,
              "#0d0887"
             ],
             [
              0.1111111111111111,
              "#46039f"
             ],
             [
              0.2222222222222222,
              "#7201a8"
             ],
             [
              0.3333333333333333,
              "#9c179e"
             ],
             [
              0.4444444444444444,
              "#bd3786"
             ],
             [
              0.5555555555555556,
              "#d8576b"
             ],
             [
              0.6666666666666666,
              "#ed7953"
             ],
             [
              0.7777777777777778,
              "#fb9f3a"
             ],
             [
              0.8888888888888888,
              "#fdca26"
             ],
             [
              1,
              "#f0f921"
             ]
            ],
            "type": "surface"
           }
          ],
          "table": [
           {
            "cells": {
             "fill": {
              "color": "#EBF0F8"
             },
             "line": {
              "color": "white"
             }
            },
            "header": {
             "fill": {
              "color": "#C8D4E3"
             },
             "line": {
              "color": "white"
             }
            },
            "type": "table"
           }
          ]
         },
         "layout": {
          "annotationdefaults": {
           "arrowcolor": "#2a3f5f",
           "arrowhead": 0,
           "arrowwidth": 1
          },
          "autotypenumbers": "strict",
          "coloraxis": {
           "colorbar": {
            "outlinewidth": 0,
            "ticks": ""
           }
          },
          "colorscale": {
           "diverging": [
            [
             0,
             "#8e0152"
            ],
            [
             0.1,
             "#c51b7d"
            ],
            [
             0.2,
             "#de77ae"
            ],
            [
             0.3,
             "#f1b6da"
            ],
            [
             0.4,
             "#fde0ef"
            ],
            [
             0.5,
             "#f7f7f7"
            ],
            [
             0.6,
             "#e6f5d0"
            ],
            [
             0.7,
             "#b8e186"
            ],
            [
             0.8,
             "#7fbc41"
            ],
            [
             0.9,
             "#4d9221"
            ],
            [
             1,
             "#276419"
            ]
           ],
           "sequential": [
            [
             0,
             "#0d0887"
            ],
            [
             0.1111111111111111,
             "#46039f"
            ],
            [
             0.2222222222222222,
             "#7201a8"
            ],
            [
             0.3333333333333333,
             "#9c179e"
            ],
            [
             0.4444444444444444,
             "#bd3786"
            ],
            [
             0.5555555555555556,
             "#d8576b"
            ],
            [
             0.6666666666666666,
             "#ed7953"
            ],
            [
             0.7777777777777778,
             "#fb9f3a"
            ],
            [
             0.8888888888888888,
             "#fdca26"
            ],
            [
             1,
             "#f0f921"
            ]
           ],
           "sequentialminus": [
            [
             0,
             "#0d0887"
            ],
            [
             0.1111111111111111,
             "#46039f"
            ],
            [
             0.2222222222222222,
             "#7201a8"
            ],
            [
             0.3333333333333333,
             "#9c179e"
            ],
            [
             0.4444444444444444,
             "#bd3786"
            ],
            [
             0.5555555555555556,
             "#d8576b"
            ],
            [
             0.6666666666666666,
             "#ed7953"
            ],
            [
             0.7777777777777778,
             "#fb9f3a"
            ],
            [
             0.8888888888888888,
             "#fdca26"
            ],
            [
             1,
             "#f0f921"
            ]
           ]
          },
          "colorway": [
           "#636efa",
           "#EF553B",
           "#00cc96",
           "#ab63fa",
           "#FFA15A",
           "#19d3f3",
           "#FF6692",
           "#B6E880",
           "#FF97FF",
           "#FECB52"
          ],
          "font": {
           "color": "#2a3f5f"
          },
          "geo": {
           "bgcolor": "white",
           "lakecolor": "white",
           "landcolor": "#E5ECF6",
           "showlakes": true,
           "showland": true,
           "subunitcolor": "white"
          },
          "hoverlabel": {
           "align": "left"
          },
          "hovermode": "closest",
          "mapbox": {
           "style": "light"
          },
          "paper_bgcolor": "white",
          "plot_bgcolor": "#E5ECF6",
          "polar": {
           "angularaxis": {
            "gridcolor": "white",
            "linecolor": "white",
            "ticks": ""
           },
           "bgcolor": "#E5ECF6",
           "radialaxis": {
            "gridcolor": "white",
            "linecolor": "white",
            "ticks": ""
           }
          },
          "scene": {
           "xaxis": {
            "backgroundcolor": "#E5ECF6",
            "gridcolor": "white",
            "gridwidth": 2,
            "linecolor": "white",
            "showbackground": true,
            "ticks": "",
            "zerolinecolor": "white"
           },
           "yaxis": {
            "backgroundcolor": "#E5ECF6",
            "gridcolor": "white",
            "gridwidth": 2,
            "linecolor": "white",
            "showbackground": true,
            "ticks": "",
            "zerolinecolor": "white"
           },
           "zaxis": {
            "backgroundcolor": "#E5ECF6",
            "gridcolor": "white",
            "gridwidth": 2,
            "linecolor": "white",
            "showbackground": true,
            "ticks": "",
            "zerolinecolor": "white"
           }
          },
          "shapedefaults": {
           "line": {
            "color": "#2a3f5f"
           }
          },
          "ternary": {
           "aaxis": {
            "gridcolor": "white",
            "linecolor": "white",
            "ticks": ""
           },
           "baxis": {
            "gridcolor": "white",
            "linecolor": "white",
            "ticks": ""
           },
           "bgcolor": "#E5ECF6",
           "caxis": {
            "gridcolor": "white",
            "linecolor": "white",
            "ticks": ""
           }
          },
          "title": {
           "x": 0.05
          },
          "xaxis": {
           "automargin": true,
           "gridcolor": "white",
           "linecolor": "white",
           "ticks": "",
           "title": {
            "standoff": 15
           },
           "zerolinecolor": "white",
           "zerolinewidth": 2
          },
          "yaxis": {
           "automargin": true,
           "gridcolor": "white",
           "linecolor": "white",
           "ticks": "",
           "title": {
            "standoff": 15
           },
           "zerolinecolor": "white",
           "zerolinewidth": 2
          }
         }
        },
        "title": {
         "text": "Curva de Aprendizaje<br><span style=\"font-size: 12px; color: gray;\">Presiona sobre las leyendas para ocultar / mostrar las rectas</span>"
        },
        "width": 900,
        "xaxis": {
         "autorange": true,
         "range": [
          16,
          166
         ],
         "title": {
          "text": "Tamaño del conjunto de entrenamiento"
         },
         "type": "linear"
        },
        "yaxis": {
         "autorange": true,
         "range": [
          0.3450896889921281,
          1.0344689637372564
         ],
         "title": {
          "text": "Accuracy"
         },
         "type": "linear"
        }
       }
      },
      "image/png": "[encoded data removed]",
      "text/html": [
       "<div>                            <div id=\"2b19e49f-d1b4-491a-a45a-a42a21b21e08\" class=\"plotly-graph-div\" style=\"height:600px; width:900px;\"></div>            <script type=\"text/javascript\">                require([\"plotly\"], function(Plotly) {                    window.PLOTLYENV=window.PLOTLYENV || {};                                    if (document.getElementById(\"2b19e49f-d1b4-491a-a45a-a42a21b21e08\")) {                    Plotly.newPlot(                        \"2b19e49f-d1b4-491a-a45a-a42a21b21e08\",                        [{\"line\":{\"color\":\"blue\",\"dash\":\"dash\"},\"mode\":\"lines\",\"name\":\"Test LogisticRegression\",\"x\":[16,53,91,128,166],\"y\":[0.8509872241579559,0.8753774680603948,0.8753774680603948,0.8656213704994192,0.8751451800232288],\"type\":\"scatter\"},{\"line\":{\"color\":\"blue\"},\"mode\":\"lines\",\"name\":\"Train LogisticRegression\",\"x\":[16,53,91,128,166],\"y\":[0.95,0.9358490566037737,0.9186813186813187,0.921875,0.9168674698795181],\"type\":\"scatter\"},{\"line\":{\"color\":\"red\",\"dash\":\"dash\"},\"mode\":\"lines\",\"name\":\"Test GaussianNB\",\"x\":[16,53,91,128,166],\"y\":[0.7175377468060394,0.3795586527293845,0.38443670150987225,0.5749128919860627,0.6527293844367016],\"type\":\"scatter\"},{\"line\":{\"color\":\"red\"},\"mode\":\"lines\",\"name\":\"Train GaussianNB\",\"x\":[16,53,91,128,166],\"y\":[0.7625,0.3962264150943396,0.3846153846153846,0.5953125,0.6759036144578312],\"type\":\"scatter\"},{\"line\":{\"color\":\"green\",\"dash\":\"dash\"},\"mode\":\"lines\",\"name\":\"Test SVC\",\"x\":[16,53,91,128,166],\"y\":[0.6875725900116144,0.8753774680603948,0.8656213704994192,0.8559814169570267,0.8559814169570267],\"type\":\"scatter\"},{\"line\":{\"color\":\"green\"},\"mode\":\"lines\",\"name\":\"Train SVC\",\"x\":[16,53,91,128,166],\"y\":[0.9125,0.9320754716981133,0.9296703296703297,0.9390625,0.9397590361445782],\"type\":\"scatter\"},{\"line\":{\"color\":\"orange\",\"dash\":\"dash\"},\"mode\":\"lines\",\"name\":\"Test LinearDiscriminantAnalysis\",\"x\":[16,53,91,128,166],\"y\":[0.624274099883856,0.8658536585365854,0.8707317073170732,0.8657375145180023,0.870499419279907],\"type\":\"scatter\"},{\"line\":{\"color\":\"orange\"},\"mode\":\"lines\",\"name\":\"Train LinearDiscriminantAnalysis\",\"x\":[16,53,91,128,166],\"y\":[1.0,0.9320754716981133,0.9054945054945055,0.9,0.9072289156626507],\"type\":\"scatter\"},{\"line\":{\"color\":\"purple\",\"dash\":\"dash\"},\"mode\":\"lines\",\"name\":\"Test QuadraticDiscriminantAnalysis\",\"x\":[16,53,91,128,166],\"y\":[0.6632984901277584,0.4652729384436701,0.61602787456446,0.5768873403019745,0.5678281068524972],\"type\":\"scatter\"},{\"line\":{\"color\":\"purple\"},\"mode\":\"lines\",\"name\":\"Train QuadraticDiscriminantAnalysis\",\"x\":[16,53,91,128,166],\"y\":[1.0,0.5132075471698113,0.6351648351648352,0.5953125,0.6265060240963856],\"type\":\"scatter\"}],                        {\"height\":600,\"legend\":{\"font\":{\"size\":8},\"x\":1,\"y\":0.5},\"showlegend\":true,\"title\":{\"text\":\"Curva de Aprendizaje<br><span style=\\\"font-size: 12px; color: gray;\\\">Presiona sobre las leyendas para ocultar / mostrar las rectas</span>\"},\"width\":900,\"xaxis\":{\"title\":{\"text\":\"Tama\\u00f1o del conjunto de entrenamiento\"}},\"yaxis\":{\"title\":{\"text\":\"Accuracy\"}},\"template\":{\"data\":{\"bar\":[{\"error_x\":{\"color\":\"#2a3f5f\"},\"error_y\":{\"color\":\"#2a3f5f\"},\"marker\":{\"line\":{\"color\":\"#E5ECF6\",\"width\":0.5},\"pattern\":{\"fillmode\":\"overlay\",\"size\":10,\"solidity\":0.2}},\"type\":\"bar\"}],\"barpolar\":[{\"marker\":{\"line\":{\"color\":\"#E5ECF6\",\"width\":0.5},\"pattern\":{\"fillmode\":\"overlay\",\"size\":10,\"solidity\":0.2}},\"type\":\"barpolar\"}],\"carpet\":[{\"aaxis\":{\"endlinecolor\":\"#2a3f5f\",\"gridcolor\":\"white\",\"linecolor\":\"white\",\"minorgridcolor\":\"white\",\"startlinecolor\":\"#2a3f5f\"},\"baxis\":{\"endlinecolor\":\"#2a3f5f\",\"gridcolor\":\"white\",\"linecolor\":\"white\",\"minorgridcolor\":\"white\",\"startlinecolor\":\"#2a3f5f\"},\"type\":\"carpet\"}],\"choropleth\":[{\"colorbar\":{\"outlinewidth\":0,\"ticks\":\"\"},\"type\":\"choropleth\"}],\"contour\":[{\"colorbar\":{\"outlinewidth\":0,\"ticks\":\"\"},\"colorscale\":[[0.0,\"#0d0887\"],[0.1111111111111111,\"#46039f\"],[0.2222222222222222,\"#7201a8\"],[0.3333333333333333,\"#9c179e\"],[0.4444444444444444,\"#bd3786\"],[0.5555555555555556,\"#d8576b\"],[0.6666666666666666,\"#ed7953\"],[0.7777777777777778,\"#fb9f3a\"],[0.8888888888888888,\"#fdca26\"],[1.0,\"#f0f921\"]],\"type\":\"contour\"}],\"contourcarpet\":[{\"colorbar\":{\"outlinewidth\":0,\"ticks\":\"\"},\"type\":\"contourcarpet\"}],\"heatmap\":[{\"colorbar\":{\"outlinewidth\":0,\"ticks\":\"\"},\"colorscale\":[[0.0,\"#0d0887\"],[0.1111111111111111,\"#46039f\"],[0.2222222222222222,\"#7201a8\"],[0.3333333333333333,\"#9c179e\"],[0.4444444444444444,\"#bd3786\"],[0.5555555555555556,\"#d8576b\"],[0.6666666666666666,\"#ed7953\"],[0.7777777777777778,\"#fb9f3a\"],[0.8888888888888888,\"#fdca26\"],[1.0,\"#f0f921\"]],\"type\":\"heatmap\"}],\"heatmapgl\":[{\"colorbar\":{\"outlinewidth\":0,\"ticks\":\"\"},\"colorscale\":[[0.0,\"#0d0887\"],[0.1111111111111111,\"#46039f\"],[0.2222222222222222,\"#7201a8\"],[0.3333333333333333,\"#9c179e\"],[0.4444444444444444,\"#bd3786\"],[0.5555555555555556,\"#d8576b\"],[0.6666666666666666,\"#ed7953\"],[0.7777777777777778,\"#fb9f3a\"],[0.8888888888888888,\"#fdca26\"],[1.0,\"#f0f921\"]],\"type\":\"heatmapgl\"}],\"histogram\":[{\"marker\":{\"pattern\":{\"fillmode\":\"overlay\",\"size\":10,\"solidity\":0.2}},\"type\":\"histogram\"}],\"histogram2d\":[{\"colorbar\":{\"outlinewidth\":0,\"ticks\":\"\"},\"colorscale\":[[0.0,\"#0d0887\"],[0.1111111111111111,\"#46039f\"],[0.2222222222222222,\"#7201a8\"],[0.3333333333333333,\"#9c179e\"],[0.4444444444444444,\"#bd3786\"],[0.5555555555555556,\"#d8576b\"],[0.6666666666666666,\"#ed7953\"],[0.7777777777777778,\"#fb9f3a\"],[0.8888888888888888,\"#fdca26\"],[1.0,\"#f0f921\"]],\"type\":\"histogram2d\"}],\"histogram2dcontour\":[{\"colorbar\":{\"outlinewidth\":0,\"ticks\":\"\"},\"colorscale\":[[0.0,\"#0d0887\"],[0.1111111111111111,\"#46039f\"],[0.2222222222222222,\"#7201a8\"],[0.3333333333333333,\"#9c179e\"],[0.4444444444444444,\"#bd3786\"],[0.5555555555555556,\"#d8576b\"],[0.6666666666666666,\"#ed7953\"],[0.7777777777777778,\"#fb9f3a\"],[0.8888888888888888,\"#fdca26\"],[1.0,\"#f0f921\"]],\"type\":\"histogram2dcontour\"}],\"mesh3d\":[{\"colorbar\":{\"outlinewidth\":0,\"ticks\":\"\"},\"type\":\"mesh3d\"}],\"parcoords\":[{\"line\":{\"colorbar\":{\"outlinewidth\":0,\"ticks\":\"\"}},\"type\":\"parcoords\"}],\"pie\":[{\"automargin\":true,\"type\":\"pie\"}],\"scatter\":[{\"marker\":{\"colorbar\":{\"outlinewidth\":0,\"ticks\":\"\"}},\"type\":\"scatter\"}],\"scatter3d\":[{\"line\":{\"colorbar\":{\"outlinewidth\":0,\"ticks\":\"\"}},\"marker\":{\"colorbar\":{\"outlinewidth\":0,\"ticks\":\"\"}},\"type\":\"scatter3d\"}],\"scattercarpet\":[{\"marker\":{\"colorbar\":{\"outlinewidth\":0,\"ticks\":\"\"}},\"type\":\"scattercarpet\"}],\"scattergeo\":[{\"marker\":{\"colorbar\":{\"outlinewidth\":0,\"ticks\":\"\"}},\"type\":\"scattergeo\"}],\"scattergl\":[{\"marker\":{\"colorbar\":{\"outlinewidth\":0,\"ticks\":\"\"}},\"type\":\"scattergl\"}],\"scattermapbox\":[{\"marker\":{\"colorbar\":{\"outlinewidth\":0,\"ticks\":\"\"}},\"type\":\"scattermapbox\"}],\"scatterpolar\":[{\"marker\":{\"colorbar\":{\"outlinewidth\":0,\"ticks\":\"\"}},\"type\":\"scatterpolar\"}],\"scatterpolargl\":[{\"marker\":{\"colorbar\":{\"outlinewidth\":0,\"ticks\":\"\"}},\"type\":\"scatterpolargl\"}],\"scatterternary\":[{\"marker\":{\"colorbar\":{\"outlinewidth\":0,\"ticks\":\"\"}},\"type\":\"scatterternary\"}],\"surface\":[{\"colorbar\":{\"outlinewidth\":0,\"ticks\":\"\"},\"colorscale\":[[0.0,\"#0d0887\"],[0.1111111111111111,\"#46039f\"],[0.2222222222222222,\"#7201a8\"],[0.3333333333333333,\"#9c179e\"],[0.4444444444444444,\"#bd3786\"],[0.5555555555555556,\"#d8576b\"],[0.6666666666666666,\"#ed7953\"],[0.7777777777777778,\"#fb9f3a\"],[0.8888888888888888,\"#fdca26\"],[1.0,\"#f0f921\"]],\"type\":\"surface\"}],\"table\":[{\"cells\":{\"fill\":{\"color\":\"#EBF0F8\"},\"line\":{\"color\":\"white\"}},\"header\":{\"fill\":{\"color\":\"#C8D4E3\"},\"line\":{\"color\":\"white\"}},\"type\":\"table\"}]},\"layout\":{\"annotationdefaults\":{\"arrowcolor\":\"#2a3f5f\",\"arrowhead\":0,\"arrowwidth\":1},\"autotypenumbers\":\"strict\",\"coloraxis\":{\"colorbar\":{\"outlinewidth\":0,\"ticks\":\"\"}},\"colorscale\":{\"diverging\":[[0,\"#8e0152\"],[0.1,\"#c51b7d\"],[0.2,\"#de77ae\"],[0.3,\"#f1b6da\"],[0.4,\"#fde0ef\"],[0.5,\"#f7f7f7\"],[0.6,\"#e6f5d0\"],[0.7,\"#b8e186\"],[0.8,\"#7fbc41\"],[0.9,\"#4d9221\"],[1,\"#276419\"]],\"sequential\":[[0.0,\"#0d0887\"],[0.1111111111111111,\"#46039f\"],[0.2222222222222222,\"#7201a8\"],[0.3333333333333333,\"#9c179e\"],[0.4444444444444444,\"#bd3786\"],[0.5555555555555556,\"#d8576b\"],[0.6666666666666666,\"#ed7953\"],[0.7777777777777778,\"#fb9f3a\"],[0.8888888888888888,\"#fdca26\"],[1.0,\"#f0f921\"]],\"sequentialminus\":[[0.0,\"#0d0887\"],[0.1111111111111111,\"#46039f\"],[0.2222222222222222,\"#7201a8\"],[0.3333333333333333,\"#9c179e\"],[0.4444444444444444,\"#bd3786\"],[0.5555555555555556,\"#d8576b\"],[0.6666666666666666,\"#ed7953\"],[0.7777777777777778,\"#fb9f3a\"],[0.8888888888888888,\"#fdca26\"],[1.0,\"#f0f921\"]]},\"colorway\":[\"#636efa\",\"#EF553B\",\"#00cc96\",\"#ab63fa\",\"#FFA15A\",\"#19d3f3\",\"#FF6692\",\"#B6E880\",\"#FF97FF\",\"#FECB52\"],\"font\":{\"color\":\"#2a3f5f\"},\"geo\":{\"bgcolor\":\"white\",\"lakecolor\":\"white\",\"landcolor\":\"#E5ECF6\",\"showlakes\":true,\"showland\":true,\"subunitcolor\":\"white\"},\"hoverlabel\":{\"align\":\"left\"},\"hovermode\":\"closest\",\"mapbox\":{\"style\":\"light\"},\"paper_bgcolor\":\"white\",\"plot_bgcolor\":\"#E5ECF6\",\"polar\":{\"angularaxis\":{\"gridcolor\":\"white\",\"linecolor\":\"white\",\"ticks\":\"\"},\"bgcolor\":\"#E5ECF6\",\"radialaxis\":{\"gridcolor\":\"white\",\"linecolor\":\"white\",\"ticks\":\"\"}},\"scene\":{\"xaxis\":{\"backgroundcolor\":\"#E5ECF6\",\"gridcolor\":\"white\",\"gridwidth\":2,\"linecolor\":\"white\",\"showbackground\":true,\"ticks\":\"\",\"zerolinecolor\":\"white\"},\"yaxis\":{\"backgroundcolor\":\"#E5ECF6\",\"gridcolor\":\"white\",\"gridwidth\":2,\"linecolor\":\"white\",\"showbackground\":true,\"ticks\":\"\",\"zerolinecolor\":\"white\"},\"zaxis\":{\"backgroundcolor\":\"#E5ECF6\",\"gridcolor\":\"white\",\"gridwidth\":2,\"linecolor\":\"white\",\"showbackground\":true,\"ticks\":\"\",\"zerolinecolor\":\"white\"}},\"shapedefaults\":{\"line\":{\"color\":\"#2a3f5f\"}},\"ternary\":{\"aaxis\":{\"gridcolor\":\"white\",\"linecolor\":\"white\",\"ticks\":\"\"},\"baxis\":{\"gridcolor\":\"white\",\"linecolor\":\"white\",\"ticks\":\"\"},\"bgcolor\":\"#E5ECF6\",\"caxis\":{\"gridcolor\":\"white\",\"linecolor\":\"white\",\"ticks\":\"\"}},\"title\":{\"x\":0.05},\"xaxis\":{\"automargin\":true,\"gridcolor\":\"white\",\"linecolor\":\"white\",\"ticks\":\"\",\"title\":{\"standoff\":15},\"zerolinecolor\":\"white\",\"zerolinewidth\":2},\"yaxis\":{\"automargin\":true,\"gridcolor\":\"white\",\"linecolor\":\"white\",\"ticks\":\"\",\"title\":{\"standoff\":15},\"zerolinecolor\":\"white\",\"zerolinewidth\":2}}}},                        {\"responsive\": true}                    ).then(function(){\n",
       "                            \n",
       "var gd = document.getElementById('2b19e49f-d1b4-491a-a45a-a42a21b21e08');\n",
       "var x = new MutationObserver(function (mutations, observer) {{\n",
       "        var display = window.getComputedStyle(gd).display;\n",
       "        if (!display || display === 'none') {{\n",
       "            console.log([gd, 'removed!']);\n",
       "            Plotly.purge(gd);\n",
       "            observer.disconnect();\n",
       "        }}\n",
       "}});\n",
       "\n",
       "// Listen for the removal of the full notebook cells\n",
       "var notebookContainer = gd.closest('#notebook-container');\n",
       "if (notebookContainer) {{\n",
       "    x.observe(notebookContainer, {childList: true});\n",
       "}}\n",
       "\n",
       "// Listen for the clearing of the current output cell\n",
       "var outputEl = gd.closest('.output');\n",
       "if (outputEl) {{\n",
       "    x.observe(outputEl, {childList: true});\n",
       "}}\n",
       "\n",
       "                        })                };                });            </script>        </div>"
      ]
     },
     "metadata": {},
     "output_type": "display_data"
    }
   ],
   "source": [
    "# Crear una lista con los resultados de Learning Curve de diferentes modelos\n",
    "learning_scores = [dfLearningCurve_log, dfLearningCurve_nb, dfLearningCurve_svc, dfLearningCurve_lda, dfLearningCurve_qda]\n",
    "\n",
    "# Concatenar los resultados de Learning Curve en un solo DataFrame\n",
    "df_learning = pd.concat(learning_scores, axis=0)\n",
    "\n",
    "# Crear una lista vacía para almacenar las trazas de los modelos\n",
    "traces = []\n",
    "\n",
    "# Definir una lista de colores para las líneas\n",
    "colors = ['blue', 'red', 'green', 'orange', 'purple']\n",
    "\n",
    "# Iterar sobre los modelos únicos en el DataFrame df_learning\n",
    "# Cada modelo representa una capa en el gráfico Learning rate\n",
    "for i, model in enumerate(df_learning['Classifier'].unique()):\n",
    "    # Filtrar los datos del modelo actual\n",
    "    model_data = df_learning[df_learning['Classifier'] == model]\n",
    "\n",
    "    # Crear una traza para el modelo actual\n",
    "    testTrace = go.Scatter(\n",
    "        x=model_data['train_sizes'],\n",
    "        y=model_data['test_scores'],\n",
    "        mode='lines',\n",
    "        name=f'Test {model}',\n",
    "        line=dict(color=colors[i], dash='dash')\n",
    "    )\n",
    "    \n",
    "    # Agregar la traza a la lista de trazas\n",
    "    traces.append(testTrace)\n",
    "    \n",
    "    # Crear una traza para el modelo actual\n",
    "    trainTrace = go.Scatter(\n",
    "        x=model_data['train_sizes'],\n",
    "        y=model_data['train_scores'],\n",
    "        mode='lines',\n",
    "        line=dict(color=colors[i]),\n",
    "        name=f'Train {model}'\n",
    "    )\n",
    "    \n",
    "    # Agregar la traza a la lista de trazas\n",
    "    traces.append(trainTrace)\n",
    "\n",
    "\n",
    "# Definir el diseño del gráfico\n",
    "layout = go.Layout(\n",
    "    title='Curva de Aprendizaje',\n",
    "    xaxis=dict(title='Tamaño del conjunto de entrenamiento'),\n",
    "    yaxis=dict(title='Accuracy'),\n",
    "    showlegend=True,\n",
    "    legend=dict(x=1, y=0.5, font=dict(size=8)),\n",
    "    height=600,\n",
    "    width=900\n",
    ")\n",
    "\n",
    "# Añade un subtítulo\n",
    "layout['title']['text'] += '<br><span style=\"font-size: 12px; color: gray;\">Presiona sobre las leyendas para ocultar / mostrar las rectas</span>'\n",
    "\n",
    "# Crear la figura del gráfico con las trazas y el diseño\n",
    "fig = go.Figure(data=traces, layout=layout)\n",
    "\n",
    "# Mostrar el gráfico\n",
    "fig.show()"
   ]
  },
  {
   "cell_type": "markdown",
   "id": "da28599a-9140-4bdd-a76f-b59357b16861",
   "metadata": {},
   "source": [
    "Al observar los clasificadores Naive Bayes y QDA, se nota que el mayor accuracy se obtiene con conjuntos de entrenamiento pequeños, con valores de 0.76 y 1, respectivamente. Sin embargo, al aumentar el tamaño del conjunto de entrenamiento a 50 datos, el accuracy disminuye notablemente a 0.37 y 0.51, respectivamente. Posteriormente, al aumentar aún más el conjunto de entrenamiento, se observa un aumento en el accuracy, llegando a niveles cercanos a 0.62.\n",
    "\n",
    "Por otro lado, el modelo logístico mantiene un nivel de accuracy constante en todos los tamaños del conjunto de entrenamiento. No obstante, el accuracy del conjunto de prueba no mejora. Esto indica que posiblemente sea necesario aumentar la cantidad de datos para que el modelo logístico pueda generalizar de manera adecuada.\n",
    "\n",
    "En cuanto a los modelos SVC y LDA, muestran niveles altos y constantes de accuracy en todos los tamaños del conjunto de entrenamiento. Es importante destacar que el accuracy de los datos de prueba aumenta ligeramente, lo cual indica que los clasificadores aprenden de manera relativamente buena a medida que se incrementa el tamaño del conjunto de entrenamiento. Sin embargo, no se logra alcanzar un accuracy constante entre los datos de entrenamiento y de prueba. Al igual que el clasificador logístico, es posible que al aumentar la cantidad de datos se pueda mejorar la clasificación de manera más efectiva."
   ]
  },
  {
   "cell_type": "code",
   "execution_count": 18,
   "id": "adf67575-400c-47d7-8ab1-f1296d4339f8",
   "metadata": {},
   "outputs": [
    {
     "data": {
      "application/vnd.plotly.v1+json": {
       "config": {
        "plotlyServerURL": "https://plot.ly"
       },
       "data": [
        {
         "mode": "lines",
         "name": "LogisticRegression",
         "type": "scatter",
         "x": [
          1,
          0.9411764705882353,
          0.9411764705882353,
          0.9411764705882353,
          0.9411764705882353,
          0.9411764705882353,
          0.9411764705882353,
          0.8823529411764706,
          0.8235294117647058,
          0.7647058823529411,
          0.7058823529411765,
          0.6470588235294118,
          0.6470588235294118,
          0.5882352941176471,
          0.5294117647058824,
          0.47058823529411764,
          0.4117647058823529,
          0.4117647058823529,
          0.35294117647058826,
          0.29411764705882354,
          0.29411764705882354,
          0.23529411764705882,
          0.17647058823529413,
          0.17647058823529413,
          0.17647058823529413,
          0.17647058823529413,
          0.17647058823529413,
          0.17647058823529413,
          0.11764705882352941,
          0.058823529411764705,
          0
         ],
         "y": [
          0.5666666666666667,
          0.5517241379310345,
          0.5714285714285714,
          0.5925925925925926,
          0.6153846153846154,
          0.64,
          0.6666666666666666,
          0.6521739130434783,
          0.6363636363636364,
          0.6190476190476191,
          0.6,
          0.5789473684210527,
          0.6111111111111112,
          0.5882352941176471,
          0.5625,
          0.5333333333333333,
          0.5,
          0.5384615384615384,
          0.5,
          0.45454545454545453,
          0.5,
          0.4444444444444444,
          0.375,
          0.42857142857142855,
          0.5,
          0.6,
          0.75,
          1,
          1,
          1,
          1
         ]
        },
        {
         "mode": "lines",
         "name": "GaussianNB",
         "type": "scatter",
         "x": [
          1,
          0.9411764705882353,
          0.9411764705882353,
          0.8823529411764706,
          0.8823529411764706,
          0.8235294117647058,
          0.7647058823529411,
          0.7058823529411765,
          0.7058823529411765,
          0.6470588235294118,
          0.5882352941176471,
          0.5882352941176471,
          0.5294117647058824,
          0.47058823529411764,
          0.47058823529411764,
          0.4117647058823529,
          0.35294117647058826,
          0.29411764705882354,
          0.29411764705882354,
          0.23529411764705882,
          0.23529411764705882,
          0.23529411764705882,
          0.17647058823529413,
          0.17647058823529413,
          0.17647058823529413,
          0.17647058823529413,
          0.11764705882352941,
          0.058823529411764705,
          0
         ],
         "y": [
          0.6071428571428571,
          0.5925925925925926,
          0.6153846153846154,
          0.6,
          0.625,
          0.6086956521739131,
          0.5909090909090909,
          0.5714285714285714,
          0.6,
          0.5789473684210527,
          0.5555555555555556,
          0.5882352941176471,
          0.5625,
          0.5333333333333333,
          0.5714285714285714,
          0.5384615384615384,
          0.5,
          0.45454545454545453,
          0.5,
          0.4444444444444444,
          0.5,
          0.5714285714285714,
          0.5,
          0.6,
          0.75,
          1,
          1,
          1,
          1
         ]
        },
        {
         "mode": "lines",
         "name": "SVC",
         "type": "scatter",
         "x": [
          1,
          0.9411764705882353,
          0.8823529411764706,
          0.8235294117647058,
          0.8235294117647058,
          0.7647058823529411,
          0.7058823529411765,
          0.6470588235294118,
          0.6470588235294118,
          0.5882352941176471,
          0.5294117647058824,
          0.5294117647058824,
          0.5294117647058824,
          0.47058823529411764,
          0.4117647058823529,
          0.35294117647058826,
          0.29411764705882354,
          0.23529411764705882,
          0.17647058823529413,
          0.17647058823529413,
          0.17647058823529413,
          0.11764705882352941,
          0.058823529411764705,
          0,
          0,
          0,
          0
         ],
         "y": [
          0.6538461538461539,
          0.64,
          0.625,
          0.6086956521739131,
          0.6363636363636364,
          0.6190476190476191,
          0.6,
          0.5789473684210527,
          0.6111111111111112,
          0.5882352941176471,
          0.5625,
          0.6,
          0.6428571428571429,
          0.6153846153846154,
          0.5833333333333334,
          0.5454545454545454,
          0.5,
          0.4444444444444444,
          0.375,
          0.42857142857142855,
          0.5,
          0.4,
          0.25,
          0,
          0,
          0,
          1
         ]
        },
        {
         "mode": "lines",
         "name": "LinearDiscriminantAnalysis",
         "type": "scatter",
         "visible": true,
         "x": [
          1,
          0.9411764705882353,
          0.9411764705882353,
          0.9411764705882353,
          0.9411764705882353,
          0.9411764705882353,
          0.9411764705882353,
          0.9411764705882353,
          0.8823529411764706,
          0.8823529411764706,
          0.8235294117647058,
          0.7647058823529411,
          0.7058823529411765,
          0.6470588235294118,
          0.5882352941176471,
          0.5294117647058824,
          0.47058823529411764,
          0.47058823529411764,
          0.4117647058823529,
          0.35294117647058826,
          0.29411764705882354,
          0.23529411764705882,
          0.23529411764705882,
          0.17647058823529413,
          0.17647058823529413,
          0.17647058823529413,
          0.17647058823529413,
          0.17647058823529413,
          0.17647058823529413,
          0.11764705882352941,
          0.058823529411764705,
          0
         ],
         "y": [
          0.5483870967741935,
          0.5333333333333333,
          0.5517241379310345,
          0.5714285714285714,
          0.5925925925925926,
          0.6153846153846154,
          0.64,
          0.6666666666666666,
          0.6521739130434783,
          0.6818181818181818,
          0.6666666666666666,
          0.65,
          0.631578947368421,
          0.6111111111111112,
          0.5882352941176471,
          0.5625,
          0.5333333333333333,
          0.5714285714285714,
          0.5384615384615384,
          0.5,
          0.45454545454545453,
          0.4,
          0.4444444444444444,
          0.375,
          0.42857142857142855,
          0.5,
          0.6,
          0.75,
          1,
          1,
          1,
          1
         ]
        },
        {
         "mode": "lines",
         "name": "QuadraticDiscriminantAnalysis",
         "type": "scatter",
         "visible": true,
         "x": [
          1,
          0.9411764705882353,
          0.9411764705882353,
          0.9411764705882353,
          0.8823529411764706,
          0.8235294117647058,
          0.8235294117647058,
          0.8235294117647058,
          0.8235294117647058,
          0.8235294117647058,
          0.8235294117647058,
          0.8235294117647058,
          0.8235294117647058,
          0.8235294117647058,
          0.8235294117647058,
          0.8235294117647058,
          0.7647058823529411,
          0.7647058823529411,
          0.7647058823529411,
          0.7058823529411765,
          0.6470588235294118,
          0.6470588235294118,
          0.5882352941176471,
          0.5882352941176471,
          0.5294117647058824,
          0.5294117647058824,
          0.5294117647058824,
          0.47058823529411764,
          0.4117647058823529,
          0.35294117647058826,
          0.35294117647058826,
          0.35294117647058826,
          0.29411764705882354,
          0.29411764705882354,
          0.29411764705882354,
          0.23529411764705882,
          0.23529411764705882,
          0.17647058823529413,
          0.11764705882352941,
          0.11764705882352941,
          0.11764705882352941,
          0.058823529411764705,
          0
         ],
         "y": [
          0.40476190476190477,
          0.3902439024390244,
          0.4,
          0.41025641025641024,
          0.39473684210526316,
          0.3783783783783784,
          0.3888888888888889,
          0.4,
          0.4117647058823529,
          0.42424242424242425,
          0.4375,
          0.45161290322580644,
          0.4666666666666667,
          0.4827586206896552,
          0.5,
          0.5185185185185185,
          0.5,
          0.52,
          0.5416666666666666,
          0.5217391304347826,
          0.5,
          0.5238095238095238,
          0.5,
          0.5263157894736842,
          0.5,
          0.5294117647058824,
          0.5625,
          0.5333333333333333,
          0.5,
          0.46153846153846156,
          0.5,
          0.5454545454545454,
          0.5,
          0.5555555555555556,
          0.625,
          0.5714285714285714,
          0.6666666666666666,
          0.6,
          0.5,
          0.6666666666666666,
          1,
          1,
          1
         ]
        }
       ],
       "layout": {
        "height": 600,
        "legend": {
         "x": 0.65,
         "y": 0
        },
        "showlegend": true,
        "template": {
         "data": {
          "bar": [
           {
            "error_x": {
             "color": "#2a3f5f"
            },
            "error_y": {
             "color": "#2a3f5f"
            },
            "marker": {
             "line": {
              "color": "#E5ECF6",
              "width": 0.5
             },
             "pattern": {
              "fillmode": "overlay",
              "size": 10,
              "solidity": 0.2
             }
            },
            "type": "bar"
           }
          ],
          "barpolar": [
           {
            "marker": {
             "line": {
              "color": "#E5ECF6",
              "width": 0.5
             },
             "pattern": {
              "fillmode": "overlay",
              "size": 10,
              "solidity": 0.2
             }
            },
            "type": "barpolar"
           }
          ],
          "carpet": [
           {
            "aaxis": {
             "endlinecolor": "#2a3f5f",
             "gridcolor": "white",
             "linecolor": "white",
             "minorgridcolor": "white",
             "startlinecolor": "#2a3f5f"
            },
            "baxis": {
             "endlinecolor": "#2a3f5f",
             "gridcolor": "white",
             "linecolor": "white",
             "minorgridcolor": "white",
             "startlinecolor": "#2a3f5f"
            },
            "type": "carpet"
           }
          ],
          "choropleth": [
           {
            "colorbar": {
             "outlinewidth": 0,
             "ticks": ""
            },
            "type": "choropleth"
           }
          ],
          "contour": [
           {
            "colorbar": {
             "outlinewidth": 0,
             "ticks": ""
            },
            "colorscale": [
             [
              0,
              "#0d0887"
             ],
             [
              0.1111111111111111,
              "#46039f"
             ],
             [
              0.2222222222222222,
              "#7201a8"
             ],
             [
              0.3333333333333333,
              "#9c179e"
             ],
             [
              0.4444444444444444,
              "#bd3786"
             ],
             [
              0.5555555555555556,
              "#d8576b"
             ],
             [
              0.6666666666666666,
              "#ed7953"
             ],
             [
              0.7777777777777778,
              "#fb9f3a"
             ],
             [
              0.8888888888888888,
              "#fdca26"
             ],
             [
              1,
              "#f0f921"
             ]
            ],
            "type": "contour"
           }
          ],
          "contourcarpet": [
           {
            "colorbar": {
             "outlinewidth": 0,
             "ticks": ""
            },
            "type": "contourcarpet"
           }
          ],
          "heatmap": [
           {
            "colorbar": {
             "outlinewidth": 0,
             "ticks": ""
            },
            "colorscale": [
             [
              0,
              "#0d0887"
             ],
             [
              0.1111111111111111,
              "#46039f"
             ],
             [
              0.2222222222222222,
              "#7201a8"
             ],
             [
              0.3333333333333333,
              "#9c179e"
             ],
             [
              0.4444444444444444,
              "#bd3786"
             ],
             [
              0.5555555555555556,
              "#d8576b"
             ],
             [
              0.6666666666666666,
              "#ed7953"
             ],
             [
              0.7777777777777778,
              "#fb9f3a"
             ],
             [
              0.8888888888888888,
              "#fdca26"
             ],
             [
              1,
              "#f0f921"
             ]
            ],
            "type": "heatmap"
           }
          ],
          "heatmapgl": [
           {
            "colorbar": {
             "outlinewidth": 0,
             "ticks": ""
            },
            "colorscale": [
             [
              0,
              "#0d0887"
             ],
             [
              0.1111111111111111,
              "#46039f"
             ],
             [
              0.2222222222222222,
              "#7201a8"
             ],
             [
              0.3333333333333333,
              "#9c179e"
             ],
             [
              0.4444444444444444,
              "#bd3786"
             ],
             [
              0.5555555555555556,
              "#d8576b"
             ],
             [
              0.6666666666666666,
              "#ed7953"
             ],
             [
              0.7777777777777778,
              "#fb9f3a"
             ],
             [
              0.8888888888888888,
              "#fdca26"
             ],
             [
              1,
              "#f0f921"
             ]
            ],
            "type": "heatmapgl"
           }
          ],
          "histogram": [
           {
            "marker": {
             "pattern": {
              "fillmode": "overlay",
              "size": 10,
              "solidity": 0.2
             }
            },
            "type": "histogram"
           }
          ],
          "histogram2d": [
           {
            "colorbar": {
             "outlinewidth": 0,
             "ticks": ""
            },
            "colorscale": [
             [
              0,
              "#0d0887"
             ],
             [
              0.1111111111111111,
              "#46039f"
             ],
             [
              0.2222222222222222,
              "#7201a8"
             ],
             [
              0.3333333333333333,
              "#9c179e"
             ],
             [
              0.4444444444444444,
              "#bd3786"
             ],
             [
              0.5555555555555556,
              "#d8576b"
             ],
             [
              0.6666666666666666,
              "#ed7953"
             ],
             [
              0.7777777777777778,
              "#fb9f3a"
             ],
             [
              0.8888888888888888,
              "#fdca26"
             ],
             [
              1,
              "#f0f921"
             ]
            ],
            "type": "histogram2d"
           }
          ],
          "histogram2dcontour": [
           {
            "colorbar": {
             "outlinewidth": 0,
             "ticks": ""
            },
            "colorscale": [
             [
              0,
              "#0d0887"
             ],
             [
              0.1111111111111111,
              "#46039f"
             ],
             [
              0.2222222222222222,
              "#7201a8"
             ],
             [
              0.3333333333333333,
              "#9c179e"
             ],
             [
              0.4444444444444444,
              "#bd3786"
             ],
             [
              0.5555555555555556,
              "#d8576b"
             ],
             [
              0.6666666666666666,
              "#ed7953"
             ],
             [
              0.7777777777777778,
              "#fb9f3a"
             ],
             [
              0.8888888888888888,
              "#fdca26"
             ],
             [
              1,
              "#f0f921"
             ]
            ],
            "type": "histogram2dcontour"
           }
          ],
          "mesh3d": [
           {
            "colorbar": {
             "outlinewidth": 0,
             "ticks": ""
            },
            "type": "mesh3d"
           }
          ],
          "parcoords": [
           {
            "line": {
             "colorbar": {
              "outlinewidth": 0,
              "ticks": ""
             }
            },
            "type": "parcoords"
           }
          ],
          "pie": [
           {
            "automargin": true,
            "type": "pie"
           }
          ],
          "scatter": [
           {
            "marker": {
             "colorbar": {
              "outlinewidth": 0,
              "ticks": ""
             }
            },
            "type": "scatter"
           }
          ],
          "scatter3d": [
           {
            "line": {
             "colorbar": {
              "outlinewidth": 0,
              "ticks": ""
             }
            },
            "marker": {
             "colorbar": {
              "outlinewidth": 0,
              "ticks": ""
             }
            },
            "type": "scatter3d"
           }
          ],
          "scattercarpet": [
           {
            "marker": {
             "colorbar": {
              "outlinewidth": 0,
              "ticks": ""
             }
            },
            "type": "scattercarpet"
           }
          ],
          "scattergeo": [
           {
            "marker": {
             "colorbar": {
              "outlinewidth": 0,
              "ticks": ""
             }
            },
            "type": "scattergeo"
           }
          ],
          "scattergl": [
           {
            "marker": {
             "colorbar": {
              "outlinewidth": 0,
              "ticks": ""
             }
            },
            "type": "scattergl"
           }
          ],
          "scattermapbox": [
           {
            "marker": {
             "colorbar": {
              "outlinewidth": 0,
              "ticks": ""
             }
            },
            "type": "scattermapbox"
           }
          ],
          "scatterpolar": [
           {
            "marker": {
             "colorbar": {
              "outlinewidth": 0,
              "ticks": ""
             }
            },
            "type": "scatterpolar"
           }
          ],
          "scatterpolargl": [
           {
            "marker": {
             "colorbar": {
              "outlinewidth": 0,
              "ticks": ""
             }
            },
            "type": "scatterpolargl"
           }
          ],
          "scatterternary": [
           {
            "marker": {
             "colorbar": {
              "outlinewidth": 0,
              "ticks": ""
             }
            },
            "type": "scatterternary"
           }
          ],
          "surface": [
           {
            "colorbar": {
             "outlinewidth": 0,
             "ticks": ""
            },
            "colorscale": [
             [
              0,
              "#0d0887"
             ],
             [
              0.1111111111111111,
              "#46039f"
             ],
             [
              0.2222222222222222,
              "#7201a8"
             ],
             [
              0.3333333333333333,
              "#9c179e"
             ],
             [
              0.4444444444444444,
              "#bd3786"
             ],
             [
              0.5555555555555556,
              "#d8576b"
             ],
             [
              0.6666666666666666,
              "#ed7953"
             ],
             [
              0.7777777777777778,
              "#fb9f3a"
             ],
             [
              0.8888888888888888,
              "#fdca26"
             ],
             [
              1,
              "#f0f921"
             ]
            ],
            "type": "surface"
           }
          ],
          "table": [
           {
            "cells": {
             "fill": {
              "color": "#EBF0F8"
             },
             "line": {
              "color": "white"
             }
            },
            "header": {
             "fill": {
              "color": "#C8D4E3"
             },
             "line": {
              "color": "white"
             }
            },
            "type": "table"
           }
          ]
         },
         "layout": {
          "annotationdefaults": {
           "arrowcolor": "#2a3f5f",
           "arrowhead": 0,
           "arrowwidth": 1
          },
          "autotypenumbers": "strict",
          "coloraxis": {
           "colorbar": {
            "outlinewidth": 0,
            "ticks": ""
           }
          },
          "colorscale": {
           "diverging": [
            [
             0,
             "#8e0152"
            ],
            [
             0.1,
             "#c51b7d"
            ],
            [
             0.2,
             "#de77ae"
            ],
            [
             0.3,
             "#f1b6da"
            ],
            [
             0.4,
             "#fde0ef"
            ],
            [
             0.5,
             "#f7f7f7"
            ],
            [
             0.6,
             "#e6f5d0"
            ],
            [
             0.7,
             "#b8e186"
            ],
            [
             0.8,
             "#7fbc41"
            ],
            [
             0.9,
             "#4d9221"
            ],
            [
             1,
             "#276419"
            ]
           ],
           "sequential": [
            [
             0,
             "#0d0887"
            ],
            [
             0.1111111111111111,
             "#46039f"
            ],
            [
             0.2222222222222222,
             "#7201a8"
            ],
            [
             0.3333333333333333,
             "#9c179e"
            ],
            [
             0.4444444444444444,
             "#bd3786"
            ],
            [
             0.5555555555555556,
             "#d8576b"
            ],
            [
             0.6666666666666666,
             "#ed7953"
            ],
            [
             0.7777777777777778,
             "#fb9f3a"
            ],
            [
             0.8888888888888888,
             "#fdca26"
            ],
            [
             1,
             "#f0f921"
            ]
           ],
           "sequentialminus": [
            [
             0,
             "#0d0887"
            ],
            [
             0.1111111111111111,
             "#46039f"
            ],
            [
             0.2222222222222222,
             "#7201a8"
            ],
            [
             0.3333333333333333,
             "#9c179e"
            ],
            [
             0.4444444444444444,
             "#bd3786"
            ],
            [
             0.5555555555555556,
             "#d8576b"
            ],
            [
             0.6666666666666666,
             "#ed7953"
            ],
            [
             0.7777777777777778,
             "#fb9f3a"
            ],
            [
             0.8888888888888888,
             "#fdca26"
            ],
            [
             1,
             "#f0f921"
            ]
           ]
          },
          "colorway": [
           "#636efa",
           "#EF553B",
           "#00cc96",
           "#ab63fa",
           "#FFA15A",
           "#19d3f3",
           "#FF6692",
           "#B6E880",
           "#FF97FF",
           "#FECB52"
          ],
          "font": {
           "color": "#2a3f5f"
          },
          "geo": {
           "bgcolor": "white",
           "lakecolor": "white",
           "landcolor": "#E5ECF6",
           "showlakes": true,
           "showland": true,
           "subunitcolor": "white"
          },
          "hoverlabel": {
           "align": "left"
          },
          "hovermode": "closest",
          "mapbox": {
           "style": "light"
          },
          "paper_bgcolor": "white",
          "plot_bgcolor": "#E5ECF6",
          "polar": {
           "angularaxis": {
            "gridcolor": "white",
            "linecolor": "white",
            "ticks": ""
           },
           "bgcolor": "#E5ECF6",
           "radialaxis": {
            "gridcolor": "white",
            "linecolor": "white",
            "ticks": ""
           }
          },
          "scene": {
           "xaxis": {
            "backgroundcolor": "#E5ECF6",
            "gridcolor": "white",
            "gridwidth": 2,
            "linecolor": "white",
            "showbackground": true,
            "ticks": "",
            "zerolinecolor": "white"
           },
           "yaxis": {
            "backgroundcolor": "#E5ECF6",
            "gridcolor": "white",
            "gridwidth": 2,
            "linecolor": "white",
            "showbackground": true,
            "ticks": "",
            "zerolinecolor": "white"
           },
           "zaxis": {
            "backgroundcolor": "#E5ECF6",
            "gridcolor": "white",
            "gridwidth": 2,
            "linecolor": "white",
            "showbackground": true,
            "ticks": "",
            "zerolinecolor": "white"
           }
          },
          "shapedefaults": {
           "line": {
            "color": "#2a3f5f"
           }
          },
          "ternary": {
           "aaxis": {
            "gridcolor": "white",
            "linecolor": "white",
            "ticks": ""
           },
           "baxis": {
            "gridcolor": "white",
            "linecolor": "white",
            "ticks": ""
           },
           "bgcolor": "#E5ECF6",
           "caxis": {
            "gridcolor": "white",
            "linecolor": "white",
            "ticks": ""
           }
          },
          "title": {
           "x": 0.05
          },
          "xaxis": {
           "automargin": true,
           "gridcolor": "white",
           "linecolor": "white",
           "ticks": "",
           "title": {
            "standoff": 15
           },
           "zerolinecolor": "white",
           "zerolinewidth": 2
          },
          "yaxis": {
           "automargin": true,
           "gridcolor": "white",
           "linecolor": "white",
           "ticks": "",
           "title": {
            "standoff": 15
           },
           "zerolinecolor": "white",
           "zerolinewidth": 2
          }
         }
        },
        "title": {
         "text": "Curvas Precision-Recall de los Clasificadores<br><span style=\"font-size: 12px; color: gray;\">Presiona sobre las leyendas para ocultar / mostrar las rectas</span>"
        },
        "width": 700,
        "xaxis": {
         "autorange": true,
         "range": [
          0,
          1
         ],
         "title": {
          "text": "Recall"
         },
         "type": "linear"
        },
        "yaxis": {
         "autorange": true,
         "range": [
          -0.05555555555555555,
          1.0555555555555556
         ],
         "title": {
          "text": "Precisión"
         },
         "type": "linear"
        }
       }
      },
      "image/png": "[encoded data removed]",
      "text/html": [
       "<div>                            <div id=\"a794c1ae-417b-489f-a3bc-349e09ffe684\" class=\"plotly-graph-div\" style=\"height:600px; width:700px;\"></div>            <script type=\"text/javascript\">                require([\"plotly\"], function(Plotly) {                    window.PLOTLYENV=window.PLOTLYENV || {};                                    if (document.getElementById(\"a794c1ae-417b-489f-a3bc-349e09ffe684\")) {                    Plotly.newPlot(                        \"a794c1ae-417b-489f-a3bc-349e09ffe684\",                        [{\"mode\":\"lines\",\"name\":\"LogisticRegression\",\"x\":[1.0,0.9411764705882353,0.9411764705882353,0.9411764705882353,0.9411764705882353,0.9411764705882353,0.9411764705882353,0.8823529411764706,0.8235294117647058,0.7647058823529411,0.7058823529411765,0.6470588235294118,0.6470588235294118,0.5882352941176471,0.5294117647058824,0.47058823529411764,0.4117647058823529,0.4117647058823529,0.35294117647058826,0.29411764705882354,0.29411764705882354,0.23529411764705882,0.17647058823529413,0.17647058823529413,0.17647058823529413,0.17647058823529413,0.17647058823529413,0.17647058823529413,0.11764705882352941,0.058823529411764705,0.0],\"y\":[0.5666666666666667,0.5517241379310345,0.5714285714285714,0.5925925925925926,0.6153846153846154,0.64,0.6666666666666666,0.6521739130434783,0.6363636363636364,0.6190476190476191,0.6,0.5789473684210527,0.6111111111111112,0.5882352941176471,0.5625,0.5333333333333333,0.5,0.5384615384615384,0.5,0.45454545454545453,0.5,0.4444444444444444,0.375,0.42857142857142855,0.5,0.6,0.75,1.0,1.0,1.0,1.0],\"type\":\"scatter\"},{\"mode\":\"lines\",\"name\":\"GaussianNB\",\"x\":[1.0,0.9411764705882353,0.9411764705882353,0.8823529411764706,0.8823529411764706,0.8235294117647058,0.7647058823529411,0.7058823529411765,0.7058823529411765,0.6470588235294118,0.5882352941176471,0.5882352941176471,0.5294117647058824,0.47058823529411764,0.47058823529411764,0.4117647058823529,0.35294117647058826,0.29411764705882354,0.29411764705882354,0.23529411764705882,0.23529411764705882,0.23529411764705882,0.17647058823529413,0.17647058823529413,0.17647058823529413,0.17647058823529413,0.11764705882352941,0.058823529411764705,0.0],\"y\":[0.6071428571428571,0.5925925925925926,0.6153846153846154,0.6,0.625,0.6086956521739131,0.5909090909090909,0.5714285714285714,0.6,0.5789473684210527,0.5555555555555556,0.5882352941176471,0.5625,0.5333333333333333,0.5714285714285714,0.5384615384615384,0.5,0.45454545454545453,0.5,0.4444444444444444,0.5,0.5714285714285714,0.5,0.6,0.75,1.0,1.0,1.0,1.0],\"type\":\"scatter\"},{\"mode\":\"lines\",\"name\":\"SVC\",\"x\":[1.0,0.9411764705882353,0.8823529411764706,0.8235294117647058,0.8235294117647058,0.7647058823529411,0.7058823529411765,0.6470588235294118,0.6470588235294118,0.5882352941176471,0.5294117647058824,0.5294117647058824,0.5294117647058824,0.47058823529411764,0.4117647058823529,0.35294117647058826,0.29411764705882354,0.23529411764705882,0.17647058823529413,0.17647058823529413,0.17647058823529413,0.11764705882352941,0.058823529411764705,0.0,0.0,0.0,0.0],\"y\":[0.6538461538461539,0.64,0.625,0.6086956521739131,0.6363636363636364,0.6190476190476191,0.6,0.5789473684210527,0.6111111111111112,0.5882352941176471,0.5625,0.6,0.6428571428571429,0.6153846153846154,0.5833333333333334,0.5454545454545454,0.5,0.4444444444444444,0.375,0.42857142857142855,0.5,0.4,0.25,0.0,0.0,0.0,1.0],\"type\":\"scatter\"},{\"mode\":\"lines\",\"name\":\"LinearDiscriminantAnalysis\",\"x\":[1.0,0.9411764705882353,0.9411764705882353,0.9411764705882353,0.9411764705882353,0.9411764705882353,0.9411764705882353,0.9411764705882353,0.8823529411764706,0.8823529411764706,0.8235294117647058,0.7647058823529411,0.7058823529411765,0.6470588235294118,0.5882352941176471,0.5294117647058824,0.47058823529411764,0.47058823529411764,0.4117647058823529,0.35294117647058826,0.29411764705882354,0.23529411764705882,0.23529411764705882,0.17647058823529413,0.17647058823529413,0.17647058823529413,0.17647058823529413,0.17647058823529413,0.17647058823529413,0.11764705882352941,0.058823529411764705,0.0],\"y\":[0.5483870967741935,0.5333333333333333,0.5517241379310345,0.5714285714285714,0.5925925925925926,0.6153846153846154,0.64,0.6666666666666666,0.6521739130434783,0.6818181818181818,0.6666666666666666,0.65,0.631578947368421,0.6111111111111112,0.5882352941176471,0.5625,0.5333333333333333,0.5714285714285714,0.5384615384615384,0.5,0.45454545454545453,0.4,0.4444444444444444,0.375,0.42857142857142855,0.5,0.6,0.75,1.0,1.0,1.0,1.0],\"type\":\"scatter\"},{\"mode\":\"lines\",\"name\":\"QuadraticDiscriminantAnalysis\",\"x\":[1.0,0.9411764705882353,0.9411764705882353,0.9411764705882353,0.8823529411764706,0.8235294117647058,0.8235294117647058,0.8235294117647058,0.8235294117647058,0.8235294117647058,0.8235294117647058,0.8235294117647058,0.8235294117647058,0.8235294117647058,0.8235294117647058,0.8235294117647058,0.7647058823529411,0.7647058823529411,0.7647058823529411,0.7058823529411765,0.6470588235294118,0.6470588235294118,0.5882352941176471,0.5882352941176471,0.5294117647058824,0.5294117647058824,0.5294117647058824,0.47058823529411764,0.4117647058823529,0.35294117647058826,0.35294117647058826,0.35294117647058826,0.29411764705882354,0.29411764705882354,0.29411764705882354,0.23529411764705882,0.23529411764705882,0.17647058823529413,0.11764705882352941,0.11764705882352941,0.11764705882352941,0.058823529411764705,0.0],\"y\":[0.40476190476190477,0.3902439024390244,0.4,0.41025641025641024,0.39473684210526316,0.3783783783783784,0.3888888888888889,0.4,0.4117647058823529,0.42424242424242425,0.4375,0.45161290322580644,0.4666666666666667,0.4827586206896552,0.5,0.5185185185185185,0.5,0.52,0.5416666666666666,0.5217391304347826,0.5,0.5238095238095238,0.5,0.5263157894736842,0.5,0.5294117647058824,0.5625,0.5333333333333333,0.5,0.46153846153846156,0.5,0.5454545454545454,0.5,0.5555555555555556,0.625,0.5714285714285714,0.6666666666666666,0.6,0.5,0.6666666666666666,1.0,1.0,1.0],\"type\":\"scatter\"}],                        {\"height\":600,\"legend\":{\"x\":0.65,\"y\":0.0},\"showlegend\":true,\"title\":{\"text\":\"Curvas Precision-Recall de los Clasificadores<br><span style=\\\"font-size: 12px; color: gray;\\\">Presiona sobre las leyendas para ocultar / mostrar las rectas</span>\"},\"width\":700,\"xaxis\":{\"title\":{\"text\":\"Recall\"}},\"yaxis\":{\"title\":{\"text\":\"Precisi\\u00f3n\"}},\"template\":{\"data\":{\"bar\":[{\"error_x\":{\"color\":\"#2a3f5f\"},\"error_y\":{\"color\":\"#2a3f5f\"},\"marker\":{\"line\":{\"color\":\"#E5ECF6\",\"width\":0.5},\"pattern\":{\"fillmode\":\"overlay\",\"size\":10,\"solidity\":0.2}},\"type\":\"bar\"}],\"barpolar\":[{\"marker\":{\"line\":{\"color\":\"#E5ECF6\",\"width\":0.5},\"pattern\":{\"fillmode\":\"overlay\",\"size\":10,\"solidity\":0.2}},\"type\":\"barpolar\"}],\"carpet\":[{\"aaxis\":{\"endlinecolor\":\"#2a3f5f\",\"gridcolor\":\"white\",\"linecolor\":\"white\",\"minorgridcolor\":\"white\",\"startlinecolor\":\"#2a3f5f\"},\"baxis\":{\"endlinecolor\":\"#2a3f5f\",\"gridcolor\":\"white\",\"linecolor\":\"white\",\"minorgridcolor\":\"white\",\"startlinecolor\":\"#2a3f5f\"},\"type\":\"carpet\"}],\"choropleth\":[{\"colorbar\":{\"outlinewidth\":0,\"ticks\":\"\"},\"type\":\"choropleth\"}],\"contour\":[{\"colorbar\":{\"outlinewidth\":0,\"ticks\":\"\"},\"colorscale\":[[0.0,\"#0d0887\"],[0.1111111111111111,\"#46039f\"],[0.2222222222222222,\"#7201a8\"],[0.3333333333333333,\"#9c179e\"],[0.4444444444444444,\"#bd3786\"],[0.5555555555555556,\"#d8576b\"],[0.6666666666666666,\"#ed7953\"],[0.7777777777777778,\"#fb9f3a\"],[0.8888888888888888,\"#fdca26\"],[1.0,\"#f0f921\"]],\"type\":\"contour\"}],\"contourcarpet\":[{\"colorbar\":{\"outlinewidth\":0,\"ticks\":\"\"},\"type\":\"contourcarpet\"}],\"heatmap\":[{\"colorbar\":{\"outlinewidth\":0,\"ticks\":\"\"},\"colorscale\":[[0.0,\"#0d0887\"],[0.1111111111111111,\"#46039f\"],[0.2222222222222222,\"#7201a8\"],[0.3333333333333333,\"#9c179e\"],[0.4444444444444444,\"#bd3786\"],[0.5555555555555556,\"#d8576b\"],[0.6666666666666666,\"#ed7953\"],[0.7777777777777778,\"#fb9f3a\"],[0.8888888888888888,\"#fdca26\"],[1.0,\"#f0f921\"]],\"type\":\"heatmap\"}],\"heatmapgl\":[{\"colorbar\":{\"outlinewidth\":0,\"ticks\":\"\"},\"colorscale\":[[0.0,\"#0d0887\"],[0.1111111111111111,\"#46039f\"],[0.2222222222222222,\"#7201a8\"],[0.3333333333333333,\"#9c179e\"],[0.4444444444444444,\"#bd3786\"],[0.5555555555555556,\"#d8576b\"],[0.6666666666666666,\"#ed7953\"],[0.7777777777777778,\"#fb9f3a\"],[0.8888888888888888,\"#fdca26\"],[1.0,\"#f0f921\"]],\"type\":\"heatmapgl\"}],\"histogram\":[{\"marker\":{\"pattern\":{\"fillmode\":\"overlay\",\"size\":10,\"solidity\":0.2}},\"type\":\"histogram\"}],\"histogram2d\":[{\"colorbar\":{\"outlinewidth\":0,\"ticks\":\"\"},\"colorscale\":[[0.0,\"#0d0887\"],[0.1111111111111111,\"#46039f\"],[0.2222222222222222,\"#7201a8\"],[0.3333333333333333,\"#9c179e\"],[0.4444444444444444,\"#bd3786\"],[0.5555555555555556,\"#d8576b\"],[0.6666666666666666,\"#ed7953\"],[0.7777777777777778,\"#fb9f3a\"],[0.8888888888888888,\"#fdca26\"],[1.0,\"#f0f921\"]],\"type\":\"histogram2d\"}],\"histogram2dcontour\":[{\"colorbar\":{\"outlinewidth\":0,\"ticks\":\"\"},\"colorscale\":[[0.0,\"#0d0887\"],[0.1111111111111111,\"#46039f\"],[0.2222222222222222,\"#7201a8\"],[0.3333333333333333,\"#9c179e\"],[0.4444444444444444,\"#bd3786\"],[0.5555555555555556,\"#d8576b\"],[0.6666666666666666,\"#ed7953\"],[0.7777777777777778,\"#fb9f3a\"],[0.8888888888888888,\"#fdca26\"],[1.0,\"#f0f921\"]],\"type\":\"histogram2dcontour\"}],\"mesh3d\":[{\"colorbar\":{\"outlinewidth\":0,\"ticks\":\"\"},\"type\":\"mesh3d\"}],\"parcoords\":[{\"line\":{\"colorbar\":{\"outlinewidth\":0,\"ticks\":\"\"}},\"type\":\"parcoords\"}],\"pie\":[{\"automargin\":true,\"type\":\"pie\"}],\"scatter\":[{\"marker\":{\"colorbar\":{\"outlinewidth\":0,\"ticks\":\"\"}},\"type\":\"scatter\"}],\"scatter3d\":[{\"line\":{\"colorbar\":{\"outlinewidth\":0,\"ticks\":\"\"}},\"marker\":{\"colorbar\":{\"outlinewidth\":0,\"ticks\":\"\"}},\"type\":\"scatter3d\"}],\"scattercarpet\":[{\"marker\":{\"colorbar\":{\"outlinewidth\":0,\"ticks\":\"\"}},\"type\":\"scattercarpet\"}],\"scattergeo\":[{\"marker\":{\"colorbar\":{\"outlinewidth\":0,\"ticks\":\"\"}},\"type\":\"scattergeo\"}],\"scattergl\":[{\"marker\":{\"colorbar\":{\"outlinewidth\":0,\"ticks\":\"\"}},\"type\":\"scattergl\"}],\"scattermapbox\":[{\"marker\":{\"colorbar\":{\"outlinewidth\":0,\"ticks\":\"\"}},\"type\":\"scattermapbox\"}],\"scatterpolar\":[{\"marker\":{\"colorbar\":{\"outlinewidth\":0,\"ticks\":\"\"}},\"type\":\"scatterpolar\"}],\"scatterpolargl\":[{\"marker\":{\"colorbar\":{\"outlinewidth\":0,\"ticks\":\"\"}},\"type\":\"scatterpolargl\"}],\"scatterternary\":[{\"marker\":{\"colorbar\":{\"outlinewidth\":0,\"ticks\":\"\"}},\"type\":\"scatterternary\"}],\"surface\":[{\"colorbar\":{\"outlinewidth\":0,\"ticks\":\"\"},\"colorscale\":[[0.0,\"#0d0887\"],[0.1111111111111111,\"#46039f\"],[0.2222222222222222,\"#7201a8\"],[0.3333333333333333,\"#9c179e\"],[0.4444444444444444,\"#bd3786\"],[0.5555555555555556,\"#d8576b\"],[0.6666666666666666,\"#ed7953\"],[0.7777777777777778,\"#fb9f3a\"],[0.8888888888888888,\"#fdca26\"],[1.0,\"#f0f921\"]],\"type\":\"surface\"}],\"table\":[{\"cells\":{\"fill\":{\"color\":\"#EBF0F8\"},\"line\":{\"color\":\"white\"}},\"header\":{\"fill\":{\"color\":\"#C8D4E3\"},\"line\":{\"color\":\"white\"}},\"type\":\"table\"}]},\"layout\":{\"annotationdefaults\":{\"arrowcolor\":\"#2a3f5f\",\"arrowhead\":0,\"arrowwidth\":1},\"autotypenumbers\":\"strict\",\"coloraxis\":{\"colorbar\":{\"outlinewidth\":0,\"ticks\":\"\"}},\"colorscale\":{\"diverging\":[[0,\"#8e0152\"],[0.1,\"#c51b7d\"],[0.2,\"#de77ae\"],[0.3,\"#f1b6da\"],[0.4,\"#fde0ef\"],[0.5,\"#f7f7f7\"],[0.6,\"#e6f5d0\"],[0.7,\"#b8e186\"],[0.8,\"#7fbc41\"],[0.9,\"#4d9221\"],[1,\"#276419\"]],\"sequential\":[[0.0,\"#0d0887\"],[0.1111111111111111,\"#46039f\"],[0.2222222222222222,\"#7201a8\"],[0.3333333333333333,\"#9c179e\"],[0.4444444444444444,\"#bd3786\"],[0.5555555555555556,\"#d8576b\"],[0.6666666666666666,\"#ed7953\"],[0.7777777777777778,\"#fb9f3a\"],[0.8888888888888888,\"#fdca26\"],[1.0,\"#f0f921\"]],\"sequentialminus\":[[0.0,\"#0d0887\"],[0.1111111111111111,\"#46039f\"],[0.2222222222222222,\"#7201a8\"],[0.3333333333333333,\"#9c179e\"],[0.4444444444444444,\"#bd3786\"],[0.5555555555555556,\"#d8576b\"],[0.6666666666666666,\"#ed7953\"],[0.7777777777777778,\"#fb9f3a\"],[0.8888888888888888,\"#fdca26\"],[1.0,\"#f0f921\"]]},\"colorway\":[\"#636efa\",\"#EF553B\",\"#00cc96\",\"#ab63fa\",\"#FFA15A\",\"#19d3f3\",\"#FF6692\",\"#B6E880\",\"#FF97FF\",\"#FECB52\"],\"font\":{\"color\":\"#2a3f5f\"},\"geo\":{\"bgcolor\":\"white\",\"lakecolor\":\"white\",\"landcolor\":\"#E5ECF6\",\"showlakes\":true,\"showland\":true,\"subunitcolor\":\"white\"},\"hoverlabel\":{\"align\":\"left\"},\"hovermode\":\"closest\",\"mapbox\":{\"style\":\"light\"},\"paper_bgcolor\":\"white\",\"plot_bgcolor\":\"#E5ECF6\",\"polar\":{\"angularaxis\":{\"gridcolor\":\"white\",\"linecolor\":\"white\",\"ticks\":\"\"},\"bgcolor\":\"#E5ECF6\",\"radialaxis\":{\"gridcolor\":\"white\",\"linecolor\":\"white\",\"ticks\":\"\"}},\"scene\":{\"xaxis\":{\"backgroundcolor\":\"#E5ECF6\",\"gridcolor\":\"white\",\"gridwidth\":2,\"linecolor\":\"white\",\"showbackground\":true,\"ticks\":\"\",\"zerolinecolor\":\"white\"},\"yaxis\":{\"backgroundcolor\":\"#E5ECF6\",\"gridcolor\":\"white\",\"gridwidth\":2,\"linecolor\":\"white\",\"showbackground\":true,\"ticks\":\"\",\"zerolinecolor\":\"white\"},\"zaxis\":{\"backgroundcolor\":\"#E5ECF6\",\"gridcolor\":\"white\",\"gridwidth\":2,\"linecolor\":\"white\",\"showbackground\":true,\"ticks\":\"\",\"zerolinecolor\":\"white\"}},\"shapedefaults\":{\"line\":{\"color\":\"#2a3f5f\"}},\"ternary\":{\"aaxis\":{\"gridcolor\":\"white\",\"linecolor\":\"white\",\"ticks\":\"\"},\"baxis\":{\"gridcolor\":\"white\",\"linecolor\":\"white\",\"ticks\":\"\"},\"bgcolor\":\"#E5ECF6\",\"caxis\":{\"gridcolor\":\"white\",\"linecolor\":\"white\",\"ticks\":\"\"}},\"title\":{\"x\":0.05},\"xaxis\":{\"automargin\":true,\"gridcolor\":\"white\",\"linecolor\":\"white\",\"ticks\":\"\",\"title\":{\"standoff\":15},\"zerolinecolor\":\"white\",\"zerolinewidth\":2},\"yaxis\":{\"automargin\":true,\"gridcolor\":\"white\",\"linecolor\":\"white\",\"ticks\":\"\",\"title\":{\"standoff\":15},\"zerolinecolor\":\"white\",\"zerolinewidth\":2}}}},                        {\"responsive\": true}                    ).then(function(){\n",
       "                            \n",
       "var gd = document.getElementById('a794c1ae-417b-489f-a3bc-349e09ffe684');\n",
       "var x = new MutationObserver(function (mutations, observer) {{\n",
       "        var display = window.getComputedStyle(gd).display;\n",
       "        if (!display || display === 'none') {{\n",
       "            console.log([gd, 'removed!']);\n",
       "            Plotly.purge(gd);\n",
       "            observer.disconnect();\n",
       "        }}\n",
       "}});\n",
       "\n",
       "// Listen for the removal of the full notebook cells\n",
       "var notebookContainer = gd.closest('#notebook-container');\n",
       "if (notebookContainer) {{\n",
       "    x.observe(notebookContainer, {childList: true});\n",
       "}}\n",
       "\n",
       "// Listen for the clearing of the current output cell\n",
       "var outputEl = gd.closest('.output');\n",
       "if (outputEl) {{\n",
       "    x.observe(outputEl, {childList: true});\n",
       "}}\n",
       "\n",
       "                        })                };                });            </script>        </div>"
      ]
     },
     "metadata": {},
     "output_type": "display_data"
    }
   ],
   "source": [
    "# Crear una lista con los resultados de PRC de diferentes modelos\n",
    "prc_scores = [dfPRC_log, dfPRC_nb, dfPRC_svc, dfPRC_lda, dfPRC_qda]\n",
    "\n",
    "# Concatenar los resultados de PRC en un solo DataFrame\n",
    "df_prc = pd.concat(prc_scores, axis=0)\n",
    "\n",
    "# Crear una lista vacía para almacenar las trazas de los modelos\n",
    "traces = []\n",
    "\n",
    "# Iterar sobre los modelos únicos en el DataFrame df_prc\n",
    "# Cada modelo representa una capa en el gráfico PRC\n",
    "for model in df_prc['Classifier'].unique():\n",
    "    # Filtrar los datos del modelo actual\n",
    "    model_data = df_prc[df_prc['Classifier'] == model]\n",
    "\n",
    "    # Crear una traza para el modelo actual\n",
    "    trace = go.Scatter(\n",
    "        x=model_data['Recall'],\n",
    "        y=model_data['Precision'],\n",
    "        mode='lines',\n",
    "        name=f'{model}'\n",
    "    )\n",
    "    # Agregar la traza a la lista de trazas\n",
    "    traces.append(trace)\n",
    "\n",
    "# Definir el diseño del gráfico\n",
    "layout = go.Layout(\n",
    "    title='Curvas Precision-Recall de los Clasificadores',\n",
    "    xaxis=dict(title='Recall'),\n",
    "    yaxis=dict(title='Precisión'),\n",
    "    showlegend=True,\n",
    "    legend=dict(x=0.65, y=0.0),\n",
    "    height=600,\n",
    "    width=700\n",
    ")\n",
    "\n",
    "# Añade un subtítulo\n",
    "layout['title']['text'] += '<br><span style=\"font-size: 12px; color: gray;\">Presiona sobre las leyendas para ocultar / mostrar las rectas</span>'\n",
    "\n",
    "# Crear la figura del gráfico con las trazas y el diseño\n",
    "fig = go.Figure(data=traces, layout=layout)\n",
    "\n",
    "# Mostrar el gráfico\n",
    "fig.show()"
   ]
  },
  {
   "cell_type": "markdown",
   "id": "240b2f01-a60e-4dde-adee-6b0e76dbb8eb",
   "metadata": {},
   "source": []
  },
  {
   "cell_type": "code",
   "execution_count": 21,
   "id": "138f2b0c-6e9c-42d2-9f9f-a4f559641f25",
   "metadata": {},
   "outputs": [
    {
     "data": {
      "application/vnd.plotly.v1+json": {
       "config": {
        "plotlyServerURL": "https://plot.ly"
       },
       "data": [
        {
         "line": {
          "color": "black",
          "dash": "dash"
         },
         "mode": "lines",
         "name": "Clasificador Aleatorio",
         "type": "scatter",
         "x": [
          0,
          1
         ],
         "y": [
          0,
          1
         ]
        },
        {
         "mode": "lines",
         "name": "LogisticRegression (AUC = 0.80)",
         "type": "scatter",
         "x": [
          0,
          0,
          0,
          0.1388888888888889,
          0.1388888888888889,
          0.16666666666666666,
          0.16666666666666666,
          0.19444444444444445,
          0.19444444444444445,
          0.2222222222222222,
          0.2222222222222222,
          0.3611111111111111,
          0.3611111111111111,
          1
         ],
         "y": [
          0,
          0.058823529411764705,
          0.17647058823529413,
          0.17647058823529413,
          0.29411764705882354,
          0.29411764705882354,
          0.4117647058823529,
          0.4117647058823529,
          0.6470588235294118,
          0.6470588235294118,
          0.9411764705882353,
          0.9411764705882353,
          1,
          1
         ]
        },
        {
         "mode": "lines",
         "name": "GaussianNB (AUC = 0.79)",
         "type": "scatter",
         "visible": "legendonly",
         "x": [
          0,
          0,
          0,
          0.08333333333333333,
          0.08333333333333333,
          0.1388888888888889,
          0.1388888888888889,
          0.16666666666666666,
          0.16666666666666666,
          0.19444444444444445,
          0.19444444444444445,
          0.2222222222222222,
          0.2222222222222222,
          0.25,
          0.25,
          0.2777777777777778,
          0.2777777777777778,
          0.3055555555555556,
          0.3055555555555556,
          0.9444444444444444,
          1
         ],
         "y": [
          0,
          0.058823529411764705,
          0.17647058823529413,
          0.17647058823529413,
          0.23529411764705882,
          0.23529411764705882,
          0.29411764705882354,
          0.29411764705882354,
          0.47058823529411764,
          0.47058823529411764,
          0.5882352941176471,
          0.5882352941176471,
          0.7058823529411765,
          0.7058823529411765,
          0.8823529411764706,
          0.8823529411764706,
          0.9411764705882353,
          0.9411764705882353,
          1,
          1,
          1
         ]
        },
        {
         "mode": "lines",
         "name": "SVC (AUC = 0.74)",
         "type": "scatter",
         "x": [
          0,
          0.027777777777777776,
          0.08333333333333333,
          0.08333333333333333,
          0.1388888888888889,
          0.1388888888888889,
          0.19444444444444445,
          0.19444444444444445,
          0.2222222222222222,
          0.2222222222222222,
          0.25,
          0.25,
          1
         ],
         "y": [
          0,
          0,
          0,
          0.17647058823529413,
          0.17647058823529413,
          0.5294117647058824,
          0.5294117647058824,
          0.6470588235294118,
          0.6470588235294118,
          0.8235294117647058,
          0.8235294117647058,
          1,
          1
         ]
        },
        {
         "mode": "lines",
         "name": "LinearDiscriminantAnalysis (AUC = 0.79)",
         "type": "scatter",
         "visible": true,
         "x": [
          0,
          0,
          0,
          0.1388888888888889,
          0.1388888888888889,
          0.16666666666666666,
          0.16666666666666666,
          0.19444444444444445,
          0.19444444444444445,
          0.2222222222222222,
          0.2222222222222222,
          0.3888888888888889,
          0.3888888888888889,
          1
         ],
         "y": [
          0,
          0.058823529411764705,
          0.17647058823529413,
          0.17647058823529413,
          0.23529411764705882,
          0.23529411764705882,
          0.47058823529411764,
          0.47058823529411764,
          0.8823529411764706,
          0.8823529411764706,
          0.9411764705882353,
          0.9411764705882353,
          1,
          1
         ]
        },
        {
         "mode": "lines",
         "name": "QuadraticDiscriminantAnalysis (AUC = 0.62)",
         "type": "scatter",
         "visible": "legendonly",
         "x": [
          0,
          0,
          0,
          0.05555555555555555,
          0.05555555555555555,
          0.08333333333333333,
          0.08333333333333333,
          0.1388888888888889,
          0.1388888888888889,
          0.19444444444444445,
          0.19444444444444445,
          0.25,
          0.25,
          0.2777777777777778,
          0.2777777777777778,
          0.3055555555555556,
          0.3055555555555556,
          0.3611111111111111,
          0.3611111111111111,
          0.6388888888888888,
          0.6388888888888888,
          0.6944444444444444,
          0.6944444444444444,
          1
         ],
         "y": [
          0,
          0.058823529411764705,
          0.11764705882352941,
          0.11764705882352941,
          0.23529411764705882,
          0.23529411764705882,
          0.29411764705882354,
          0.29411764705882354,
          0.35294117647058826,
          0.35294117647058826,
          0.5294117647058824,
          0.5294117647058824,
          0.5882352941176471,
          0.5882352941176471,
          0.6470588235294118,
          0.6470588235294118,
          0.7647058823529411,
          0.7647058823529411,
          0.8235294117647058,
          0.8235294117647058,
          0.9411764705882353,
          0.9411764705882353,
          1,
          1
         ]
        }
       ],
       "layout": {
        "height": 700,
        "legend": {
         "x": 0.52,
         "y": 0
        },
        "showlegend": true,
        "template": {
         "data": {
          "bar": [
           {
            "error_x": {
             "color": "#2a3f5f"
            },
            "error_y": {
             "color": "#2a3f5f"
            },
            "marker": {
             "line": {
              "color": "#E5ECF6",
              "width": 0.5
             },
             "pattern": {
              "fillmode": "overlay",
              "size": 10,
              "solidity": 0.2
             }
            },
            "type": "bar"
           }
          ],
          "barpolar": [
           {
            "marker": {
             "line": {
              "color": "#E5ECF6",
              "width": 0.5
             },
             "pattern": {
              "fillmode": "overlay",
              "size": 10,
              "solidity": 0.2
             }
            },
            "type": "barpolar"
           }
          ],
          "carpet": [
           {
            "aaxis": {
             "endlinecolor": "#2a3f5f",
             "gridcolor": "white",
             "linecolor": "white",
             "minorgridcolor": "white",
             "startlinecolor": "#2a3f5f"
            },
            "baxis": {
             "endlinecolor": "#2a3f5f",
             "gridcolor": "white",
             "linecolor": "white",
             "minorgridcolor": "white",
             "startlinecolor": "#2a3f5f"
            },
            "type": "carpet"
           }
          ],
          "choropleth": [
           {
            "colorbar": {
             "outlinewidth": 0,
             "ticks": ""
            },
            "type": "choropleth"
           }
          ],
          "contour": [
           {
            "colorbar": {
             "outlinewidth": 0,
             "ticks": ""
            },
            "colorscale": [
             [
              0,
              "#0d0887"
             ],
             [
              0.1111111111111111,
              "#46039f"
             ],
             [
              0.2222222222222222,
              "#7201a8"
             ],
             [
              0.3333333333333333,
              "#9c179e"
             ],
             [
              0.4444444444444444,
              "#bd3786"
             ],
             [
              0.5555555555555556,
              "#d8576b"
             ],
             [
              0.6666666666666666,
              "#ed7953"
             ],
             [
              0.7777777777777778,
              "#fb9f3a"
             ],
             [
              0.8888888888888888,
              "#fdca26"
             ],
             [
              1,
              "#f0f921"
             ]
            ],
            "type": "contour"
           }
          ],
          "contourcarpet": [
           {
            "colorbar": {
             "outlinewidth": 0,
             "ticks": ""
            },
            "type": "contourcarpet"
           }
          ],
          "heatmap": [
           {
            "colorbar": {
             "outlinewidth": 0,
             "ticks": ""
            },
            "colorscale": [
             [
              0,
              "#0d0887"
             ],
             [
              0.1111111111111111,
              "#46039f"
             ],
             [
              0.2222222222222222,
              "#7201a8"
             ],
             [
              0.3333333333333333,
              "#9c179e"
             ],
             [
              0.4444444444444444,
              "#bd3786"
             ],
             [
              0.5555555555555556,
              "#d8576b"
             ],
             [
              0.6666666666666666,
              "#ed7953"
             ],
             [
              0.7777777777777778,
              "#fb9f3a"
             ],
             [
              0.8888888888888888,
              "#fdca26"
             ],
             [
              1,
              "#f0f921"
             ]
            ],
            "type": "heatmap"
           }
          ],
          "heatmapgl": [
           {
            "colorbar": {
             "outlinewidth": 0,
             "ticks": ""
            },
            "colorscale": [
             [
              0,
              "#0d0887"
             ],
             [
              0.1111111111111111,
              "#46039f"
             ],
             [
              0.2222222222222222,
              "#7201a8"
             ],
             [
              0.3333333333333333,
              "#9c179e"
             ],
             [
              0.4444444444444444,
              "#bd3786"
             ],
             [
              0.5555555555555556,
              "#d8576b"
             ],
             [
              0.6666666666666666,
              "#ed7953"
             ],
             [
              0.7777777777777778,
              "#fb9f3a"
             ],
             [
              0.8888888888888888,
              "#fdca26"
             ],
             [
              1,
              "#f0f921"
             ]
            ],
            "type": "heatmapgl"
           }
          ],
          "histogram": [
           {
            "marker": {
             "pattern": {
              "fillmode": "overlay",
              "size": 10,
              "solidity": 0.2
             }
            },
            "type": "histogram"
           }
          ],
          "histogram2d": [
           {
            "colorbar": {
             "outlinewidth": 0,
             "ticks": ""
            },
            "colorscale": [
             [
              0,
              "#0d0887"
             ],
             [
              0.1111111111111111,
              "#46039f"
             ],
             [
              0.2222222222222222,
              "#7201a8"
             ],
             [
              0.3333333333333333,
              "#9c179e"
             ],
             [
              0.4444444444444444,
              "#bd3786"
             ],
             [
              0.5555555555555556,
              "#d8576b"
             ],
             [
              0.6666666666666666,
              "#ed7953"
             ],
             [
              0.7777777777777778,
              "#fb9f3a"
             ],
             [
              0.8888888888888888,
              "#fdca26"
             ],
             [
              1,
              "#f0f921"
             ]
            ],
            "type": "histogram2d"
           }
          ],
          "histogram2dcontour": [
           {
            "colorbar": {
             "outlinewidth": 0,
             "ticks": ""
            },
            "colorscale": [
             [
              0,
              "#0d0887"
             ],
             [
              0.1111111111111111,
              "#46039f"
             ],
             [
              0.2222222222222222,
              "#7201a8"
             ],
             [
              0.3333333333333333,
              "#9c179e"
             ],
             [
              0.4444444444444444,
              "#bd3786"
             ],
             [
              0.5555555555555556,
              "#d8576b"
             ],
             [
              0.6666666666666666,
              "#ed7953"
             ],
             [
              0.7777777777777778,
              "#fb9f3a"
             ],
             [
              0.8888888888888888,
              "#fdca26"
             ],
             [
              1,
              "#f0f921"
             ]
            ],
            "type": "histogram2dcontour"
           }
          ],
          "mesh3d": [
           {
            "colorbar": {
             "outlinewidth": 0,
             "ticks": ""
            },
            "type": "mesh3d"
           }
          ],
          "parcoords": [
           {
            "line": {
             "colorbar": {
              "outlinewidth": 0,
              "ticks": ""
             }
            },
            "type": "parcoords"
           }
          ],
          "pie": [
           {
            "automargin": true,
            "type": "pie"
           }
          ],
          "scatter": [
           {
            "marker": {
             "colorbar": {
              "outlinewidth": 0,
              "ticks": ""
             }
            },
            "type": "scatter"
           }
          ],
          "scatter3d": [
           {
            "line": {
             "colorbar": {
              "outlinewidth": 0,
              "ticks": ""
             }
            },
            "marker": {
             "colorbar": {
              "outlinewidth": 0,
              "ticks": ""
             }
            },
            "type": "scatter3d"
           }
          ],
          "scattercarpet": [
           {
            "marker": {
             "colorbar": {
              "outlinewidth": 0,
              "ticks": ""
             }
            },
            "type": "scattercarpet"
           }
          ],
          "scattergeo": [
           {
            "marker": {
             "colorbar": {
              "outlinewidth": 0,
              "ticks": ""
             }
            },
            "type": "scattergeo"
           }
          ],
          "scattergl": [
           {
            "marker": {
             "colorbar": {
              "outlinewidth": 0,
              "ticks": ""
             }
            },
            "type": "scattergl"
           }
          ],
          "scattermapbox": [
           {
            "marker": {
             "colorbar": {
              "outlinewidth": 0,
              "ticks": ""
             }
            },
            "type": "scattermapbox"
           }
          ],
          "scatterpolar": [
           {
            "marker": {
             "colorbar": {
              "outlinewidth": 0,
              "ticks": ""
             }
            },
            "type": "scatterpolar"
           }
          ],
          "scatterpolargl": [
           {
            "marker": {
             "colorbar": {
              "outlinewidth": 0,
              "ticks": ""
             }
            },
            "type": "scatterpolargl"
           }
          ],
          "scatterternary": [
           {
            "marker": {
             "colorbar": {
              "outlinewidth": 0,
              "ticks": ""
             }
            },
            "type": "scatterternary"
           }
          ],
          "surface": [
           {
            "colorbar": {
             "outlinewidth": 0,
             "ticks": ""
            },
            "colorscale": [
             [
              0,
              "#0d0887"
             ],
             [
              0.1111111111111111,
              "#46039f"
             ],
             [
              0.2222222222222222,
              "#7201a8"
             ],
             [
              0.3333333333333333,
              "#9c179e"
             ],
             [
              0.4444444444444444,
              "#bd3786"
             ],
             [
              0.5555555555555556,
              "#d8576b"
             ],
             [
              0.6666666666666666,
              "#ed7953"
             ],
             [
              0.7777777777777778,
              "#fb9f3a"
             ],
             [
              0.8888888888888888,
              "#fdca26"
             ],
             [
              1,
              "#f0f921"
             ]
            ],
            "type": "surface"
           }
          ],
          "table": [
           {
            "cells": {
             "fill": {
              "color": "#EBF0F8"
             },
             "line": {
              "color": "white"
             }
            },
            "header": {
             "fill": {
              "color": "#C8D4E3"
             },
             "line": {
              "color": "white"
             }
            },
            "type": "table"
           }
          ]
         },
         "layout": {
          "annotationdefaults": {
           "arrowcolor": "#2a3f5f",
           "arrowhead": 0,
           "arrowwidth": 1
          },
          "autotypenumbers": "strict",
          "coloraxis": {
           "colorbar": {
            "outlinewidth": 0,
            "ticks": ""
           }
          },
          "colorscale": {
           "diverging": [
            [
             0,
             "#8e0152"
            ],
            [
             0.1,
             "#c51b7d"
            ],
            [
             0.2,
             "#de77ae"
            ],
            [
             0.3,
             "#f1b6da"
            ],
            [
             0.4,
             "#fde0ef"
            ],
            [
             0.5,
             "#f7f7f7"
            ],
            [
             0.6,
             "#e6f5d0"
            ],
            [
             0.7,
             "#b8e186"
            ],
            [
             0.8,
             "#7fbc41"
            ],
            [
             0.9,
             "#4d9221"
            ],
            [
             1,
             "#276419"
            ]
           ],
           "sequential": [
            [
             0,
             "#0d0887"
            ],
            [
             0.1111111111111111,
             "#46039f"
            ],
            [
             0.2222222222222222,
             "#7201a8"
            ],
            [
             0.3333333333333333,
             "#9c179e"
            ],
            [
             0.4444444444444444,
             "#bd3786"
            ],
            [
             0.5555555555555556,
             "#d8576b"
            ],
            [
             0.6666666666666666,
             "#ed7953"
            ],
            [
             0.7777777777777778,
             "#fb9f3a"
            ],
            [
             0.8888888888888888,
             "#fdca26"
            ],
            [
             1,
             "#f0f921"
            ]
           ],
           "sequentialminus": [
            [
             0,
             "#0d0887"
            ],
            [
             0.1111111111111111,
             "#46039f"
            ],
            [
             0.2222222222222222,
             "#7201a8"
            ],
            [
             0.3333333333333333,
             "#9c179e"
            ],
            [
             0.4444444444444444,
             "#bd3786"
            ],
            [
             0.5555555555555556,
             "#d8576b"
            ],
            [
             0.6666666666666666,
             "#ed7953"
            ],
            [
             0.7777777777777778,
             "#fb9f3a"
            ],
            [
             0.8888888888888888,
             "#fdca26"
            ],
            [
             1,
             "#f0f921"
            ]
           ]
          },
          "colorway": [
           "#636efa",
           "#EF553B",
           "#00cc96",
           "#ab63fa",
           "#FFA15A",
           "#19d3f3",
           "#FF6692",
           "#B6E880",
           "#FF97FF",
           "#FECB52"
          ],
          "font": {
           "color": "#2a3f5f"
          },
          "geo": {
           "bgcolor": "white",
           "lakecolor": "white",
           "landcolor": "#E5ECF6",
           "showlakes": true,
           "showland": true,
           "subunitcolor": "white"
          },
          "hoverlabel": {
           "align": "left"
          },
          "hovermode": "closest",
          "mapbox": {
           "style": "light"
          },
          "paper_bgcolor": "white",
          "plot_bgcolor": "#E5ECF6",
          "polar": {
           "angularaxis": {
            "gridcolor": "white",
            "linecolor": "white",
            "ticks": ""
           },
           "bgcolor": "#E5ECF6",
           "radialaxis": {
            "gridcolor": "white",
            "linecolor": "white",
            "ticks": ""
           }
          },
          "scene": {
           "xaxis": {
            "backgroundcolor": "#E5ECF6",
            "gridcolor": "white",
            "gridwidth": 2,
            "linecolor": "white",
            "showbackground": true,
            "ticks": "",
            "zerolinecolor": "white"
           },
           "yaxis": {
            "backgroundcolor": "#E5ECF6",
            "gridcolor": "white",
            "gridwidth": 2,
            "linecolor": "white",
            "showbackground": true,
            "ticks": "",
            "zerolinecolor": "white"
           },
           "zaxis": {
            "backgroundcolor": "#E5ECF6",
            "gridcolor": "white",
            "gridwidth": 2,
            "linecolor": "white",
            "showbackground": true,
            "ticks": "",
            "zerolinecolor": "white"
           }
          },
          "shapedefaults": {
           "line": {
            "color": "#2a3f5f"
           }
          },
          "ternary": {
           "aaxis": {
            "gridcolor": "white",
            "linecolor": "white",
            "ticks": ""
           },
           "baxis": {
            "gridcolor": "white",
            "linecolor": "white",
            "ticks": ""
           },
           "bgcolor": "#E5ECF6",
           "caxis": {
            "gridcolor": "white",
            "linecolor": "white",
            "ticks": ""
           }
          },
          "title": {
           "x": 0.05
          },
          "xaxis": {
           "automargin": true,
           "gridcolor": "white",
           "linecolor": "white",
           "ticks": "",
           "title": {
            "standoff": 15
           },
           "zerolinecolor": "white",
           "zerolinewidth": 2
          },
          "yaxis": {
           "automargin": true,
           "gridcolor": "white",
           "linecolor": "white",
           "ticks": "",
           "title": {
            "standoff": 15
           },
           "zerolinecolor": "white",
           "zerolinewidth": 2
          }
         }
        },
        "title": {
         "text": "Curvas ROC de los Clasificadores<br><span style=\"font-size: 12px; color: gray;\">Presiona sobre las leyendas para ocultar / mostrar las rectas</span>"
        },
        "width": 800,
        "xaxis": {
         "autorange": true,
         "range": [
          0,
          1
         ],
         "title": {
          "text": "Tasa de Falsos Positivos"
         },
         "type": "linear"
        },
        "yaxis": {
         "autorange": true,
         "range": [
          -0.05555555555555556,
          1.0555555555555556
         ],
         "title": {
          "text": "Tasa de Verdaderos Positivos"
         },
         "type": "linear"
        }
       }
      },
      "image/png": "[encoded data removed]",
      "text/html": [
       "<div>                            <div id=\"70edfda4-bcc6-4964-9c06-40955508e624\" class=\"plotly-graph-div\" style=\"height:700px; width:800px;\"></div>            <script type=\"text/javascript\">                require([\"plotly\"], function(Plotly) {                    window.PLOTLYENV=window.PLOTLYENV || {};                                    if (document.getElementById(\"70edfda4-bcc6-4964-9c06-40955508e624\")) {                    Plotly.newPlot(                        \"70edfda4-bcc6-4964-9c06-40955508e624\",                        [{\"line\":{\"color\":\"black\",\"dash\":\"dash\"},\"mode\":\"lines\",\"name\":\"Clasificador Aleatorio\",\"x\":[0,1],\"y\":[0,1],\"type\":\"scatter\"},{\"mode\":\"lines\",\"name\":\"LogisticRegression (AUC = 0.80)\",\"x\":[0.0,0.0,0.0,0.1388888888888889,0.1388888888888889,0.16666666666666666,0.16666666666666666,0.19444444444444445,0.19444444444444445,0.2222222222222222,0.2222222222222222,0.3611111111111111,0.3611111111111111,1.0],\"y\":[0.0,0.058823529411764705,0.17647058823529413,0.17647058823529413,0.29411764705882354,0.29411764705882354,0.4117647058823529,0.4117647058823529,0.6470588235294118,0.6470588235294118,0.9411764705882353,0.9411764705882353,1.0,1.0],\"type\":\"scatter\"},{\"mode\":\"lines\",\"name\":\"GaussianNB (AUC = 0.79)\",\"x\":[0.0,0.0,0.0,0.08333333333333333,0.08333333333333333,0.1388888888888889,0.1388888888888889,0.16666666666666666,0.16666666666666666,0.19444444444444445,0.19444444444444445,0.2222222222222222,0.2222222222222222,0.25,0.25,0.2777777777777778,0.2777777777777778,0.3055555555555556,0.3055555555555556,0.9444444444444444,1.0],\"y\":[0.0,0.058823529411764705,0.17647058823529413,0.17647058823529413,0.23529411764705882,0.23529411764705882,0.29411764705882354,0.29411764705882354,0.47058823529411764,0.47058823529411764,0.5882352941176471,0.5882352941176471,0.7058823529411765,0.7058823529411765,0.8823529411764706,0.8823529411764706,0.9411764705882353,0.9411764705882353,1.0,1.0,1.0],\"type\":\"scatter\"},{\"mode\":\"lines\",\"name\":\"SVC (AUC = 0.74)\",\"x\":[0.0,0.027777777777777776,0.08333333333333333,0.08333333333333333,0.1388888888888889,0.1388888888888889,0.19444444444444445,0.19444444444444445,0.2222222222222222,0.2222222222222222,0.25,0.25,1.0],\"y\":[0.0,0.0,0.0,0.17647058823529413,0.17647058823529413,0.5294117647058824,0.5294117647058824,0.6470588235294118,0.6470588235294118,0.8235294117647058,0.8235294117647058,1.0,1.0],\"type\":\"scatter\"},{\"mode\":\"lines\",\"name\":\"LinearDiscriminantAnalysis (AUC = 0.79)\",\"x\":[0.0,0.0,0.0,0.1388888888888889,0.1388888888888889,0.16666666666666666,0.16666666666666666,0.19444444444444445,0.19444444444444445,0.2222222222222222,0.2222222222222222,0.3888888888888889,0.3888888888888889,1.0],\"y\":[0.0,0.058823529411764705,0.17647058823529413,0.17647058823529413,0.23529411764705882,0.23529411764705882,0.47058823529411764,0.47058823529411764,0.8823529411764706,0.8823529411764706,0.9411764705882353,0.9411764705882353,1.0,1.0],\"type\":\"scatter\"},{\"mode\":\"lines\",\"name\":\"QuadraticDiscriminantAnalysis (AUC = 0.62)\",\"x\":[0.0,0.0,0.0,0.05555555555555555,0.05555555555555555,0.08333333333333333,0.08333333333333333,0.1388888888888889,0.1388888888888889,0.19444444444444445,0.19444444444444445,0.25,0.25,0.2777777777777778,0.2777777777777778,0.3055555555555556,0.3055555555555556,0.3611111111111111,0.3611111111111111,0.6388888888888888,0.6388888888888888,0.6944444444444444,0.6944444444444444,1.0],\"y\":[0.0,0.058823529411764705,0.11764705882352941,0.11764705882352941,0.23529411764705882,0.23529411764705882,0.29411764705882354,0.29411764705882354,0.35294117647058826,0.35294117647058826,0.5294117647058824,0.5294117647058824,0.5882352941176471,0.5882352941176471,0.6470588235294118,0.6470588235294118,0.7647058823529411,0.7647058823529411,0.8235294117647058,0.8235294117647058,0.9411764705882353,0.9411764705882353,1.0,1.0],\"type\":\"scatter\"}],                        {\"height\":700,\"legend\":{\"x\":0.52,\"y\":0.0},\"showlegend\":true,\"title\":{\"text\":\"Curvas ROC de los Clasificadores<br><span style=\\\"font-size: 12px; color: gray;\\\">Presiona sobre las leyendas para ocultar / mostrar las rectas</span>\"},\"width\":800,\"xaxis\":{\"title\":{\"text\":\"Tasa de Falsos Positivos\"}},\"yaxis\":{\"title\":{\"text\":\"Tasa de Verdaderos Positivos\"}},\"template\":{\"data\":{\"bar\":[{\"error_x\":{\"color\":\"#2a3f5f\"},\"error_y\":{\"color\":\"#2a3f5f\"},\"marker\":{\"line\":{\"color\":\"#E5ECF6\",\"width\":0.5},\"pattern\":{\"fillmode\":\"overlay\",\"size\":10,\"solidity\":0.2}},\"type\":\"bar\"}],\"barpolar\":[{\"marker\":{\"line\":{\"color\":\"#E5ECF6\",\"width\":0.5},\"pattern\":{\"fillmode\":\"overlay\",\"size\":10,\"solidity\":0.2}},\"type\":\"barpolar\"}],\"carpet\":[{\"aaxis\":{\"endlinecolor\":\"#2a3f5f\",\"gridcolor\":\"white\",\"linecolor\":\"white\",\"minorgridcolor\":\"white\",\"startlinecolor\":\"#2a3f5f\"},\"baxis\":{\"endlinecolor\":\"#2a3f5f\",\"gridcolor\":\"white\",\"linecolor\":\"white\",\"minorgridcolor\":\"white\",\"startlinecolor\":\"#2a3f5f\"},\"type\":\"carpet\"}],\"choropleth\":[{\"colorbar\":{\"outlinewidth\":0,\"ticks\":\"\"},\"type\":\"choropleth\"}],\"contour\":[{\"colorbar\":{\"outlinewidth\":0,\"ticks\":\"\"},\"colorscale\":[[0.0,\"#0d0887\"],[0.1111111111111111,\"#46039f\"],[0.2222222222222222,\"#7201a8\"],[0.3333333333333333,\"#9c179e\"],[0.4444444444444444,\"#bd3786\"],[0.5555555555555556,\"#d8576b\"],[0.6666666666666666,\"#ed7953\"],[0.7777777777777778,\"#fb9f3a\"],[0.8888888888888888,\"#fdca26\"],[1.0,\"#f0f921\"]],\"type\":\"contour\"}],\"contourcarpet\":[{\"colorbar\":{\"outlinewidth\":0,\"ticks\":\"\"},\"type\":\"contourcarpet\"}],\"heatmap\":[{\"colorbar\":{\"outlinewidth\":0,\"ticks\":\"\"},\"colorscale\":[[0.0,\"#0d0887\"],[0.1111111111111111,\"#46039f\"],[0.2222222222222222,\"#7201a8\"],[0.3333333333333333,\"#9c179e\"],[0.4444444444444444,\"#bd3786\"],[0.5555555555555556,\"#d8576b\"],[0.6666666666666666,\"#ed7953\"],[0.7777777777777778,\"#fb9f3a\"],[0.8888888888888888,\"#fdca26\"],[1.0,\"#f0f921\"]],\"type\":\"heatmap\"}],\"heatmapgl\":[{\"colorbar\":{\"outlinewidth\":0,\"ticks\":\"\"},\"colorscale\":[[0.0,\"#0d0887\"],[0.1111111111111111,\"#46039f\"],[0.2222222222222222,\"#7201a8\"],[0.3333333333333333,\"#9c179e\"],[0.4444444444444444,\"#bd3786\"],[0.5555555555555556,\"#d8576b\"],[0.6666666666666666,\"#ed7953\"],[0.7777777777777778,\"#fb9f3a\"],[0.8888888888888888,\"#fdca26\"],[1.0,\"#f0f921\"]],\"type\":\"heatmapgl\"}],\"histogram\":[{\"marker\":{\"pattern\":{\"fillmode\":\"overlay\",\"size\":10,\"solidity\":0.2}},\"type\":\"histogram\"}],\"histogram2d\":[{\"colorbar\":{\"outlinewidth\":0,\"ticks\":\"\"},\"colorscale\":[[0.0,\"#0d0887\"],[0.1111111111111111,\"#46039f\"],[0.2222222222222222,\"#7201a8\"],[0.3333333333333333,\"#9c179e\"],[0.4444444444444444,\"#bd3786\"],[0.5555555555555556,\"#d8576b\"],[0.6666666666666666,\"#ed7953\"],[0.7777777777777778,\"#fb9f3a\"],[0.8888888888888888,\"#fdca26\"],[1.0,\"#f0f921\"]],\"type\":\"histogram2d\"}],\"histogram2dcontour\":[{\"colorbar\":{\"outlinewidth\":0,\"ticks\":\"\"},\"colorscale\":[[0.0,\"#0d0887\"],[0.1111111111111111,\"#46039f\"],[0.2222222222222222,\"#7201a8\"],[0.3333333333333333,\"#9c179e\"],[0.4444444444444444,\"#bd3786\"],[0.5555555555555556,\"#d8576b\"],[0.6666666666666666,\"#ed7953\"],[0.7777777777777778,\"#fb9f3a\"],[0.8888888888888888,\"#fdca26\"],[1.0,\"#f0f921\"]],\"type\":\"histogram2dcontour\"}],\"mesh3d\":[{\"colorbar\":{\"outlinewidth\":0,\"ticks\":\"\"},\"type\":\"mesh3d\"}],\"parcoords\":[{\"line\":{\"colorbar\":{\"outlinewidth\":0,\"ticks\":\"\"}},\"type\":\"parcoords\"}],\"pie\":[{\"automargin\":true,\"type\":\"pie\"}],\"scatter\":[{\"marker\":{\"colorbar\":{\"outlinewidth\":0,\"ticks\":\"\"}},\"type\":\"scatter\"}],\"scatter3d\":[{\"line\":{\"colorbar\":{\"outlinewidth\":0,\"ticks\":\"\"}},\"marker\":{\"colorbar\":{\"outlinewidth\":0,\"ticks\":\"\"}},\"type\":\"scatter3d\"}],\"scattercarpet\":[{\"marker\":{\"colorbar\":{\"outlinewidth\":0,\"ticks\":\"\"}},\"type\":\"scattercarpet\"}],\"scattergeo\":[{\"marker\":{\"colorbar\":{\"outlinewidth\":0,\"ticks\":\"\"}},\"type\":\"scattergeo\"}],\"scattergl\":[{\"marker\":{\"colorbar\":{\"outlinewidth\":0,\"ticks\":\"\"}},\"type\":\"scattergl\"}],\"scattermapbox\":[{\"marker\":{\"colorbar\":{\"outlinewidth\":0,\"ticks\":\"\"}},\"type\":\"scattermapbox\"}],\"scatterpolar\":[{\"marker\":{\"colorbar\":{\"outlinewidth\":0,\"ticks\":\"\"}},\"type\":\"scatterpolar\"}],\"scatterpolargl\":[{\"marker\":{\"colorbar\":{\"outlinewidth\":0,\"ticks\":\"\"}},\"type\":\"scatterpolargl\"}],\"scatterternary\":[{\"marker\":{\"colorbar\":{\"outlinewidth\":0,\"ticks\":\"\"}},\"type\":\"scatterternary\"}],\"surface\":[{\"colorbar\":{\"outlinewidth\":0,\"ticks\":\"\"},\"colorscale\":[[0.0,\"#0d0887\"],[0.1111111111111111,\"#46039f\"],[0.2222222222222222,\"#7201a8\"],[0.3333333333333333,\"#9c179e\"],[0.4444444444444444,\"#bd3786\"],[0.5555555555555556,\"#d8576b\"],[0.6666666666666666,\"#ed7953\"],[0.7777777777777778,\"#fb9f3a\"],[0.8888888888888888,\"#fdca26\"],[1.0,\"#f0f921\"]],\"type\":\"surface\"}],\"table\":[{\"cells\":{\"fill\":{\"color\":\"#EBF0F8\"},\"line\":{\"color\":\"white\"}},\"header\":{\"fill\":{\"color\":\"#C8D4E3\"},\"line\":{\"color\":\"white\"}},\"type\":\"table\"}]},\"layout\":{\"annotationdefaults\":{\"arrowcolor\":\"#2a3f5f\",\"arrowhead\":0,\"arrowwidth\":1},\"autotypenumbers\":\"strict\",\"coloraxis\":{\"colorbar\":{\"outlinewidth\":0,\"ticks\":\"\"}},\"colorscale\":{\"diverging\":[[0,\"#8e0152\"],[0.1,\"#c51b7d\"],[0.2,\"#de77ae\"],[0.3,\"#f1b6da\"],[0.4,\"#fde0ef\"],[0.5,\"#f7f7f7\"],[0.6,\"#e6f5d0\"],[0.7,\"#b8e186\"],[0.8,\"#7fbc41\"],[0.9,\"#4d9221\"],[1,\"#276419\"]],\"sequential\":[[0.0,\"#0d0887\"],[0.1111111111111111,\"#46039f\"],[0.2222222222222222,\"#7201a8\"],[0.3333333333333333,\"#9c179e\"],[0.4444444444444444,\"#bd3786\"],[0.5555555555555556,\"#d8576b\"],[0.6666666666666666,\"#ed7953\"],[0.7777777777777778,\"#fb9f3a\"],[0.8888888888888888,\"#fdca26\"],[1.0,\"#f0f921\"]],\"sequentialminus\":[[0.0,\"#0d0887\"],[0.1111111111111111,\"#46039f\"],[0.2222222222222222,\"#7201a8\"],[0.3333333333333333,\"#9c179e\"],[0.4444444444444444,\"#bd3786\"],[0.5555555555555556,\"#d8576b\"],[0.6666666666666666,\"#ed7953\"],[0.7777777777777778,\"#fb9f3a\"],[0.8888888888888888,\"#fdca26\"],[1.0,\"#f0f921\"]]},\"colorway\":[\"#636efa\",\"#EF553B\",\"#00cc96\",\"#ab63fa\",\"#FFA15A\",\"#19d3f3\",\"#FF6692\",\"#B6E880\",\"#FF97FF\",\"#FECB52\"],\"font\":{\"color\":\"#2a3f5f\"},\"geo\":{\"bgcolor\":\"white\",\"lakecolor\":\"white\",\"landcolor\":\"#E5ECF6\",\"showlakes\":true,\"showland\":true,\"subunitcolor\":\"white\"},\"hoverlabel\":{\"align\":\"left\"},\"hovermode\":\"closest\",\"mapbox\":{\"style\":\"light\"},\"paper_bgcolor\":\"white\",\"plot_bgcolor\":\"#E5ECF6\",\"polar\":{\"angularaxis\":{\"gridcolor\":\"white\",\"linecolor\":\"white\",\"ticks\":\"\"},\"bgcolor\":\"#E5ECF6\",\"radialaxis\":{\"gridcolor\":\"white\",\"linecolor\":\"white\",\"ticks\":\"\"}},\"scene\":{\"xaxis\":{\"backgroundcolor\":\"#E5ECF6\",\"gridcolor\":\"white\",\"gridwidth\":2,\"linecolor\":\"white\",\"showbackground\":true,\"ticks\":\"\",\"zerolinecolor\":\"white\"},\"yaxis\":{\"backgroundcolor\":\"#E5ECF6\",\"gridcolor\":\"white\",\"gridwidth\":2,\"linecolor\":\"white\",\"showbackground\":true,\"ticks\":\"\",\"zerolinecolor\":\"white\"},\"zaxis\":{\"backgroundcolor\":\"#E5ECF6\",\"gridcolor\":\"white\",\"gridwidth\":2,\"linecolor\":\"white\",\"showbackground\":true,\"ticks\":\"\",\"zerolinecolor\":\"white\"}},\"shapedefaults\":{\"line\":{\"color\":\"#2a3f5f\"}},\"ternary\":{\"aaxis\":{\"gridcolor\":\"white\",\"linecolor\":\"white\",\"ticks\":\"\"},\"baxis\":{\"gridcolor\":\"white\",\"linecolor\":\"white\",\"ticks\":\"\"},\"bgcolor\":\"#E5ECF6\",\"caxis\":{\"gridcolor\":\"white\",\"linecolor\":\"white\",\"ticks\":\"\"}},\"title\":{\"x\":0.05},\"xaxis\":{\"automargin\":true,\"gridcolor\":\"white\",\"linecolor\":\"white\",\"ticks\":\"\",\"title\":{\"standoff\":15},\"zerolinecolor\":\"white\",\"zerolinewidth\":2},\"yaxis\":{\"automargin\":true,\"gridcolor\":\"white\",\"linecolor\":\"white\",\"ticks\":\"\",\"title\":{\"standoff\":15},\"zerolinecolor\":\"white\",\"zerolinewidth\":2}}}},                        {\"responsive\": true}                    ).then(function(){\n",
       "                            \n",
       "var gd = document.getElementById('70edfda4-bcc6-4964-9c06-40955508e624');\n",
       "var x = new MutationObserver(function (mutations, observer) {{\n",
       "        var display = window.getComputedStyle(gd).display;\n",
       "        if (!display || display === 'none') {{\n",
       "            console.log([gd, 'removed!']);\n",
       "            Plotly.purge(gd);\n",
       "            observer.disconnect();\n",
       "        }}\n",
       "}});\n",
       "\n",
       "// Listen for the removal of the full notebook cells\n",
       "var notebookContainer = gd.closest('#notebook-container');\n",
       "if (notebookContainer) {{\n",
       "    x.observe(notebookContainer, {childList: true});\n",
       "}}\n",
       "\n",
       "// Listen for the clearing of the current output cell\n",
       "var outputEl = gd.closest('.output');\n",
       "if (outputEl) {{\n",
       "    x.observe(outputEl, {childList: true});\n",
       "}}\n",
       "\n",
       "                        })                };                });            </script>        </div>"
      ]
     },
     "metadata": {},
     "output_type": "display_data"
    }
   ],
   "source": [
    "# Crear una lista con los resultados de ROC de diferentes modelos\n",
    "roc_scores = [dfRoc_log, dfRoc_nb, dfRoc_svc, dfRoc_lda, dfRoc_qda]\n",
    "\n",
    "# Concatenar los resultados de ROC en un solo DataFrame\n",
    "df_roc = pd.concat(roc_scores, axis=0)\n",
    "\n",
    "# Crear una línea diagonal para el clasificador aleatorio en el gráfico\n",
    "diagonal_line = go.Scatter(\n",
    "    x=[0, 1],\n",
    "    y=[0, 1],\n",
    "    mode='lines',\n",
    "    name='Clasificador Aleatorio',\n",
    "    line=dict(color='black', dash='dash')\n",
    ")\n",
    "\n",
    "# Crear una lista vacía para almacenar las capas de los modelos\n",
    "capas = []\n",
    "\n",
    "# Iterar sobre los modelos únicos en el DataFrame df_roc\n",
    "# Cada modelo representa una capa en el gráfico ROC\n",
    "for model in df_roc['Classifier'].unique():\n",
    "    # Filtrar los datos del modelo actual\n",
    "    model_data = df_roc[df_roc['Classifier'] == model]\n",
    "    # Obtener el valor de ROC-AUC para el modelo\n",
    "    roc_auc = model_data['roc-auc'].iloc[0]\n",
    "\n",
    "    # Crear una capa para el modelo actual\n",
    "    capa = go.Scatter(\n",
    "        x=model_data['FPR'],\n",
    "        y=model_data['TPR'],\n",
    "        mode='lines',\n",
    "        name=f'{model} (AUC = {roc_auc:.2f})'\n",
    "    )\n",
    "    # Agregar la capa a la lista de capas\n",
    "    capas.append(capa)\n",
    "\n",
    "# Definir el diseño del gráfico\n",
    "layout = go.Layout(\n",
    "    title='Curvas ROC de los Clasificadores',\n",
    "    xaxis=dict(title='Tasa de Falsos Positivos'),\n",
    "    yaxis=dict(title='Tasa de Verdaderos Positivos'),\n",
    "    showlegend=True,\n",
    "    legend=dict(x=0.52, y=0.0),\n",
    "    height=700,\n",
    "    width=800\n",
    ")\n",
    "\n",
    "# Añade un subtítulo\n",
    "layout['title']['text'] += '<br><span style=\"font-size: 12px; color: gray;\">Presiona sobre las leyendas para ocultar / mostrar las rectas</span>'\n",
    "\n",
    "# Crear la figura del gráfico con las capas y el diseño\n",
    "fig = go.Figure(data=[diagonal_line] + capas, layout=layout)\n",
    "\n",
    "# Mostrar el gráfico\n",
    "fig.show()"
   ]
  },
  {
   "cell_type": "markdown",
   "id": "9551a5c7-ca8b-49aa-9f7a-9e92ec17ed9c",
   "metadata": {},
   "source": [
    "Al observar la curva ROC, notamos que la regresión logística, el LDA y Naive Bayes son los clasificadores con menor tasa de falsos positivos y mayor tasa de verdaderos positivos. Por otro lado, el clasificador QDA presenta la mayor tasa de falsos positivos y la menor tasa de verdaderos positivos. Esto indica que los tres primeros clasificadores tienen un mejor rendimiento en la capacidad de distinguir entre las clases positiva y negativa, mientras que el clasificador QDA tiene una tasa más alta de clasificar erróneamente ejemplos negativos como positivos.\n",
    "\n",
    "Por otro lado, al observar la curva de Precisión-Recall, notamos que el QDA presenta valores más bajos de precisión cuando el Recall es mayor a 0.4, lo que indica que puede tener una mayor proporción de falsos positivos. Los demás clasificadores son similares en términos de Precisión-Recall."
   ]
  },
  {
   "cell_type": "markdown",
   "id": "51d97146-296c-4658-baf3-9f27634ecb26",
   "metadata": {},
   "source": [
    "## Conclusión"
   ]
  },
  {
   "cell_type": "markdown",
   "id": "5dded93d-9b56-4e15-b2e1-846782a8a131",
   "metadata": {},
   "source": [
    "Para predecir la presencia o ausencia de angina luego de hacer ejercicio, se utilizaron 5 clasificadores, Naive Bayes, SVC, LDA, QDA y regresión Logística. En términos de calidad de clasificador general, la regresión logística es el que presenta mejor rendimiento, dado que tiene valores altos en cada una de las métricas, sin embargo, se puede mejorar al aumentar el tamaño de muestra se puede mejorar su desempeño.\n",
    "\n",
    "Del mismo modo, es importante observar los clasificadores SVC y LDA, los cuales presentan métricas con valores altos y buena capacidad de aprendizaje a medida que aumenta el tamaño del conjunto de entrenamiento. Sin embargo, el clasificador SVC presenta menor area bajo la curva ROC, lo cual indica mayor tasa de falsos positivos y/o menortasa de verdaderos positivos en comparación con el clasificador LDA o regresión logística.\n",
    "\n",
    "Ahora bien, el clasificador QDA y Naive Bayes clasificaron todas las instancias positivas correctas, sin embargo, los niveles de accuracy, precision y Area bajo la curva ROC son menores que los demas clasificadores, por lo que es posible que no tengan la capacidad para generalizar la presencia de angina y tengan problemas al clasificar correctamente las instancais negativas. Esto se puede mejorar bajando el umbral a la hora de clasificar los datos."
   ]
  }
 ],
 "metadata": {
  "kernelspec": {
   "display_name": "Python 3 (ipykernel)",
   "language": "python",
   "name": "python3"
  },
  "language_info": {
   "codemirror_mode": {
    "name": "ipython",
    "version": 3
   },
   "file_extension": ".py",
   "mimetype": "text/x-python",
   "name": "python",
   "nbconvert_exporter": "python",
   "pygments_lexer": "ipython3",
   "version": "3.9.12"
  },
  "toc-autonumbering": false
 },
 "nbformat": 4,
 "nbformat_minor": 5
}
